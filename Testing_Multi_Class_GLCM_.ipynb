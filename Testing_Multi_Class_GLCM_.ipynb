{
  "nbformat": 4,
  "nbformat_minor": 0,
  "metadata": {
    "colab": {
      "provenance": [],
      "collapsed_sections": [],
      "mount_file_id": "1FcSuWslYtTo_O5hgjt9tEEvdeeyus1cP",
      "authorship_tag": "ABX9TyOgx0iBpSp1y3WE8hGaTa2S",
      "include_colab_link": true
    },
    "kernelspec": {
      "name": "python3",
      "display_name": "Python 3"
    },
    "language_info": {
      "name": "python"
    }
  },
  "cells": [
    {
      "cell_type": "markdown",
      "metadata": {
        "id": "view-in-github",
        "colab_type": "text"
      },
      "source": [
        "<a href=\"https://colab.research.google.com/github/RuthKassahun/Skin-Lesion-Classification/blob/main/Testing_Multi_Class_GLCM_.ipynb\" target=\"_parent\"><img src=\"https://colab.research.google.com/assets/colab-badge.svg\" alt=\"Open In Colab\"/></a>"
      ]
    },
    {
      "cell_type": "markdown",
      "source": [
        "# GLCM Multi class\n",
        "\n",
        "> Indented block\n",
        "\n"
      ],
      "metadata": {
        "id": "uZZBnPHNLLVZ"
      }
    },
    {
      "cell_type": "markdown",
      "source": [
        "## Import Libraries"
      ],
      "metadata": {
        "id": "VEyKRvtkLVv6"
      }
    },
    {
      "cell_type": "code",
      "execution_count": 3,
      "metadata": {
        "id": "C6XWF4DqCFRw"
      },
      "outputs": [],
      "source": [
        "import numpy as np \n",
        "import matplotlib.pyplot as plt\n",
        "import glob\n",
        "import cv2\n",
        "import os\n",
        "import seaborn as sns\n",
        "import pandas as pd\n",
        "from skimage.filters import sobel\n",
        "from skimage.feature import greycomatrix, greycoprops\n",
        "from skimage.measure import shannon_entropy\n",
        "from sklearn.pipeline import Pipeline\n",
        "from sklearn.svm import SVC, LinearSVC\n",
        "from sklearn.ensemble import RandomForestClassifier\n",
        "from sklearn.neighbors import KNeighborsClassifier\n",
        "from sklearn.ensemble import AdaBoostClassifier\n",
        "from sklearn.preprocessing import LabelEncoder, StandardScaler, MinMaxScaler\n",
        "from sklearn import metrics\n",
        "from pathlib import Path\n",
        "import xgboost as xgb\n",
        "import lightgbm as lgb\n",
        "from PIL import Image, ImageOps\n",
        "from sklearn.model_selection import GridSearchCV, StratifiedKFold\n",
        "from sklearn.metrics import accuracy_score, auc, roc_curve, roc_auc_score, recall_score, confusion_matrix\n"
      ]
    },
    {
      "cell_type": "markdown",
      "source": [
        "## Load Data"
      ],
      "metadata": {
        "id": "6fxJw8o3LfvZ"
      }
    },
    {
      "cell_type": "code",
      "source": [
        "SIZE = 224"
      ],
      "metadata": {
        "id": "XxVgvMwHCrME"
      },
      "execution_count": 24,
      "outputs": []
    },
    {
      "cell_type": "code",
      "source": [
        "def feature_extractor(dataset):\n",
        "  image_dataset  = pd.DataFrame()\n",
        "  distance = [11, 21]\n",
        "  angle = [0, np.pi/4, np.pi/2, 3*np.pi/4]\n",
        "  for image in range(dataset.shape[0]):\n",
        "    img = dataset[image]\n",
        "    df = pd.DataFrame()\n",
        "    count = 1\n",
        "    for dist in distance:\n",
        "      for ang in angle:\n",
        "        GLCM = greycomatrix(img, [dist], [ang])      \n",
        "        GLCM_Energy = greycoprops(GLCM, 'energy')[0]\n",
        "        df[f'Energy{count}'] = GLCM_Energy\n",
        "        GLCM_corr = greycoprops(GLCM, 'correlation')[0]\n",
        "        df[f'Corr{count}'] = GLCM_corr             \n",
        "        GLCM_hom = greycoprops(GLCM, 'homogeneity')[0]\n",
        "        df[f'Homogen{count}'] = GLCM_hom       \n",
        "        GLCM_contr = greycoprops(GLCM, 'contrast')[0]\n",
        "        df[f'Contrast{count}'] = GLCM_contr\n",
        "        count = count + 1\n",
        "    image_dataset = image_dataset.append(df)    \n",
        "  return image_dataset"
      ],
      "metadata": {
        "id": "oGuoxk8GIz_K"
      },
      "execution_count": 25,
      "outputs": []
    },
    {
      "cell_type": "code",
      "source": [
        "train_images = []\n",
        "train_labels = [] \n",
        "hu_features = []\n",
        "#for directory_path in glob.glob(\"cell_images/train/*\"):\n",
        "for directory_path in glob.glob(\"/content/drive/MyDrive/Multiclass/multi_train/*\"):\n",
        "    label = directory_path.split(\"/\")[-1]\n",
        "    #print(label)\n",
        "    for img_path in glob.glob(os.path.join(directory_path, \"*.jpg\")):\n",
        "        img = cv2.imread(img_path, 0) #Reading color images\n",
        "        img = cv2.resize(img, (SIZE, SIZE)) #Resize images\n",
        "        train_images.append(img)\n",
        "        train_labels.append(label)\n",
        "        \n",
        "train_images = np.array(train_images)\n",
        "train_labels = np.array(train_labels)"
      ],
      "metadata": {
        "id": "LMC30n42p6zS"
      },
      "execution_count": 26,
      "outputs": []
    },
    {
      "cell_type": "code",
      "source": [
        "print(train_labels)"
      ],
      "metadata": {
        "id": "u-QOj9ELwCdk",
        "colab": {
          "base_uri": "https://localhost:8080/"
        },
        "outputId": "95752bc2-dbee-473a-b753-b4e5e4d4e97b"
      },
      "execution_count": 27,
      "outputs": [
        {
          "output_type": "stream",
          "name": "stdout",
          "text": [
            "['scc' 'scc' 'scc' ... 'bcc' 'bcc' 'bcc']\n"
          ]
        }
      ]
    },
    {
      "cell_type": "code",
      "source": [
        "from zipfile import ZipFile\n",
        "file_name = '/content/sample_check.zip'\n",
        "\n",
        "with ZipFile(file_name, 'r') as zip:\n",
        "  zip.extractall()\n",
        "  print('Done')"
      ],
      "metadata": {
        "colab": {
          "base_uri": "https://localhost:8080/"
        },
        "id": "AwKrVuXyC9as",
        "outputId": "2cfdd0ae-774f-4f5e-e63d-7974b13787a1"
      },
      "execution_count": 1,
      "outputs": [
        {
          "output_type": "stream",
          "name": "stdout",
          "text": [
            "Done\n"
          ]
        }
      ]
    },
    {
      "cell_type": "code",
      "source": [
        "test_images = []\n",
        "test_ID_2 = []\n",
        "counter = 1\n",
        "#hu_features_test = []\n",
        "test_array=[]\n",
        "#for directory_path in glob.glob(\"cell_images/test/*\"): \n",
        "for directory_path in glob.glob(\"/content/sample_check/*\"):\n",
        "   test_label = directory_path.split(\"/\")[-1]\n",
        "   print(test_label)\n",
        "   test_ID_2.append(test_label)\n",
        "   test_array.append(counter)\n",
        "   counter = counter+1\n",
        "   for img_path in glob.glob(os.path.join(directory_path, \"*.jpg\")):\n",
        "        img = cv2.imread(img_path, 0)\n",
        "        #img = cv2.resize(img, (SIZE, SIZE))\n",
        "        test_images.append(img)\n",
        "        #test_ID_1.append(test_label)\n",
        "        \n",
        "test_images = np.array(test_images)\n",
        "#test_ID = np.array(test_ID)\n",
        "test_array = np.array(test_array)\n"
      ],
      "metadata": {
        "colab": {
          "base_uri": "https://localhost:8080/"
        },
        "id": "YGwFsCQ6DNEd",
        "outputId": "9e2c971b-db98-4a65-b008-78be2afbc34f"
      },
      "execution_count": 75,
      "outputs": [
        {
          "output_type": "stream",
          "name": "stdout",
          "text": [
            "nev00003.jpg\n",
            "nev00001.jpg\n",
            "nev00004.jpg\n",
            "nev00045.jpg\n",
            "nev00002.jpg\n",
            "nev00031.jpg\n",
            "nev00044.jpg\n"
          ]
        }
      ]
    },
    {
      "cell_type": "code",
      "source": [
        "print(test_ID_2)"
      ],
      "metadata": {
        "colab": {
          "base_uri": "https://localhost:8080/"
        },
        "id": "tdkCMzDMEARR",
        "outputId": "a8d9e577-dc30-40d5-f203-3c41dd3b38d0"
      },
      "execution_count": 16,
      "outputs": [
        {
          "output_type": "stream",
          "name": "stdout",
          "text": [
            "['nev00003.jpg', 'nev00001.jpg', 'nev00004.jpg', 'nev00045.jpg', 'nev00002.jpg', 'nev00031.jpg', 'nev00044.jpg']\n"
          ]
        }
      ]
    },
    {
      "cell_type": "code",
      "source": [
        "print(test_array)"
      ],
      "metadata": {
        "colab": {
          "base_uri": "https://localhost:8080/"
        },
        "id": "CR04qqVUFjo4",
        "outputId": "29b81f00-7981-4e85-e9a2-127b7a6afa87"
      },
      "execution_count": 20,
      "outputs": [
        {
          "output_type": "stream",
          "name": "stdout",
          "text": [
            "[1 2 3 4 5 6 7]\n"
          ]
        }
      ]
    },
    {
      "cell_type": "code",
      "source": [
        "res = pd.DataFrame(test_array)\n",
        "res.index = test_ID_2 # its important for comparison\n",
        "res.columns = [\"prediction\"]\n",
        "res.to_csv(\"prediction_results.csv\")"
      ],
      "metadata": {
        "id": "yKbTVqEEGDhb"
      },
      "execution_count": 21,
      "outputs": []
    },
    {
      "cell_type": "code",
      "source": [
        "test_image = []\n",
        "test_image_ID= []\n",
        "#hu_features_test = []\n",
        "for directory_path in glob.glob(\"/content/drive/MyDrive/Multiclass/multi_test/*\"):\n",
        "    test_label = directory_path.split(\"/\")[-1]\n",
        "    print(test_label)\n",
        "    test_image_ID.append(test_label)\n",
        "for directory_path in glob.glob(\"/content/drive/MyDrive/Multiclass/multi_test\"):\n",
        "    for img_path in glob.glob(os.path.join(directory_path, \"*.jpg\")):\n",
        "        img1 = cv2.imread(img_path, 0)\n",
        "        img1 = cv2.resize(img1, (SIZE, SIZE))\n",
        "        test_image.append(img1)\n",
        "        \n",
        "test_image = np.array(test_image)\n",
        "\n"
      ],
      "metadata": {
        "id": "OmGYCrkIqj9i"
      },
      "execution_count": null,
      "outputs": []
    },
    {
      "cell_type": "markdown",
      "source": [
        "## Label Encoding"
      ],
      "metadata": {
        "id": "CerVmwjfLvEs"
      }
    },
    {
      "cell_type": "code",
      "source": [
        "from sklearn import preprocessing\n",
        "le = preprocessing.LabelEncoder()\n",
        "#le.fit(test_labels)\n",
        "#test_labels_encoded = le.transform(test_labels)\n",
        "le.fit(train_labels)\n",
        "train_labels_encoded = le.transform(train_labels)"
      ],
      "metadata": {
        "id": "Nx-a7VFwrE3R"
      },
      "execution_count": 93,
      "outputs": []
    },
    {
      "cell_type": "code",
      "source": [
        "x_train, y_train, x_test = train_images, train_labels_encoded, test_image"
      ],
      "metadata": {
        "id": "L5aVP0sVLJva"
      },
      "execution_count": 95,
      "outputs": []
    },
    {
      "cell_type": "code",
      "source": [
        "image_features = feature_extractor(x_train)\n",
        "X_for_ML =image_features"
      ],
      "metadata": {
        "id": "UFVY-ooXLF-Z"
      },
      "execution_count": 96,
      "outputs": []
    },
    {
      "cell_type": "code",
      "source": [
        "image_features = feature_extractor(x_test)\n",
        "X_test_ML =image_features"
      ],
      "metadata": {
        "id": "pPcS7NIareJw"
      },
      "execution_count": 114,
      "outputs": []
    },
    {
      "cell_type": "code",
      "source": [
        "x_train = X_for_ML\n",
        "x_test = X_test_ML\n"
      ],
      "metadata": {
        "id": "xdDRRdCa9q2r"
      },
      "execution_count": 115,
      "outputs": []
    },
    {
      "cell_type": "code",
      "source": [
        "!pip install imblearn"
      ],
      "metadata": {
        "colab": {
          "base_uri": "https://localhost:8080/"
        },
        "id": "SmIduAqep55m",
        "outputId": "1e34e78a-9736-4196-eac2-f956bc4d7e0b"
      },
      "execution_count": 116,
      "outputs": [
        {
          "output_type": "stream",
          "name": "stdout",
          "text": [
            "Looking in indexes: https://pypi.org/simple, https://us-python.pkg.dev/colab-wheels/public/simple/\n",
            "Requirement already satisfied: imblearn in /usr/local/lib/python3.7/dist-packages (0.0)\n",
            "Requirement already satisfied: imbalanced-learn in /usr/local/lib/python3.7/dist-packages (from imblearn) (0.8.1)\n",
            "Requirement already satisfied: scikit-learn>=0.24 in /usr/local/lib/python3.7/dist-packages (from imbalanced-learn->imblearn) (1.0.2)\n",
            "Requirement already satisfied: numpy>=1.13.3 in /usr/local/lib/python3.7/dist-packages (from imbalanced-learn->imblearn) (1.21.6)\n",
            "Requirement already satisfied: joblib>=0.11 in /usr/local/lib/python3.7/dist-packages (from imbalanced-learn->imblearn) (1.2.0)\n",
            "Requirement already satisfied: scipy>=0.19.1 in /usr/local/lib/python3.7/dist-packages (from imbalanced-learn->imblearn) (1.7.3)\n",
            "Requirement already satisfied: threadpoolctl>=2.0.0 in /usr/local/lib/python3.7/dist-packages (from scikit-learn>=0.24->imbalanced-learn->imblearn) (3.1.0)\n"
          ]
        }
      ]
    },
    {
      "cell_type": "code",
      "source": [
        "from imblearn.over_sampling import RandomOverSampler\n",
        "from imblearn.under_sampling import RandomUnderSampler"
      ],
      "metadata": {
        "id": "FAfcFFm9p_Q8"
      },
      "execution_count": 117,
      "outputs": []
    },
    {
      "cell_type": "code",
      "source": [
        "over=RandomOverSampler(random_state=0,sampling_strategy='minority')\n",
        "X_res,Y_res=over.fit_resample(x_train,y_train)"
      ],
      "metadata": {
        "id": "T65A0HIxqDFd"
      },
      "execution_count": 118,
      "outputs": []
    },
    {
      "cell_type": "code",
      "source": [
        "print(sum(Y_res==0))"
      ],
      "metadata": {
        "colab": {
          "base_uri": "https://localhost:8080/"
        },
        "id": "B_OgRUl8rM4w",
        "outputId": "482d0242-c113-45d9-d983-6a3ef07f130e"
      },
      "execution_count": 119,
      "outputs": [
        {
          "output_type": "stream",
          "name": "stdout",
          "text": [
            "1993\n"
          ]
        }
      ]
    },
    {
      "cell_type": "code",
      "source": [
        "over=RandomOverSampler(random_state=0,sampling_strategy='minority')\n",
        "X_result,Y_result=over.fit_resample(X_res,Y_res)"
      ],
      "metadata": {
        "id": "LywaTOBvv0sF"
      },
      "execution_count": 120,
      "outputs": []
    },
    {
      "cell_type": "code",
      "source": [
        "print(sum(Y_result==0))"
      ],
      "metadata": {
        "colab": {
          "base_uri": "https://localhost:8080/"
        },
        "id": "ArLPdt2GwEHf",
        "outputId": "04cacde9-9f72-4801-b9aa-f34503c298ac"
      },
      "execution_count": 121,
      "outputs": [
        {
          "output_type": "stream",
          "name": "stdout",
          "text": [
            "2713\n"
          ]
        }
      ]
    },
    {
      "cell_type": "markdown",
      "source": [
        "## Random Forest"
      ],
      "metadata": {
        "id": "0hRhX6FrMG3L"
      }
    },
    {
      "cell_type": "code",
      "source": [
        "pipe2 = Pipeline([\n",
        "                 (\"scale\", StandardScaler()),\n",
        "                 (\"classifier\", RandomForestClassifier(n_estimators = 100, random_state = 42))\n",
        "                 ])"
      ],
      "metadata": {
        "id": "KX2wmJx8DZrO"
      },
      "execution_count": 122,
      "outputs": []
    },
    {
      "cell_type": "code",
      "source": [
        "pipe2.fit(X_result,Y_result)"
      ],
      "metadata": {
        "colab": {
          "base_uri": "https://localhost:8080/"
        },
        "id": "s9Ho7JfnDi5W",
        "outputId": "992746ff-2095-4970-9633-75e6f4893d5a"
      },
      "execution_count": 123,
      "outputs": [
        {
          "output_type": "execute_result",
          "data": {
            "text/plain": [
              "Pipeline(steps=[('scale', StandardScaler()),\n",
              "                ('classifier', RandomForestClassifier(random_state=42))])"
            ]
          },
          "metadata": {},
          "execution_count": 123
        }
      ]
    },
    {
      "cell_type": "code",
      "source": [
        "# Test set evaluation\n",
        "prediction = pipe2.predict(x_test)\n"
      ],
      "metadata": {
        "id": "cz3LJigzDnda"
      },
      "execution_count": 124,
      "outputs": []
    },
    {
      "cell_type": "code",
      "source": [
        "res = pd.DataFrame(prediction)\n",
        "res.index = test_image_ID # its important for comparison\n",
        "res.columns = [\"prediction\"]\n",
        "res.to_csv(\"prediction_multiclass.csv\")\n",
        "\n"
      ],
      "metadata": {
        "id": "1wGV8UpQLXOg"
      },
      "execution_count": 125,
      "outputs": []
    }
  ]
}