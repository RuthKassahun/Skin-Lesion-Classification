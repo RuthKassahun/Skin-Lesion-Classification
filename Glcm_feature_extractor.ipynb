{
  "nbformat": 4,
  "nbformat_minor": 0,
  "metadata": {
    "colab": {
      "provenance": [],
      "collapsed_sections": [],
      "toc_visible": true,
      "mount_file_id": "1IFZ0knb5jOIXoA7wvo3j0ag9kQzMwyCL",
      "authorship_tag": "ABX9TyMGqRg7d5pKhb5aXbL3SU60",
      "include_colab_link": true
    },
    "kernelspec": {
      "name": "python3",
      "display_name": "Python 3"
    },
    "language_info": {
      "name": "python"
    }
  },
  "cells": [
    {
      "cell_type": "markdown",
      "metadata": {
        "id": "view-in-github",
        "colab_type": "text"
      },
      "source": [
        "<a href=\"https://colab.research.google.com/github/RuthKassahun/Skin-Lesion-Classification/blob/main/Glcm_feature_extractor.ipynb\" target=\"_parent\"><img src=\"https://colab.research.google.com/assets/colab-badge.svg\" alt=\"Open In Colab\"/></a>"
      ]
    },
    {
      "cell_type": "markdown",
      "source": [
        "# GLCM Feature Extractor"
      ],
      "metadata": {
        "id": "uZZBnPHNLLVZ"
      }
    },
    {
      "cell_type": "markdown",
      "source": [
        "## Import Libraries"
      ],
      "metadata": {
        "id": "VEyKRvtkLVv6"
      }
    },
    {
      "cell_type": "code",
      "execution_count": 71,
      "metadata": {
        "id": "C6XWF4DqCFRw"
      },
      "outputs": [],
      "source": [
        "import numpy as np \n",
        "import matplotlib.pyplot as plt\n",
        "import glob\n",
        "import cv2\n",
        "import os\n",
        "import seaborn as sns\n",
        "import pandas as pd\n",
        "from skimage.filters import sobel\n",
        "from skimage.feature import greycomatrix, greycoprops\n",
        "from skimage.measure import shannon_entropy\n",
        "from sklearn.pipeline import Pipeline\n",
        "from sklearn.svm import SVC, LinearSVC\n",
        "from sklearn.ensemble import RandomForestClassifier\n",
        "from sklearn.neighbors import KNeighborsClassifier\n",
        "from sklearn.ensemble import AdaBoostClassifier\n",
        "from sklearn.preprocessing import LabelEncoder, StandardScaler, MinMaxScaler\n",
        "from sklearn import metrics\n",
        "from pathlib import Path\n",
        "import xgboost as xgb\n",
        "import lightgbm as lgb\n",
        "from PIL import Image, ImageOps\n",
        "from sklearn.model_selection import GridSearchCV, StratifiedKFold\n",
        "from sklearn.metrics import accuracy_score, auc, roc_curve, roc_auc_score, recall_score, confusion_matrix\n"
      ]
    },
    {
      "cell_type": "markdown",
      "source": [
        "## Load Data"
      ],
      "metadata": {
        "id": "6fxJw8o3LfvZ"
      }
    },
    {
      "cell_type": "code",
      "source": [
        "print(os.listdir(\"/content/drive/MyDrive/train/sample_train\"))\n",
        "SIZE = 224"
      ],
      "metadata": {
        "colab": {
          "base_uri": "https://localhost:8080/"
        },
        "id": "XxVgvMwHCrME",
        "outputId": "e938144a-960b-4157-f863-0280a7a2d84c"
      },
      "execution_count": 2,
      "outputs": [
        {
          "output_type": "stream",
          "name": "stdout",
          "text": [
            "['other', 'nevus']\n"
          ]
        }
      ]
    },
    {
      "cell_type": "code",
      "source": [
        "train_images = []\n",
        "train_labels = [] \n",
        "#for directory_path in glob.glob(\"cell_images/train/*\"):\n",
        "for directory_path in glob.glob(\"/content/drive/MyDrive/train/sample_train/*\"):\n",
        "    label = directory_path.split(\"/\")[-1]\n",
        "    print(label)\n",
        "    for img_path in glob.glob(os.path.join(directory_path, \"*.jpg\")):\n",
        "        print(img_path)\n",
        "        img = cv2.imread(img_path, 0) #Reading color images\n",
        "        img = cv2.resize(img, (SIZE, SIZE)) #Resize images\n",
        "        train_images.append(img)\n",
        "        train_labels.append(label)\n",
        "        \n",
        "train_images = np.array(train_images)\n",
        "train_labels = np.array(train_labels)"
      ],
      "metadata": {
        "colab": {
          "base_uri": "https://localhost:8080/"
        },
        "id": "LMC30n42p6zS",
        "outputId": "2d53f44f-4318-4c9e-f54b-c4b00252abd4"
      },
      "execution_count": 3,
      "outputs": [
        {
          "output_type": "stream",
          "name": "stdout",
          "text": [
            "other\n",
            "/content/drive/MyDrive/train/sample_train/other/bcc01352.jpg\n",
            "/content/drive/MyDrive/train/sample_train/other/mel00423.jpg\n",
            "/content/drive/MyDrive/train/sample_train/other/mel02307.jpg\n",
            "/content/drive/MyDrive/train/sample_train/other/bkl00221.jpg\n",
            "/content/drive/MyDrive/train/sample_train/other/bkl01101.jpg\n",
            "/content/drive/MyDrive/train/sample_train/other/bkl00327.jpg\n",
            "/content/drive/MyDrive/train/sample_train/other/mel02208.jpg\n",
            "/content/drive/MyDrive/train/sample_train/other/bcc01114.jpg\n",
            "/content/drive/MyDrive/train/sample_train/other/bkl00870.jpg\n",
            "/content/drive/MyDrive/train/sample_train/other/mel01310.jpg\n",
            "/content/drive/MyDrive/train/sample_train/other/bkl00706.jpg\n",
            "/content/drive/MyDrive/train/sample_train/other/ack00427.jpg\n",
            "/content/drive/MyDrive/train/sample_train/other/mel01755.jpg\n",
            "/content/drive/MyDrive/train/sample_train/other/mel00755.jpg\n",
            "/content/drive/MyDrive/train/sample_train/other/mel02367.jpg\n",
            "/content/drive/MyDrive/train/sample_train/other/mel00172.jpg\n",
            "/content/drive/MyDrive/train/sample_train/other/bkl00990.jpg\n",
            "/content/drive/MyDrive/train/sample_train/other/ack00399.jpg\n",
            "/content/drive/MyDrive/train/sample_train/other/ack00339.jpg\n",
            "/content/drive/MyDrive/train/sample_train/other/bkl01538.jpg\n",
            "/content/drive/MyDrive/train/sample_train/other/bkl00583.jpg\n",
            "/content/drive/MyDrive/train/sample_train/other/mel01712.jpg\n",
            "/content/drive/MyDrive/train/sample_train/other/bcc00858.jpg\n",
            "/content/drive/MyDrive/train/sample_train/other/bcc01602.jpg\n",
            "/content/drive/MyDrive/train/sample_train/other/bkl01161.jpg\n",
            "/content/drive/MyDrive/train/sample_train/other/bkl00544.jpg\n",
            "/content/drive/MyDrive/train/sample_train/other/mel00232.jpg\n",
            "/content/drive/MyDrive/train/sample_train/other/bcc00793.jpg\n",
            "/content/drive/MyDrive/train/sample_train/other/mel01513.jpg\n",
            "/content/drive/MyDrive/train/sample_train/other/mel00736.jpg\n",
            "/content/drive/MyDrive/train/sample_train/other/bkl00559.jpg\n",
            "/content/drive/MyDrive/train/sample_train/other/bkl00507.jpg\n",
            "/content/drive/MyDrive/train/sample_train/other/bkl00585.jpg\n",
            "/content/drive/MyDrive/train/sample_train/other/mel00366.jpg\n",
            "/content/drive/MyDrive/train/sample_train/other/mel02015.jpg\n",
            "/content/drive/MyDrive/train/sample_train/other/mel01345.jpg\n",
            "/content/drive/MyDrive/train/sample_train/other/scc00014.jpg\n",
            "/content/drive/MyDrive/train/sample_train/other/bkl00634.jpg\n",
            "/content/drive/MyDrive/train/sample_train/other/bcc00001.jpg\n",
            "/content/drive/MyDrive/train/sample_train/other/scc00102.jpg\n",
            "/content/drive/MyDrive/train/sample_train/other/bkl00207.jpg\n",
            "/content/drive/MyDrive/train/sample_train/other/bkl00271.jpg\n",
            "/content/drive/MyDrive/train/sample_train/other/bkl00992.jpg\n",
            "/content/drive/MyDrive/train/sample_train/other/mel01827.jpg\n",
            "/content/drive/MyDrive/train/sample_train/other/bkl01090.jpg\n",
            "/content/drive/MyDrive/train/sample_train/other/bkl00675.jpg\n",
            "/content/drive/MyDrive/train/sample_train/other/mel01237.jpg\n",
            "/content/drive/MyDrive/train/sample_train/other/bcc01021.jpg\n",
            "/content/drive/MyDrive/train/sample_train/other/bcc01965.jpg\n",
            "/content/drive/MyDrive/train/sample_train/other/ack00387.jpg\n",
            "/content/drive/MyDrive/train/sample_train/other/mel00693.jpg\n",
            "/content/drive/MyDrive/train/sample_train/other/ack00358.jpg\n",
            "/content/drive/MyDrive/train/sample_train/other/bcc00537.jpg\n",
            "/content/drive/MyDrive/train/sample_train/other/def00121.jpg\n",
            "/content/drive/MyDrive/train/sample_train/other/mel00240.jpg\n",
            "/content/drive/MyDrive/train/sample_train/other/mel02243.jpg\n",
            "/content/drive/MyDrive/train/sample_train/other/mel00839.jpg\n",
            "/content/drive/MyDrive/train/sample_train/other/bkl01283.jpg\n",
            "/content/drive/MyDrive/train/sample_train/other/bcc01134.jpg\n",
            "/content/drive/MyDrive/train/sample_train/other/ack00216.jpg\n",
            "/content/drive/MyDrive/train/sample_train/other/bkl00678.jpg\n",
            "/content/drive/MyDrive/train/sample_train/other/mel02626.jpg\n",
            "/content/drive/MyDrive/train/sample_train/other/mel01301.jpg\n",
            "/content/drive/MyDrive/train/sample_train/other/def00050.jpg\n",
            "/content/drive/MyDrive/train/sample_train/other/def00095.jpg\n",
            "/content/drive/MyDrive/train/sample_train/other/ack00029.jpg\n",
            "/content/drive/MyDrive/train/sample_train/other/mel01371.jpg\n",
            "/content/drive/MyDrive/train/sample_train/other/mel01685.jpg\n",
            "/content/drive/MyDrive/train/sample_train/other/bkl00255.jpg\n",
            "/content/drive/MyDrive/train/sample_train/other/bkl00249.jpg\n",
            "/content/drive/MyDrive/train/sample_train/other/mel00639.jpg\n",
            "/content/drive/MyDrive/train/sample_train/other/mel00216.jpg\n",
            "/content/drive/MyDrive/train/sample_train/other/bkl01042.jpg\n",
            "/content/drive/MyDrive/train/sample_train/other/bcc00792.jpg\n",
            "/content/drive/MyDrive/train/sample_train/other/scc00036.jpg\n",
            "/content/drive/MyDrive/train/sample_train/other/bkl01159.jpg\n",
            "/content/drive/MyDrive/train/sample_train/other/bkl00384.jpg\n",
            "/content/drive/MyDrive/train/sample_train/other/mel01094.jpg\n",
            "/content/drive/MyDrive/train/sample_train/other/mel01043.jpg\n",
            "/content/drive/MyDrive/train/sample_train/other/bkl00659.jpg\n",
            "/content/drive/MyDrive/train/sample_train/other/mel00716.jpg\n",
            "/content/drive/MyDrive/train/sample_train/other/def00035.jpg\n",
            "/content/drive/MyDrive/train/sample_train/other/mel00301.jpg\n",
            "/content/drive/MyDrive/train/sample_train/other/mel02685.jpg\n",
            "/content/drive/MyDrive/train/sample_train/other/mel01647.jpg\n",
            "/content/drive/MyDrive/train/sample_train/other/bkl00641.jpg\n",
            "/content/drive/MyDrive/train/sample_train/other/bkl01421.jpg\n",
            "/content/drive/MyDrive/train/sample_train/other/bcc01802.jpg\n",
            "/content/drive/MyDrive/train/sample_train/other/ack00164.jpg\n",
            "/content/drive/MyDrive/train/sample_train/other/mel00013.jpg\n",
            "/content/drive/MyDrive/train/sample_train/other/scc00306.jpg\n",
            "/content/drive/MyDrive/train/sample_train/other/bkl00489.jpg\n",
            "/content/drive/MyDrive/train/sample_train/other/bcc00608.jpg\n",
            "/content/drive/MyDrive/train/sample_train/other/bcc00136.jpg\n",
            "/content/drive/MyDrive/train/sample_train/other/scc00237.jpg\n",
            "/content/drive/MyDrive/train/sample_train/other/bcc00210.jpg\n",
            "/content/drive/MyDrive/train/sample_train/other/bcc00154.jpg\n",
            "/content/drive/MyDrive/train/sample_train/other/bkl00540.jpg\n",
            "/content/drive/MyDrive/train/sample_train/other/bkl00092.jpg\n",
            "/content/drive/MyDrive/train/sample_train/other/mel00919.jpg\n",
            "/content/drive/MyDrive/train/sample_train/other/bcc00422.jpg\n",
            "/content/drive/MyDrive/train/sample_train/other/mel02568.jpg\n",
            "/content/drive/MyDrive/train/sample_train/other/scc00045.jpg\n",
            "/content/drive/MyDrive/train/sample_train/other/vac00139.jpg\n",
            "/content/drive/MyDrive/train/sample_train/other/bkl00624.jpg\n",
            "/content/drive/MyDrive/train/sample_train/other/ack00118.jpg\n",
            "/content/drive/MyDrive/train/sample_train/other/def00004.jpg\n",
            "/content/drive/MyDrive/train/sample_train/other/bkl01425.jpg\n",
            "/content/drive/MyDrive/train/sample_train/other/bcc00211.jpg\n",
            "/content/drive/MyDrive/train/sample_train/other/bcc01591.jpg\n",
            "/content/drive/MyDrive/train/sample_train/other/ack00464.jpg\n",
            "/content/drive/MyDrive/train/sample_train/other/mel01790.jpg\n",
            "/content/drive/MyDrive/train/sample_train/other/mel00123.jpg\n",
            "/content/drive/MyDrive/train/sample_train/other/bkl01086.jpg\n",
            "/content/drive/MyDrive/train/sample_train/other/bcc01416.jpg\n",
            "/content/drive/MyDrive/train/sample_train/other/bcc01128.jpg\n",
            "/content/drive/MyDrive/train/sample_train/other/bkl00122.jpg\n",
            "/content/drive/MyDrive/train/sample_train/other/mel00300.jpg\n",
            "/content/drive/MyDrive/train/sample_train/other/bcc00375.jpg\n",
            "/content/drive/MyDrive/train/sample_train/other/bcc00410.jpg\n",
            "/content/drive/MyDrive/train/sample_train/other/bcc01836.jpg\n",
            "/content/drive/MyDrive/train/sample_train/other/mel02373.jpg\n",
            "/content/drive/MyDrive/train/sample_train/other/scc00076.jpg\n",
            "/content/drive/MyDrive/train/sample_train/other/mel00168.jpg\n",
            "/content/drive/MyDrive/train/sample_train/other/scc00264.jpg\n",
            "/content/drive/MyDrive/train/sample_train/other/bcc01587.jpg\n",
            "/content/drive/MyDrive/train/sample_train/other/mel01779.jpg\n",
            "/content/drive/MyDrive/train/sample_train/other/bcc00418.jpg\n",
            "/content/drive/MyDrive/train/sample_train/other/mel00030.jpg\n",
            "/content/drive/MyDrive/train/sample_train/other/mel01570 (2).jpg\n",
            "/content/drive/MyDrive/train/sample_train/other/ack00203.jpg\n",
            "/content/drive/MyDrive/train/sample_train/other/scc00323.jpg\n",
            "/content/drive/MyDrive/train/sample_train/other/bkl00550.jpg\n",
            "/content/drive/MyDrive/train/sample_train/other/mel00303.jpg\n",
            "/content/drive/MyDrive/train/sample_train/other/bkl00301.jpg\n",
            "/content/drive/MyDrive/train/sample_train/other/bcc01857.jpg\n",
            "/content/drive/MyDrive/train/sample_train/other/bkl00766.jpg\n",
            "/content/drive/MyDrive/train/sample_train/other/mel01957.jpg\n",
            "/content/drive/MyDrive/train/sample_train/other/def00051.jpg\n",
            "/content/drive/MyDrive/train/sample_train/other/bcc01477.jpg\n",
            "/content/drive/MyDrive/train/sample_train/other/mel01845.jpg\n",
            "/content/drive/MyDrive/train/sample_train/other/scc00263.jpg\n",
            "/content/drive/MyDrive/train/sample_train/other/mel01677.jpg\n",
            "/content/drive/MyDrive/train/sample_train/other/mel01224.jpg\n",
            "/content/drive/MyDrive/train/sample_train/other/mel02668.jpg\n",
            "/content/drive/MyDrive/train/sample_train/other/bkl00052.jpg\n",
            "/content/drive/MyDrive/train/sample_train/other/bcc00929.jpg\n",
            "/content/drive/MyDrive/train/sample_train/other/mel00336.jpg\n",
            "/content/drive/MyDrive/train/sample_train/other/mel02034.jpg\n",
            "/content/drive/MyDrive/train/sample_train/other/mel00890.jpg\n",
            "/content/drive/MyDrive/train/sample_train/other/def00045.jpg\n",
            "/content/drive/MyDrive/train/sample_train/other/ack00080.jpg\n",
            "/content/drive/MyDrive/train/sample_train/other/mel01506.jpg\n",
            "/content/drive/MyDrive/train/sample_train/other/scc00249.jpg\n",
            "/content/drive/MyDrive/train/sample_train/other/bkl00373.jpg\n",
            "/content/drive/MyDrive/train/sample_train/other/mel02339.jpg\n",
            "/content/drive/MyDrive/train/sample_train/other/bkl00669.jpg\n",
            "/content/drive/MyDrive/train/sample_train/other/mel01571.jpg\n",
            "/content/drive/MyDrive/train/sample_train/other/mel01544.jpg\n",
            "/content/drive/MyDrive/train/sample_train/other/mel00973.jpg\n",
            "/content/drive/MyDrive/train/sample_train/other/ack00370.jpg\n",
            "/content/drive/MyDrive/train/sample_train/other/ack00297.jpg\n",
            "/content/drive/MyDrive/train/sample_train/other/mel01049.jpg\n",
            "/content/drive/MyDrive/train/sample_train/other/bkl01128.jpg\n",
            "/content/drive/MyDrive/train/sample_train/other/bkl00422.jpg\n",
            "/content/drive/MyDrive/train/sample_train/other/bcc01003.jpg\n",
            "/content/drive/MyDrive/train/sample_train/other/bkl00930.jpg\n",
            "/content/drive/MyDrive/train/sample_train/other/bkl01503.jpg\n",
            "/content/drive/MyDrive/train/sample_train/other/bcc00302.jpg\n",
            "/content/drive/MyDrive/train/sample_train/other/bcc00082.jpg\n",
            "/content/drive/MyDrive/train/sample_train/other/bcc01006.jpg\n",
            "/content/drive/MyDrive/train/sample_train/other/mel01828.jpg\n",
            "/content/drive/MyDrive/train/sample_train/other/mel02144.jpg\n",
            "/content/drive/MyDrive/train/sample_train/other/bkl00842.jpg\n",
            "/content/drive/MyDrive/train/sample_train/other/mel01041.jpg\n",
            "/content/drive/MyDrive/train/sample_train/other/mel02641.jpg\n",
            "/content/drive/MyDrive/train/sample_train/other/bcc01510.jpg\n",
            "/content/drive/MyDrive/train/sample_train/other/bkl00145.jpg\n",
            "/content/drive/MyDrive/train/sample_train/other/bcc01170.jpg\n",
            "/content/drive/MyDrive/train/sample_train/other/mel01694.jpg\n",
            "/content/drive/MyDrive/train/sample_train/other/ack00004.jpg\n",
            "/content/drive/MyDrive/train/sample_train/other/mel02234.jpg\n",
            "/content/drive/MyDrive/train/sample_train/other/vac00099.jpg\n",
            "/content/drive/MyDrive/train/sample_train/other/mel00717.jpg\n",
            "/content/drive/MyDrive/train/sample_train/other/bkl00304.jpg\n",
            "/content/drive/MyDrive/train/sample_train/other/mel01415.jpg\n",
            "/content/drive/MyDrive/train/sample_train/other/bkl00503.jpg\n",
            "/content/drive/MyDrive/train/sample_train/other/mel02429.jpg\n",
            "/content/drive/MyDrive/train/sample_train/other/bkl01402.jpg\n",
            "/content/drive/MyDrive/train/sample_train/other/scc00070.jpg\n",
            "/content/drive/MyDrive/train/sample_train/other/ack00439.jpg\n",
            "/content/drive/MyDrive/train/sample_train/other/scc00128.jpg\n",
            "/content/drive/MyDrive/train/sample_train/other/bcc00311.jpg\n",
            "/content/drive/MyDrive/train/sample_train/other/bcc01567.jpg\n",
            "/content/drive/MyDrive/train/sample_train/other/bcc01846.jpg\n",
            "/content/drive/MyDrive/train/sample_train/other/bcc01615.jpg\n",
            "/content/drive/MyDrive/train/sample_train/other/bcc00101.jpg\n",
            "/content/drive/MyDrive/train/sample_train/other/bcc01566.jpg\n",
            "/content/drive/MyDrive/train/sample_train/other/mel02484.jpg\n",
            "/content/drive/MyDrive/train/sample_train/other/def00025.jpg\n",
            "/content/drive/MyDrive/train/sample_train/other/mel00797.jpg\n",
            "/content/drive/MyDrive/train/sample_train/other/mel01988.jpg\n",
            "/content/drive/MyDrive/train/sample_train/other/bcc00002.jpg\n",
            "/content/drive/MyDrive/train/sample_train/other/bcc00403.jpg\n",
            "/content/drive/MyDrive/train/sample_train/other/mel00192.jpg\n",
            "/content/drive/MyDrive/train/sample_train/other/mel00952.jpg\n",
            "/content/drive/MyDrive/train/sample_train/other/bkl00504.jpg\n",
            "/content/drive/MyDrive/train/sample_train/other/bcc00294.jpg\n",
            "/content/drive/MyDrive/train/sample_train/other/mel01080.jpg\n",
            "/content/drive/MyDrive/train/sample_train/other/bcc00742.jpg\n",
            "/content/drive/MyDrive/train/sample_train/other/bcc01456.jpg\n",
            "/content/drive/MyDrive/train/sample_train/other/vac00120.jpg\n",
            "/content/drive/MyDrive/train/sample_train/other/mel02690.jpg\n",
            "/content/drive/MyDrive/train/sample_train/other/mel01279.jpg\n",
            "/content/drive/MyDrive/train/sample_train/other/mel00362.jpg\n",
            "/content/drive/MyDrive/train/sample_train/other/mel01315.jpg\n",
            "/content/drive/MyDrive/train/sample_train/other/scc00061.jpg\n",
            "/content/drive/MyDrive/train/sample_train/other/bkl00224.jpg\n",
            "/content/drive/MyDrive/train/sample_train/other/ack00336.jpg\n",
            "/content/drive/MyDrive/train/sample_train/other/bkl01294.jpg\n",
            "/content/drive/MyDrive/train/sample_train/other/bcc01732.jpg\n",
            "/content/drive/MyDrive/train/sample_train/other/mel01563 (2).jpg\n",
            "/content/drive/MyDrive/train/sample_train/other/scc00197.jpg\n",
            "/content/drive/MyDrive/train/sample_train/other/bkl00921.jpg\n",
            "/content/drive/MyDrive/train/sample_train/other/bcc00556.jpg\n",
            "/content/drive/MyDrive/train/sample_train/other/mel02610.jpg\n",
            "/content/drive/MyDrive/train/sample_train/other/mel01234.jpg\n",
            "/content/drive/MyDrive/train/sample_train/other/ack00073.jpg\n",
            "/content/drive/MyDrive/train/sample_train/other/bcc00144.jpg\n",
            "/content/drive/MyDrive/train/sample_train/other/bkl00405.jpg\n",
            "/content/drive/MyDrive/train/sample_train/other/mel00479.jpg\n",
            "/content/drive/MyDrive/train/sample_train/other/bcc00972.jpg\n",
            "/content/drive/MyDrive/train/sample_train/other/ack00268.jpg\n",
            "/content/drive/MyDrive/train/sample_train/other/bcc00794.jpg\n",
            "/content/drive/MyDrive/train/sample_train/other/bkl00193.jpg\n",
            "/content/drive/MyDrive/train/sample_train/other/bkl01030.jpg\n",
            "/content/drive/MyDrive/train/sample_train/other/mel00967.jpg\n",
            "/content/drive/MyDrive/train/sample_train/other/scc00174.jpg\n",
            "/content/drive/MyDrive/train/sample_train/other/mel00022.jpg\n",
            "/content/drive/MyDrive/train/sample_train/other/mel02277.jpg\n",
            "/content/drive/MyDrive/train/sample_train/other/mel00122.jpg\n",
            "/content/drive/MyDrive/train/sample_train/other/bcc00038.jpg\n",
            "/content/drive/MyDrive/train/sample_train/other/bkl00087.jpg\n",
            "/content/drive/MyDrive/train/sample_train/other/mel02435.jpg\n",
            "/content/drive/MyDrive/train/sample_train/other/mel00419.jpg\n",
            "/content/drive/MyDrive/train/sample_train/other/bcc00624.jpg\n",
            "/content/drive/MyDrive/train/sample_train/other/mel00325.jpg\n",
            "/content/drive/MyDrive/train/sample_train/other/bcc00951.jpg\n",
            "/content/drive/MyDrive/train/sample_train/other/bcc01892.jpg\n",
            "/content/drive/MyDrive/train/sample_train/other/bcc01750.jpg\n",
            "/content/drive/MyDrive/train/sample_train/other/bcc01168.jpg\n",
            "/content/drive/MyDrive/train/sample_train/other/bkl00539.jpg\n",
            "/content/drive/MyDrive/train/sample_train/other/bcc00346.jpg\n",
            "/content/drive/MyDrive/train/sample_train/other/bkl01391.jpg\n",
            "/content/drive/MyDrive/train/sample_train/other/bkl00046.jpg\n",
            "/content/drive/MyDrive/train/sample_train/other/mel00551.jpg\n",
            "/content/drive/MyDrive/train/sample_train/other/mel01703.jpg\n",
            "/content/drive/MyDrive/train/sample_train/other/mel01673.jpg\n",
            "/content/drive/MyDrive/train/sample_train/other/mel01192.jpg\n",
            "/content/drive/MyDrive/train/sample_train/other/bcc00122.jpg\n",
            "/content/drive/MyDrive/train/sample_train/other/mel00010.jpg\n",
            "/content/drive/MyDrive/train/sample_train/other/bkl01456.jpg\n",
            "/content/drive/MyDrive/train/sample_train/other/ack00197.jpg\n",
            "/content/drive/MyDrive/train/sample_train/other/bcc01632.jpg\n",
            "/content/drive/MyDrive/train/sample_train/other/mel01600.jpg\n",
            "/content/drive/MyDrive/train/sample_train/other/bkl00645.jpg\n",
            "/content/drive/MyDrive/train/sample_train/other/bcc00634.jpg\n",
            "/content/drive/MyDrive/train/sample_train/other/mel01053.jpg\n",
            "/content/drive/MyDrive/train/sample_train/other/ack00104.jpg\n",
            "/content/drive/MyDrive/train/sample_train/other/mel00050.jpg\n",
            "/content/drive/MyDrive/train/sample_train/other/bkl00108.jpg\n",
            "/content/drive/MyDrive/train/sample_train/other/mel01579.jpg\n",
            "/content/drive/MyDrive/train/sample_train/other/mel00101.jpg\n",
            "/content/drive/MyDrive/train/sample_train/other/bcc00034.jpg\n",
            "/content/drive/MyDrive/train/sample_train/other/mel00625.jpg\n",
            "/content/drive/MyDrive/train/sample_train/other/mel01871.jpg\n",
            "/content/drive/MyDrive/train/sample_train/other/mel00817.jpg\n",
            "/content/drive/MyDrive/train/sample_train/other/mel01032.jpg\n",
            "/content/drive/MyDrive/train/sample_train/other/mel01769.jpg\n",
            "/content/drive/MyDrive/train/sample_train/other/ack00334.jpg\n",
            "/content/drive/MyDrive/train/sample_train/other/scc00143.jpg\n",
            "/content/drive/MyDrive/train/sample_train/other/bkl01449.jpg\n",
            "/content/drive/MyDrive/train/sample_train/other/vac00083.jpg\n",
            "/content/drive/MyDrive/train/sample_train/other/vac00103.jpg\n",
            "/content/drive/MyDrive/train/sample_train/other/mel01675.jpg\n",
            "/content/drive/MyDrive/train/sample_train/other/bcc00079.jpg\n",
            "/content/drive/MyDrive/train/sample_train/other/mel01439.jpg\n",
            "/content/drive/MyDrive/train/sample_train/other/mel00846.jpg\n",
            "/content/drive/MyDrive/train/sample_train/other/bcc01789.jpg\n",
            "/content/drive/MyDrive/train/sample_train/other/scc00010.jpg\n",
            "/content/drive/MyDrive/train/sample_train/other/bkl00307.jpg\n",
            "/content/drive/MyDrive/train/sample_train/other/bcc00483.jpg\n",
            "/content/drive/MyDrive/train/sample_train/other/bkl01383.jpg\n",
            "/content/drive/MyDrive/train/sample_train/other/bcc00185.jpg\n",
            "/content/drive/MyDrive/train/sample_train/other/bkl00277.jpg\n",
            "/content/drive/MyDrive/train/sample_train/other/mel02502.jpg\n",
            "/content/drive/MyDrive/train/sample_train/other/bcc01028.jpg\n",
            "/content/drive/MyDrive/train/sample_train/other/ack00123.jpg\n",
            "/content/drive/MyDrive/train/sample_train/other/mel02421.jpg\n",
            "/content/drive/MyDrive/train/sample_train/other/scc00258.jpg\n",
            "/content/drive/MyDrive/train/sample_train/other/bkl01330.jpg\n",
            "/content/drive/MyDrive/train/sample_train/other/bcc01204.jpg\n",
            "/content/drive/MyDrive/train/sample_train/other/mel02379.jpg\n",
            "/content/drive/MyDrive/train/sample_train/other/ack00242.jpg\n",
            "/content/drive/MyDrive/train/sample_train/other/mel00233.jpg\n",
            "/content/drive/MyDrive/train/sample_train/other/mel02256.jpg\n",
            "/content/drive/MyDrive/train/sample_train/other/def00056.jpg\n",
            "/content/drive/MyDrive/train/sample_train/other/mel00959.jpg\n",
            "/content/drive/MyDrive/train/sample_train/other/bkl00958.jpg\n",
            "/content/drive/MyDrive/train/sample_train/other/mel00272.jpg\n",
            "/content/drive/MyDrive/train/sample_train/other/bcc00308.jpg\n",
            "/content/drive/MyDrive/train/sample_train/other/bkl00448.jpg\n",
            "/content/drive/MyDrive/train/sample_train/other/bcc00052.jpg\n",
            "/content/drive/MyDrive/train/sample_train/other/bkl01460.jpg\n",
            "/content/drive/MyDrive/train/sample_train/other/bcc00872.jpg\n",
            "/content/drive/MyDrive/train/sample_train/other/bkl00028.jpg\n",
            "/content/drive/MyDrive/train/sample_train/other/ack00386.jpg\n",
            "/content/drive/MyDrive/train/sample_train/other/ack00488.jpg\n",
            "/content/drive/MyDrive/train/sample_train/other/bcc01820.jpg\n",
            "/content/drive/MyDrive/train/sample_train/other/bkl00191.jpg\n",
            "/content/drive/MyDrive/train/sample_train/other/scc00096.jpg\n",
            "/content/drive/MyDrive/train/sample_train/other/mel00138.jpg\n",
            "/content/drive/MyDrive/train/sample_train/other/vac00017.jpg\n",
            "/content/drive/MyDrive/train/sample_train/other/mel00548.jpg\n",
            "/content/drive/MyDrive/train/sample_train/other/bcc01523.jpg\n",
            "/content/drive/MyDrive/train/sample_train/other/mel00025.jpg\n",
            "/content/drive/MyDrive/train/sample_train/other/bkl01384.jpg\n",
            "/content/drive/MyDrive/train/sample_train/other/bcc00992.jpg\n",
            "/content/drive/MyDrive/train/sample_train/other/mel02151.jpg\n",
            "/content/drive/MyDrive/train/sample_train/other/bcc01246.jpg\n",
            "/content/drive/MyDrive/train/sample_train/other/bcc01435.jpg\n",
            "/content/drive/MyDrive/train/sample_train/other/bcc00456.jpg\n",
            "/content/drive/MyDrive/train/sample_train/other/mel00772.jpg\n",
            "/content/drive/MyDrive/train/sample_train/other/bkl00711.jpg\n",
            "/content/drive/MyDrive/train/sample_train/other/bcc01009.jpg\n",
            "/content/drive/MyDrive/train/sample_train/other/mel01239.jpg\n",
            "/content/drive/MyDrive/train/sample_train/other/mel01307.jpg\n",
            "/content/drive/MyDrive/train/sample_train/other/bcc00114.jpg\n",
            "/content/drive/MyDrive/train/sample_train/other/bkl00752.jpg\n",
            "/content/drive/MyDrive/train/sample_train/other/bcc00955.jpg\n",
            "/content/drive/MyDrive/train/sample_train/other/mel01886.jpg\n",
            "/content/drive/MyDrive/train/sample_train/other/bkl00243.jpg\n",
            "/content/drive/MyDrive/train/sample_train/other/bkl00017.jpg\n",
            "/content/drive/MyDrive/train/sample_train/other/scc00063.jpg\n",
            "/content/drive/MyDrive/train/sample_train/other/mel02238.jpg\n",
            "/content/drive/MyDrive/train/sample_train/other/ack00453.jpg\n",
            "/content/drive/MyDrive/train/sample_train/other/mel00299.jpg\n",
            "/content/drive/MyDrive/train/sample_train/other/ack00258.jpg\n",
            "/content/drive/MyDrive/train/sample_train/other/bcc01859.jpg\n",
            "/content/drive/MyDrive/train/sample_train/other/mel01403.jpg\n",
            "/content/drive/MyDrive/train/sample_train/other/bkl00385.jpg\n",
            "/content/drive/MyDrive/train/sample_train/other/mel00483.jpg\n",
            "/content/drive/MyDrive/train/sample_train/other/mel02529.jpg\n",
            "/content/drive/MyDrive/train/sample_train/other/bkl01025.jpg\n",
            "/content/drive/MyDrive/train/sample_train/other/bkl00648.jpg\n",
            "/content/drive/MyDrive/train/sample_train/other/mel01866.jpg\n",
            "/content/drive/MyDrive/train/sample_train/other/bcc00141.jpg\n",
            "/content/drive/MyDrive/train/sample_train/other/scc00194.jpg\n",
            "/content/drive/MyDrive/train/sample_train/other/mel00954.jpg\n",
            "/content/drive/MyDrive/train/sample_train/other/bkl01043.jpg\n",
            "/content/drive/MyDrive/train/sample_train/other/bkl01047.jpg\n",
            "/content/drive/MyDrive/train/sample_train/other/mel01599.jpg\n",
            "/content/drive/MyDrive/train/sample_train/other/mel01117.jpg\n",
            "/content/drive/MyDrive/train/sample_train/other/ack00055.jpg\n",
            "/content/drive/MyDrive/train/sample_train/other/mel00225.jpg\n",
            "/content/drive/MyDrive/train/sample_train/other/mel00202.jpg\n",
            "/content/drive/MyDrive/train/sample_train/other/ack00095.jpg\n",
            "/content/drive/MyDrive/train/sample_train/other/bcc01552.jpg\n",
            "/content/drive/MyDrive/train/sample_train/other/mel02019.jpg\n",
            "/content/drive/MyDrive/train/sample_train/other/bkl00672.jpg\n",
            "/content/drive/MyDrive/train/sample_train/other/mel02119.jpg\n",
            "/content/drive/MyDrive/train/sample_train/other/bkl01053.jpg\n",
            "/content/drive/MyDrive/train/sample_train/other/bcc00625.jpg\n",
            "/content/drive/MyDrive/train/sample_train/other/scc00298.jpg\n",
            "/content/drive/MyDrive/train/sample_train/other/bkl00186.jpg\n",
            "/content/drive/MyDrive/train/sample_train/other/bkl00888.jpg\n",
            "/content/drive/MyDrive/train/sample_train/other/mel00183.jpg\n",
            "/content/drive/MyDrive/train/sample_train/other/bkl00097.jpg\n",
            "/content/drive/MyDrive/train/sample_train/other/ack00008.jpg\n",
            "/content/drive/MyDrive/train/sample_train/other/bkl01108.jpg\n",
            "/content/drive/MyDrive/train/sample_train/other/bcc01289.jpg\n",
            "/content/drive/MyDrive/train/sample_train/other/bkl00178.jpg\n",
            "/content/drive/MyDrive/train/sample_train/other/bkl01338.jpg\n",
            "/content/drive/MyDrive/train/sample_train/other/bkl00778.jpg\n",
            "/content/drive/MyDrive/train/sample_train/other/bcc01153.jpg\n",
            "/content/drive/MyDrive/train/sample_train/other/bcc01807.jpg\n",
            "/content/drive/MyDrive/train/sample_train/other/mel00629.jpg\n",
            "/content/drive/MyDrive/train/sample_train/other/bkl00643.jpg\n",
            "/content/drive/MyDrive/train/sample_train/other/mel02414.jpg\n",
            "/content/drive/MyDrive/train/sample_train/other/bkl00621.jpg\n",
            "/content/drive/MyDrive/train/sample_train/other/bkl01249.jpg\n",
            "/content/drive/MyDrive/train/sample_train/other/scc00297.jpg\n",
            "nevus\n",
            "/content/drive/MyDrive/train/sample_train/nevus/nev00089.jpg\n",
            "/content/drive/MyDrive/train/sample_train/nevus/nev01775.jpg\n",
            "/content/drive/MyDrive/train/sample_train/nevus/nev01331.jpg\n",
            "/content/drive/MyDrive/train/sample_train/nevus/nev02198.jpg\n",
            "/content/drive/MyDrive/train/sample_train/nevus/nev00985.jpg\n",
            "/content/drive/MyDrive/train/sample_train/nevus/nev02619.jpg\n",
            "/content/drive/MyDrive/train/sample_train/nevus/nev02943.jpg\n",
            "/content/drive/MyDrive/train/sample_train/nevus/nev05792.jpg\n",
            "/content/drive/MyDrive/train/sample_train/nevus/nev04377.jpg\n",
            "/content/drive/MyDrive/train/sample_train/nevus/nev03453.jpg\n",
            "/content/drive/MyDrive/train/sample_train/nevus/nev00812.jpg\n",
            "/content/drive/MyDrive/train/sample_train/nevus/nev02176.jpg\n",
            "/content/drive/MyDrive/train/sample_train/nevus/nev06656.jpg\n",
            "/content/drive/MyDrive/train/sample_train/nevus/nev00957.jpg\n",
            "/content/drive/MyDrive/train/sample_train/nevus/nev01821.jpg\n",
            "/content/drive/MyDrive/train/sample_train/nevus/nev03739.jpg\n",
            "/content/drive/MyDrive/train/sample_train/nevus/nev04960.jpg\n",
            "/content/drive/MyDrive/train/sample_train/nevus/nev01141.jpg\n",
            "/content/drive/MyDrive/train/sample_train/nevus/nev06326.jpg\n",
            "/content/drive/MyDrive/train/sample_train/nevus/nev07094.jpg\n",
            "/content/drive/MyDrive/train/sample_train/nevus/nev05905.jpg\n",
            "/content/drive/MyDrive/train/sample_train/nevus/nev04133.jpg\n",
            "/content/drive/MyDrive/train/sample_train/nevus/nev04075.jpg\n",
            "/content/drive/MyDrive/train/sample_train/nevus/nev07372.jpg\n",
            "/content/drive/MyDrive/train/sample_train/nevus/nev00659.jpg\n",
            "/content/drive/MyDrive/train/sample_train/nevus/nev01035.jpg\n",
            "/content/drive/MyDrive/train/sample_train/nevus/nev06884.jpg\n",
            "/content/drive/MyDrive/train/sample_train/nevus/nev02568.jpg\n",
            "/content/drive/MyDrive/train/sample_train/nevus/nev02167.jpg\n",
            "/content/drive/MyDrive/train/sample_train/nevus/nev04545.jpg\n",
            "/content/drive/MyDrive/train/sample_train/nevus/nev03065.jpg\n",
            "/content/drive/MyDrive/train/sample_train/nevus/nev06776.jpg\n",
            "/content/drive/MyDrive/train/sample_train/nevus/nev01444.jpg\n",
            "/content/drive/MyDrive/train/sample_train/nevus/nev07016.jpg\n",
            "/content/drive/MyDrive/train/sample_train/nevus/nev03772.jpg\n",
            "/content/drive/MyDrive/train/sample_train/nevus/nev04828.jpg\n",
            "/content/drive/MyDrive/train/sample_train/nevus/nev01744.jpg\n",
            "/content/drive/MyDrive/train/sample_train/nevus/nev05894.jpg\n",
            "/content/drive/MyDrive/train/sample_train/nevus/nev01346.jpg\n",
            "/content/drive/MyDrive/train/sample_train/nevus/nev05661.jpg\n",
            "/content/drive/MyDrive/train/sample_train/nevus/nev05660.jpg\n",
            "/content/drive/MyDrive/train/sample_train/nevus/nev04544.jpg\n",
            "/content/drive/MyDrive/train/sample_train/nevus/nev01841.jpg\n",
            "/content/drive/MyDrive/train/sample_train/nevus/nev02744.jpg\n",
            "/content/drive/MyDrive/train/sample_train/nevus/nev06462.jpg\n",
            "/content/drive/MyDrive/train/sample_train/nevus/nev03811.jpg\n",
            "/content/drive/MyDrive/train/sample_train/nevus/nev00275.jpg\n",
            "/content/drive/MyDrive/train/sample_train/nevus/nev02388.jpg\n",
            "/content/drive/MyDrive/train/sample_train/nevus/nev02303.jpg\n",
            "/content/drive/MyDrive/train/sample_train/nevus/nev03952.jpg\n",
            "/content/drive/MyDrive/train/sample_train/nevus/nev05693.jpg\n",
            "/content/drive/MyDrive/train/sample_train/nevus/nev01489.jpg\n",
            "/content/drive/MyDrive/train/sample_train/nevus/nev04567.jpg\n",
            "/content/drive/MyDrive/train/sample_train/nevus/nev03821.jpg\n",
            "/content/drive/MyDrive/train/sample_train/nevus/nev03963.jpg\n",
            "/content/drive/MyDrive/train/sample_train/nevus/nev04496.jpg\n",
            "/content/drive/MyDrive/train/sample_train/nevus/nev02172.jpg\n",
            "/content/drive/MyDrive/train/sample_train/nevus/nev06864.jpg\n",
            "/content/drive/MyDrive/train/sample_train/nevus/nev03890.jpg\n",
            "/content/drive/MyDrive/train/sample_train/nevus/nev01950.jpg\n",
            "/content/drive/MyDrive/train/sample_train/nevus/nev05208.jpg\n",
            "/content/drive/MyDrive/train/sample_train/nevus/nev05884.jpg\n",
            "/content/drive/MyDrive/train/sample_train/nevus/nev04231.jpg\n",
            "/content/drive/MyDrive/train/sample_train/nevus/nev03150.jpg\n",
            "/content/drive/MyDrive/train/sample_train/nevus/nev06434.jpg\n",
            "/content/drive/MyDrive/train/sample_train/nevus/nev01855.jpg\n",
            "/content/drive/MyDrive/train/sample_train/nevus/nev02820.jpg\n",
            "/content/drive/MyDrive/train/sample_train/nevus/nev03285.jpg\n",
            "/content/drive/MyDrive/train/sample_train/nevus/nev07584.jpg\n",
            "/content/drive/MyDrive/train/sample_train/nevus/nev04022.jpg\n",
            "/content/drive/MyDrive/train/sample_train/nevus/nev04502.jpg\n",
            "/content/drive/MyDrive/train/sample_train/nevus/nev02056.jpg\n",
            "/content/drive/MyDrive/train/sample_train/nevus/nev02883.jpg\n",
            "/content/drive/MyDrive/train/sample_train/nevus/nev03795.jpg\n",
            "/content/drive/MyDrive/train/sample_train/nevus/nev00532.jpg\n",
            "/content/drive/MyDrive/train/sample_train/nevus/nev05120.jpg\n",
            "/content/drive/MyDrive/train/sample_train/nevus/nev02771.jpg\n",
            "/content/drive/MyDrive/train/sample_train/nevus/nev03246.jpg\n",
            "/content/drive/MyDrive/train/sample_train/nevus/nev00352.jpg\n",
            "/content/drive/MyDrive/train/sample_train/nevus/nev07534.jpg\n",
            "/content/drive/MyDrive/train/sample_train/nevus/nev04950.jpg\n",
            "/content/drive/MyDrive/train/sample_train/nevus/nev05458.jpg\n",
            "/content/drive/MyDrive/train/sample_train/nevus/nev06590.jpg\n",
            "/content/drive/MyDrive/train/sample_train/nevus/nev00120.jpg\n",
            "/content/drive/MyDrive/train/sample_train/nevus/nev05388.jpg\n",
            "/content/drive/MyDrive/train/sample_train/nevus/nev02470.jpg\n",
            "/content/drive/MyDrive/train/sample_train/nevus/nev04229.jpg\n",
            "/content/drive/MyDrive/train/sample_train/nevus/nev03444.jpg\n",
            "/content/drive/MyDrive/train/sample_train/nevus/nev06195.jpg\n",
            "/content/drive/MyDrive/train/sample_train/nevus/nev03976.jpg\n",
            "/content/drive/MyDrive/train/sample_train/nevus/nev03949.jpg\n",
            "/content/drive/MyDrive/train/sample_train/nevus/nev01064.jpg\n",
            "/content/drive/MyDrive/train/sample_train/nevus/nev05242.jpg\n",
            "/content/drive/MyDrive/train/sample_train/nevus/nev03510.jpg\n",
            "/content/drive/MyDrive/train/sample_train/nevus/nev00180.jpg\n",
            "/content/drive/MyDrive/train/sample_train/nevus/nev01254.jpg\n",
            "/content/drive/MyDrive/train/sample_train/nevus/nev00173.jpg\n",
            "/content/drive/MyDrive/train/sample_train/nevus/nev02857.jpg\n",
            "/content/drive/MyDrive/train/sample_train/nevus/nev02581.jpg\n",
            "/content/drive/MyDrive/train/sample_train/nevus/nev06903.jpg\n",
            "/content/drive/MyDrive/train/sample_train/nevus/nev00141.jpg\n",
            "/content/drive/MyDrive/train/sample_train/nevus/nev04958.jpg\n",
            "/content/drive/MyDrive/train/sample_train/nevus/nev01746.jpg\n",
            "/content/drive/MyDrive/train/sample_train/nevus/nev07349.jpg\n",
            "/content/drive/MyDrive/train/sample_train/nevus/nev04189.jpg\n",
            "/content/drive/MyDrive/train/sample_train/nevus/nev07337.jpg\n",
            "/content/drive/MyDrive/train/sample_train/nevus/nev01349.jpg\n",
            "/content/drive/MyDrive/train/sample_train/nevus/nev00520.jpg\n",
            "/content/drive/MyDrive/train/sample_train/nevus/nev05402.jpg\n",
            "/content/drive/MyDrive/train/sample_train/nevus/nev02422.jpg\n",
            "/content/drive/MyDrive/train/sample_train/nevus/nev07199.jpg\n",
            "/content/drive/MyDrive/train/sample_train/nevus/nev05374.jpg\n",
            "/content/drive/MyDrive/train/sample_train/nevus/nev06813.jpg\n",
            "/content/drive/MyDrive/train/sample_train/nevus/nev04420.jpg\n",
            "/content/drive/MyDrive/train/sample_train/nevus/nev06123.jpg\n",
            "/content/drive/MyDrive/train/sample_train/nevus/nev02608.jpg\n",
            "/content/drive/MyDrive/train/sample_train/nevus/nev00806.jpg\n",
            "/content/drive/MyDrive/train/sample_train/nevus/nev01834.jpg\n",
            "/content/drive/MyDrive/train/sample_train/nevus/nev04640.jpg\n",
            "/content/drive/MyDrive/train/sample_train/nevus/nev04150.jpg\n",
            "/content/drive/MyDrive/train/sample_train/nevus/nev03718.jpg\n",
            "/content/drive/MyDrive/train/sample_train/nevus/nev01408.jpg\n",
            "/content/drive/MyDrive/train/sample_train/nevus/nev05648.jpg\n",
            "/content/drive/MyDrive/train/sample_train/nevus/nev04839.jpg\n",
            "/content/drive/MyDrive/train/sample_train/nevus/nev01969.jpg\n",
            "/content/drive/MyDrive/train/sample_train/nevus/nev01138.jpg\n",
            "/content/drive/MyDrive/train/sample_train/nevus/nev02328.jpg\n",
            "/content/drive/MyDrive/train/sample_train/nevus/nev01648.jpg\n",
            "/content/drive/MyDrive/train/sample_train/nevus/nev02453.jpg\n",
            "/content/drive/MyDrive/train/sample_train/nevus/nev00453.jpg\n",
            "/content/drive/MyDrive/train/sample_train/nevus/nev03094.jpg\n",
            "/content/drive/MyDrive/train/sample_train/nevus/nev02338.jpg\n",
            "/content/drive/MyDrive/train/sample_train/nevus/nev06726.jpg\n",
            "/content/drive/MyDrive/train/sample_train/nevus/nev07518.jpg\n",
            "/content/drive/MyDrive/train/sample_train/nevus/nev00093.jpg\n",
            "/content/drive/MyDrive/train/sample_train/nevus/nev01303.jpg\n",
            "/content/drive/MyDrive/train/sample_train/nevus/nev03699.jpg\n",
            "/content/drive/MyDrive/train/sample_train/nevus/nev06001.jpg\n",
            "/content/drive/MyDrive/train/sample_train/nevus/nev00581.jpg\n",
            "/content/drive/MyDrive/train/sample_train/nevus/nev03569.jpg\n",
            "/content/drive/MyDrive/train/sample_train/nevus/nev03935.jpg\n",
            "/content/drive/MyDrive/train/sample_train/nevus/nev01418.jpg\n",
            "/content/drive/MyDrive/train/sample_train/nevus/nev03690.jpg\n",
            "/content/drive/MyDrive/train/sample_train/nevus/nev04171.jpg\n",
            "/content/drive/MyDrive/train/sample_train/nevus/nev02915.jpg\n",
            "/content/drive/MyDrive/train/sample_train/nevus/nev04094.jpg\n",
            "/content/drive/MyDrive/train/sample_train/nevus/nev02384.jpg\n",
            "/content/drive/MyDrive/train/sample_train/nevus/nev03136.jpg\n",
            "/content/drive/MyDrive/train/sample_train/nevus/nev02667.jpg\n",
            "/content/drive/MyDrive/train/sample_train/nevus/nev03559.jpg\n",
            "/content/drive/MyDrive/train/sample_train/nevus/nev04464.jpg\n",
            "/content/drive/MyDrive/train/sample_train/nevus/nev04407.jpg\n",
            "/content/drive/MyDrive/train/sample_train/nevus/nev01250.jpg\n",
            "/content/drive/MyDrive/train/sample_train/nevus/nev05673.jpg\n",
            "/content/drive/MyDrive/train/sample_train/nevus/nev06289.jpg\n",
            "/content/drive/MyDrive/train/sample_train/nevus/nev00461.jpg\n",
            "/content/drive/MyDrive/train/sample_train/nevus/nev05506.jpg\n",
            "/content/drive/MyDrive/train/sample_train/nevus/nev00653.jpg\n",
            "/content/drive/MyDrive/train/sample_train/nevus/nev07024.jpg\n",
            "/content/drive/MyDrive/train/sample_train/nevus/nev03389.jpg\n",
            "/content/drive/MyDrive/train/sample_train/nevus/nev05822.jpg\n",
            "/content/drive/MyDrive/train/sample_train/nevus/nev03791.jpg\n",
            "/content/drive/MyDrive/train/sample_train/nevus/nev00600.jpg\n",
            "/content/drive/MyDrive/train/sample_train/nevus/nev04179.jpg\n",
            "/content/drive/MyDrive/train/sample_train/nevus/nev05027.jpg\n",
            "/content/drive/MyDrive/train/sample_train/nevus/nev01478.jpg\n",
            "/content/drive/MyDrive/train/sample_train/nevus/nev00412.jpg\n",
            "/content/drive/MyDrive/train/sample_train/nevus/nev02066.jpg\n",
            "/content/drive/MyDrive/train/sample_train/nevus/nev01466.jpg\n",
            "/content/drive/MyDrive/train/sample_train/nevus/nev02083.jpg\n",
            "/content/drive/MyDrive/train/sample_train/nevus/nev03426.jpg\n",
            "/content/drive/MyDrive/train/sample_train/nevus/nev06102.jpg\n",
            "/content/drive/MyDrive/train/sample_train/nevus/nev02818.jpg\n",
            "/content/drive/MyDrive/train/sample_train/nevus/nev07231.jpg\n",
            "/content/drive/MyDrive/train/sample_train/nevus/nev07483.jpg\n",
            "/content/drive/MyDrive/train/sample_train/nevus/nev01521.jpg\n",
            "/content/drive/MyDrive/train/sample_train/nevus/nev04047.jpg\n",
            "/content/drive/MyDrive/train/sample_train/nevus/nev00065.jpg\n",
            "/content/drive/MyDrive/train/sample_train/nevus/nev00799.jpg\n",
            "/content/drive/MyDrive/train/sample_train/nevus/nev05196.jpg\n",
            "/content/drive/MyDrive/train/sample_train/nevus/nev01239.jpg\n",
            "/content/drive/MyDrive/train/sample_train/nevus/nev05862.jpg\n",
            "/content/drive/MyDrive/train/sample_train/nevus/nev04792.jpg\n",
            "/content/drive/MyDrive/train/sample_train/nevus/nev04575.jpg\n",
            "/content/drive/MyDrive/train/sample_train/nevus/nev06091.jpg\n",
            "/content/drive/MyDrive/train/sample_train/nevus/nev00264.jpg\n",
            "/content/drive/MyDrive/train/sample_train/nevus/nev07140.jpg\n",
            "/content/drive/MyDrive/train/sample_train/nevus/nev05956.jpg\n",
            "/content/drive/MyDrive/train/sample_train/nevus/nev05099.jpg\n",
            "/content/drive/MyDrive/train/sample_train/nevus/nev07570.jpg\n",
            "/content/drive/MyDrive/train/sample_train/nevus/nev06108.jpg\n",
            "/content/drive/MyDrive/train/sample_train/nevus/nev03957.jpg\n",
            "/content/drive/MyDrive/train/sample_train/nevus/nev05050.jpg\n",
            "/content/drive/MyDrive/train/sample_train/nevus/nev06891.jpg\n",
            "/content/drive/MyDrive/train/sample_train/nevus/nev00334.jpg\n",
            "/content/drive/MyDrive/train/sample_train/nevus/nev03062.jpg\n",
            "/content/drive/MyDrive/train/sample_train/nevus/nev01736.jpg\n",
            "/content/drive/MyDrive/train/sample_train/nevus/nev05243.jpg\n",
            "/content/drive/MyDrive/train/sample_train/nevus/nev03666.jpg\n",
            "/content/drive/MyDrive/train/sample_train/nevus/nev06786.jpg\n",
            "/content/drive/MyDrive/train/sample_train/nevus/nev07168.jpg\n",
            "/content/drive/MyDrive/train/sample_train/nevus/nev02964.jpg\n",
            "/content/drive/MyDrive/train/sample_train/nevus/nev04888.jpg\n",
            "/content/drive/MyDrive/train/sample_train/nevus/nev01604.jpg\n",
            "/content/drive/MyDrive/train/sample_train/nevus/nev01452.jpg\n",
            "/content/drive/MyDrive/train/sample_train/nevus/nev03937.jpg\n",
            "/content/drive/MyDrive/train/sample_train/nevus/nev04527.jpg\n",
            "/content/drive/MyDrive/train/sample_train/nevus/nev01702.jpg\n",
            "/content/drive/MyDrive/train/sample_train/nevus/nev06846.jpg\n",
            "/content/drive/MyDrive/train/sample_train/nevus/nev07450.jpg\n",
            "/content/drive/MyDrive/train/sample_train/nevus/nev06429.jpg\n",
            "/content/drive/MyDrive/train/sample_train/nevus/nev03721.jpg\n",
            "/content/drive/MyDrive/train/sample_train/nevus/nev06511.jpg\n",
            "/content/drive/MyDrive/train/sample_train/nevus/nev07594.jpg\n",
            "/content/drive/MyDrive/train/sample_train/nevus/nev03349.jpg\n",
            "/content/drive/MyDrive/train/sample_train/nevus/nev01145.jpg\n",
            "/content/drive/MyDrive/train/sample_train/nevus/nev01877.jpg\n",
            "/content/drive/MyDrive/train/sample_train/nevus/nev03326.jpg\n",
            "/content/drive/MyDrive/train/sample_train/nevus/nev03311.jpg\n",
            "/content/drive/MyDrive/train/sample_train/nevus/nev03534.jpg\n",
            "/content/drive/MyDrive/train/sample_train/nevus/nev02928.jpg\n",
            "/content/drive/MyDrive/train/sample_train/nevus/nev00185.jpg\n",
            "/content/drive/MyDrive/train/sample_train/nevus/nev04617.jpg\n",
            "/content/drive/MyDrive/train/sample_train/nevus/nev00284.jpg\n",
            "/content/drive/MyDrive/train/sample_train/nevus/nev02136.jpg\n",
            "/content/drive/MyDrive/train/sample_train/nevus/nev06940.jpg\n",
            "/content/drive/MyDrive/train/sample_train/nevus/nev05723.jpg\n",
            "/content/drive/MyDrive/train/sample_train/nevus/nev02728.jpg\n",
            "/content/drive/MyDrive/train/sample_train/nevus/nev03038.jpg\n",
            "/content/drive/MyDrive/train/sample_train/nevus/nev03832.jpg\n",
            "/content/drive/MyDrive/train/sample_train/nevus/nev00947.jpg\n",
            "/content/drive/MyDrive/train/sample_train/nevus/nev00547.jpg\n",
            "/content/drive/MyDrive/train/sample_train/nevus/nev05906.jpg\n",
            "/content/drive/MyDrive/train/sample_train/nevus/nev00623.jpg\n",
            "/content/drive/MyDrive/train/sample_train/nevus/nev02148.jpg\n",
            "/content/drive/MyDrive/train/sample_train/nevus/nev01437.jpg\n",
            "/content/drive/MyDrive/train/sample_train/nevus/nev01635.jpg\n",
            "/content/drive/MyDrive/train/sample_train/nevus/nev07233.jpg\n",
            "/content/drive/MyDrive/train/sample_train/nevus/nev05013.jpg\n",
            "/content/drive/MyDrive/train/sample_train/nevus/nev05054.jpg\n",
            "/content/drive/MyDrive/train/sample_train/nevus/nev04767.jpg\n",
            "/content/drive/MyDrive/train/sample_train/nevus/nev03840.jpg\n",
            "/content/drive/MyDrive/train/sample_train/nevus/nev07054.jpg\n",
            "/content/drive/MyDrive/train/sample_train/nevus/nev01395.jpg\n",
            "/content/drive/MyDrive/train/sample_train/nevus/nev07386.jpg\n",
            "/content/drive/MyDrive/train/sample_train/nevus/nev01863.jpg\n",
            "/content/drive/MyDrive/train/sample_train/nevus/nev03141.jpg\n",
            "/content/drive/MyDrive/train/sample_train/nevus/nev03583.jpg\n",
            "/content/drive/MyDrive/train/sample_train/nevus/nev07412.jpg\n",
            "/content/drive/MyDrive/train/sample_train/nevus/nev02866.jpg\n",
            "/content/drive/MyDrive/train/sample_train/nevus/nev04964.jpg\n",
            "/content/drive/MyDrive/train/sample_train/nevus/nev06111.jpg\n",
            "/content/drive/MyDrive/train/sample_train/nevus/nev00341.jpg\n",
            "/content/drive/MyDrive/train/sample_train/nevus/nev03091.jpg\n",
            "/content/drive/MyDrive/train/sample_train/nevus/nev01978.jpg\n",
            "/content/drive/MyDrive/train/sample_train/nevus/nev06164.jpg\n",
            "/content/drive/MyDrive/train/sample_train/nevus/nev00890.jpg\n",
            "/content/drive/MyDrive/train/sample_train/nevus/nev04120.jpg\n",
            "/content/drive/MyDrive/train/sample_train/nevus/nev02213.jpg\n",
            "/content/drive/MyDrive/train/sample_train/nevus/nev00624.jpg\n",
            "/content/drive/MyDrive/train/sample_train/nevus/nev06927.jpg\n",
            "/content/drive/MyDrive/train/sample_train/nevus/nev03325.jpg\n",
            "/content/drive/MyDrive/train/sample_train/nevus/nev02555.jpg\n",
            "/content/drive/MyDrive/train/sample_train/nevus/nev00743.jpg\n",
            "/content/drive/MyDrive/train/sample_train/nevus/nev07128.jpg\n",
            "/content/drive/MyDrive/train/sample_train/nevus/nev00183.jpg\n",
            "/content/drive/MyDrive/train/sample_train/nevus/nev00740.jpg\n",
            "/content/drive/MyDrive/train/sample_train/nevus/nev04641.jpg\n",
            "/content/drive/MyDrive/train/sample_train/nevus/nev06847.jpg\n",
            "/content/drive/MyDrive/train/sample_train/nevus/nev03896.jpg\n",
            "/content/drive/MyDrive/train/sample_train/nevus/nev03847.jpg\n",
            "/content/drive/MyDrive/train/sample_train/nevus/nev02149.jpg\n",
            "/content/drive/MyDrive/train/sample_train/nevus/nev01853.jpg\n",
            "/content/drive/MyDrive/train/sample_train/nevus/nev07028.jpg\n",
            "/content/drive/MyDrive/train/sample_train/nevus/nev03531.jpg\n",
            "/content/drive/MyDrive/train/sample_train/nevus/nev02889.jpg\n",
            "/content/drive/MyDrive/train/sample_train/nevus/nev01762.jpg\n",
            "/content/drive/MyDrive/train/sample_train/nevus/nev05507.jpg\n",
            "/content/drive/MyDrive/train/sample_train/nevus/nev04002.jpg\n",
            "/content/drive/MyDrive/train/sample_train/nevus/nev03207.jpg\n",
            "/content/drive/MyDrive/train/sample_train/nevus/nev06704.jpg\n",
            "/content/drive/MyDrive/train/sample_train/nevus/nev02471.jpg\n",
            "/content/drive/MyDrive/train/sample_train/nevus/nev03095.jpg\n",
            "/content/drive/MyDrive/train/sample_train/nevus/nev02747.jpg\n",
            "/content/drive/MyDrive/train/sample_train/nevus/nev07007.jpg\n",
            "/content/drive/MyDrive/train/sample_train/nevus/nev00667.jpg\n",
            "/content/drive/MyDrive/train/sample_train/nevus/nev01603.jpg\n",
            "/content/drive/MyDrive/train/sample_train/nevus/nev06541.jpg\n",
            "/content/drive/MyDrive/train/sample_train/nevus/nev05114.jpg\n",
            "/content/drive/MyDrive/train/sample_train/nevus/nev00457.jpg\n",
            "/content/drive/MyDrive/train/sample_train/nevus/nev06812.jpg\n",
            "/content/drive/MyDrive/train/sample_train/nevus/nev04538.jpg\n",
            "/content/drive/MyDrive/train/sample_train/nevus/nev05984.jpg\n",
            "/content/drive/MyDrive/train/sample_train/nevus/nev04172.jpg\n",
            "/content/drive/MyDrive/train/sample_train/nevus/nev06098.jpg\n",
            "/content/drive/MyDrive/train/sample_train/nevus/nev04569.jpg\n",
            "/content/drive/MyDrive/train/sample_train/nevus/nev07230.jpg\n",
            "/content/drive/MyDrive/train/sample_train/nevus/nev02359.jpg\n",
            "/content/drive/MyDrive/train/sample_train/nevus/nev00849.jpg\n",
            "/content/drive/MyDrive/train/sample_train/nevus/nev02320.jpg\n",
            "/content/drive/MyDrive/train/sample_train/nevus/nev05007.jpg\n",
            "/content/drive/MyDrive/train/sample_train/nevus/nev03836.jpg\n",
            "/content/drive/MyDrive/train/sample_train/nevus/nev05993.jpg\n",
            "/content/drive/MyDrive/train/sample_train/nevus/nev02410.jpg\n",
            "/content/drive/MyDrive/train/sample_train/nevus/nev06880.jpg\n",
            "/content/drive/MyDrive/train/sample_train/nevus/nev04125.jpg\n",
            "/content/drive/MyDrive/train/sample_train/nevus/nev00918.jpg\n",
            "/content/drive/MyDrive/train/sample_train/nevus/nev00290.jpg\n",
            "/content/drive/MyDrive/train/sample_train/nevus/nev05645.jpg\n",
            "/content/drive/MyDrive/train/sample_train/nevus/nev05796.jpg\n",
            "/content/drive/MyDrive/train/sample_train/nevus/nev00083.jpg\n",
            "/content/drive/MyDrive/train/sample_train/nevus/nev00962.jpg\n",
            "/content/drive/MyDrive/train/sample_train/nevus/nev02179.jpg\n",
            "/content/drive/MyDrive/train/sample_train/nevus/nev02515.jpg\n",
            "/content/drive/MyDrive/train/sample_train/nevus/nev06959.jpg\n",
            "/content/drive/MyDrive/train/sample_train/nevus/nev02737.jpg\n",
            "/content/drive/MyDrive/train/sample_train/nevus/nev06605.jpg\n",
            "/content/drive/MyDrive/train/sample_train/nevus/nev03427.jpg\n",
            "/content/drive/MyDrive/train/sample_train/nevus/nev02974.jpg\n",
            "/content/drive/MyDrive/train/sample_train/nevus/nev06735.jpg\n",
            "/content/drive/MyDrive/train/sample_train/nevus/nev04036.jpg\n",
            "/content/drive/MyDrive/train/sample_train/nevus/nev01278.jpg\n",
            "/content/drive/MyDrive/train/sample_train/nevus/nev01128.jpg\n",
            "/content/drive/MyDrive/train/sample_train/nevus/nev00475.jpg\n",
            "/content/drive/MyDrive/train/sample_train/nevus/nev06595.jpg\n",
            "/content/drive/MyDrive/train/sample_train/nevus/nev04079.jpg\n",
            "/content/drive/MyDrive/train/sample_train/nevus/nev07698.jpg\n",
            "/content/drive/MyDrive/train/sample_train/nevus/nev00431.jpg\n",
            "/content/drive/MyDrive/train/sample_train/nevus/nev00108.jpg\n",
            "/content/drive/MyDrive/train/sample_train/nevus/nev04000.jpg\n",
            "/content/drive/MyDrive/train/sample_train/nevus/nev04908.jpg\n",
            "/content/drive/MyDrive/train/sample_train/nevus/nev02173.jpg\n",
            "/content/drive/MyDrive/train/sample_train/nevus/nev03381.jpg\n",
            "/content/drive/MyDrive/train/sample_train/nevus/nev01967.jpg\n",
            "/content/drive/MyDrive/train/sample_train/nevus/nev01664.jpg\n",
            "/content/drive/MyDrive/train/sample_train/nevus/nev07013.jpg\n",
            "/content/drive/MyDrive/train/sample_train/nevus/nev06570.jpg\n",
            "/content/drive/MyDrive/train/sample_train/nevus/nev01756.jpg\n",
            "/content/drive/MyDrive/train/sample_train/nevus/nev01473.jpg\n",
            "/content/drive/MyDrive/train/sample_train/nevus/nev06540.jpg\n",
            "/content/drive/MyDrive/train/sample_train/nevus/nev03878.jpg\n",
            "/content/drive/MyDrive/train/sample_train/nevus/nev01902.jpg\n",
            "/content/drive/MyDrive/train/sample_train/nevus/nev06354.jpg\n",
            "/content/drive/MyDrive/train/sample_train/nevus/nev00687.jpg\n",
            "/content/drive/MyDrive/train/sample_train/nevus/nev05103.jpg\n",
            "/content/drive/MyDrive/train/sample_train/nevus/nev02741.jpg\n",
            "/content/drive/MyDrive/train/sample_train/nevus/nev06715.jpg\n",
            "/content/drive/MyDrive/train/sample_train/nevus/nev01110.jpg\n",
            "/content/drive/MyDrive/train/sample_train/nevus/nev01036.jpg\n",
            "/content/drive/MyDrive/train/sample_train/nevus/nev04444.jpg\n",
            "/content/drive/MyDrive/train/sample_train/nevus/nev04989.jpg\n",
            "/content/drive/MyDrive/train/sample_train/nevus/nev05168.jpg\n",
            "/content/drive/MyDrive/train/sample_train/nevus/nev02900.jpg\n",
            "/content/drive/MyDrive/train/sample_train/nevus/nev03738.jpg\n",
            "/content/drive/MyDrive/train/sample_train/nevus/nev02673.jpg\n",
            "/content/drive/MyDrive/train/sample_train/nevus/nev02063.jpg\n",
            "/content/drive/MyDrive/train/sample_train/nevus/nev01056.jpg\n",
            "/content/drive/MyDrive/train/sample_train/nevus/nev04210.jpg\n",
            "/content/drive/MyDrive/train/sample_train/nevus/nev06860.jpg\n",
            "/content/drive/MyDrive/train/sample_train/nevus/nev01340.jpg\n",
            "/content/drive/MyDrive/train/sample_train/nevus/nev05991.jpg\n",
            "/content/drive/MyDrive/train/sample_train/nevus/nev00800.jpg\n",
            "/content/drive/MyDrive/train/sample_train/nevus/nev05254.jpg\n",
            "/content/drive/MyDrive/train/sample_train/nevus/nev00117.jpg\n",
            "/content/drive/MyDrive/train/sample_train/nevus/nev05699.jpg\n",
            "/content/drive/MyDrive/train/sample_train/nevus/nev07574.jpg\n",
            "/content/drive/MyDrive/train/sample_train/nevus/nev00135.jpg\n",
            "/content/drive/MyDrive/train/sample_train/nevus/nev01012.jpg\n",
            "/content/drive/MyDrive/train/sample_train/nevus/nev01866.jpg\n",
            "/content/drive/MyDrive/train/sample_train/nevus/nev07153.jpg\n",
            "/content/drive/MyDrive/train/sample_train/nevus/nev07509.jpg\n",
            "/content/drive/MyDrive/train/sample_train/nevus/nev04330.jpg\n",
            "/content/drive/MyDrive/train/sample_train/nevus/nev01032.jpg\n",
            "/content/drive/MyDrive/train/sample_train/nevus/nev02578.jpg\n",
            "/content/drive/MyDrive/train/sample_train/nevus/nev06518.jpg\n",
            "/content/drive/MyDrive/train/sample_train/nevus/nev07596.jpg\n",
            "/content/drive/MyDrive/train/sample_train/nevus/nev06385.jpg\n",
            "/content/drive/MyDrive/train/sample_train/nevus/nev06896.jpg\n",
            "/content/drive/MyDrive/train/sample_train/nevus/nev06380.jpg\n",
            "/content/drive/MyDrive/train/sample_train/nevus/nev02317.jpg\n",
            "/content/drive/MyDrive/train/sample_train/nevus/nev04963.jpg\n",
            "/content/drive/MyDrive/train/sample_train/nevus/nev02067.jpg\n",
            "/content/drive/MyDrive/train/sample_train/nevus/nev06612.jpg\n",
            "/content/drive/MyDrive/train/sample_train/nevus/nev04723.jpg\n",
            "/content/drive/MyDrive/train/sample_train/nevus/nev05446.jpg\n",
            "/content/drive/MyDrive/train/sample_train/nevus/nev07098.jpg\n",
            "/content/drive/MyDrive/train/sample_train/nevus/nev01285.jpg\n",
            "/content/drive/MyDrive/train/sample_train/nevus/nev06658.jpg\n"
          ]
        }
      ]
    },
    {
      "cell_type": "code",
      "source": [
        "train_images"
      ],
      "metadata": {
        "id": "-qbE1nYvycKH"
      },
      "execution_count": null,
      "outputs": []
    },
    {
      "cell_type": "code",
      "source": [
        "print(train_labels)"
      ],
      "metadata": {
        "id": "u-QOj9ELwCdk"
      },
      "execution_count": null,
      "outputs": []
    },
    {
      "cell_type": "code",
      "source": [
        "test_images = []\n",
        "test_labels = []\n",
        "#for directory_path in glob.glob(\"cell_images/test/*\"): \n",
        "for directory_path in glob.glob(\"/content/drive/MyDrive/val/sample_val/*\"):\n",
        "    test_label = directory_path.split(\"/\")[-1]\n",
        "    for img_path in glob.glob(os.path.join(directory_path, \"*.jpg\")):\n",
        "        img = cv2.imread(img_path, 0)\n",
        "        img = cv2.resize(img, (SIZE, SIZE))\n",
        "        test_images.append(img)\n",
        "        test_labels.append(test_label)\n",
        "        \n",
        "test_images = np.array(test_images)\n",
        "test_labels = np.array(test_labels)\n"
      ],
      "metadata": {
        "id": "OmGYCrkIqj9i"
      },
      "execution_count": 10,
      "outputs": []
    },
    {
      "cell_type": "markdown",
      "source": [
        "## Label Encoding"
      ],
      "metadata": {
        "id": "CerVmwjfLvEs"
      }
    },
    {
      "cell_type": "code",
      "source": [
        "from sklearn import preprocessing\n",
        "le = preprocessing.LabelEncoder()\n",
        "le.fit(test_labels)\n",
        "test_labels_encoded = le.transform(test_labels)\n",
        "le.fit(train_labels)\n",
        "train_labels_encoded = le.transform(train_labels)"
      ],
      "metadata": {
        "id": "Nx-a7VFwrE3R"
      },
      "execution_count": 16,
      "outputs": []
    },
    {
      "cell_type": "code",
      "source": [
        "x_train, y_train, x_test, y_test = train_images, train_labels_encoded, test_images, test_labels_encoded\n"
      ],
      "metadata": {
        "id": "pPcS7NIareJw"
      },
      "execution_count": 21,
      "outputs": []
    },
    {
      "cell_type": "markdown",
      "source": [
        "## GLCM Extractor"
      ],
      "metadata": {
        "id": "ZDVTxyzfL3l2"
      }
    },
    {
      "cell_type": "code",
      "source": [
        "def feature_extractor(dataset):\n",
        "  image_dataset  = pd.DataFrame()\n",
        "  distance = [1, 3, 5, 8]\n",
        "  angle = [0, np.pi/4, np.pi/2, 3*np.pi/4]\n",
        "  for image in range(dataset.shape[0]):\n",
        "    img = dataset[image]\n",
        "    df = pd.DataFrame()\n",
        "    count = 1\n",
        "    for dist in distance:\n",
        "      for ang in angle:\n",
        "        GLCM = greycomatrix(img, [dist], [ang])      \n",
        "        GLCM_Energy = greycoprops(GLCM, 'energy')[0]\n",
        "        df[f'Energy{count}'] = GLCM_Energy\n",
        "        GLCM_corr = greycoprops(GLCM, 'correlation')[0]\n",
        "        df[f'Corr{count}'] = GLCM_corr             \n",
        "        GLCM_hom = greycoprops(GLCM, 'homogeneity')[0]\n",
        "        df[f'Homogen{count}'] = GLCM_hom       \n",
        "        GLCM_contr = greycoprops(GLCM, 'contrast')[0]\n",
        "        df[f'Contrast{count}'] = GLCM_contr\n",
        "        count = count + 1\n",
        "    image_dataset = image_dataset.append(df)    \n",
        "  return image_dataset"
      ],
      "metadata": {
        "id": "WxiRE24Vrmxf"
      },
      "execution_count": 22,
      "outputs": []
    },
    {
      "cell_type": "code",
      "source": [
        "image_features = feature_extractor(x_train)\n",
        "X_for_ML =image_features"
      ],
      "metadata": {
        "id": "xdDRRdCa9q2r"
      },
      "execution_count": 27,
      "outputs": []
    },
    {
      "cell_type": "code",
      "source": [
        "image_features = feature_extractor(x_test)\n",
        "X_test_ML =image_features"
      ],
      "metadata": {
        "id": "drRPYDFHsrGJ"
      },
      "execution_count": 26,
      "outputs": []
    },
    {
      "cell_type": "code",
      "source": [
        "X_test_ML.shape[0]"
      ],
      "metadata": {
        "colab": {
          "base_uri": "https://localhost:8080/"
        },
        "id": "zlSfDkLsBKGK",
        "outputId": "665c4946-ca83-4630-e9f7-4edf363b2cac"
      },
      "execution_count": 32,
      "outputs": [
        {
          "output_type": "execute_result",
          "data": {
            "text/plain": [
              "725"
            ]
          },
          "metadata": {},
          "execution_count": 32
        }
      ]
    },
    {
      "cell_type": "code",
      "source": [
        "X_for_ML"
      ],
      "metadata": {
        "id": "P3xbREUpFvO7"
      },
      "execution_count": null,
      "outputs": []
    },
    {
      "cell_type": "markdown",
      "source": [
        "## SVM"
      ],
      "metadata": {
        "id": "mRt5SBmbMCBH"
      }
    },
    {
      "cell_type": "code",
      "source": [
        "pipe1 = Pipeline([\n",
        "                 (\"scale\", StandardScaler()),\n",
        "                 (\"classifier\", SVC(class_weight='balanced', probability=True, kernel= 'rbf', gamma=0.01, C=100)) #radial basis function kernel\n",
        "                 ])"
      ],
      "metadata": {
        "id": "8NeblTA2AdM3"
      },
      "execution_count": 33,
      "outputs": []
    },
    {
      "cell_type": "code",
      "source": [
        "pipe1.fit(X_for_ML,train_labels_encoded)"
      ],
      "metadata": {
        "colab": {
          "base_uri": "https://localhost:8080/"
        },
        "id": "jt-exYkgAeb4",
        "outputId": "9a4dadd1-a4c0-4eb1-8415-9471ebee7917"
      },
      "execution_count": 36,
      "outputs": [
        {
          "output_type": "execute_result",
          "data": {
            "text/plain": [
              "Pipeline(steps=[('scale', StandardScaler()),\n",
              "                ('classifier',\n",
              "                 SVC(C=100, class_weight='balanced', gamma=0.01,\n",
              "                     probability=True))])"
            ]
          },
          "metadata": {},
          "execution_count": 36
        }
      ]
    },
    {
      "cell_type": "code",
      "source": [
        "# Test set evaluation\n",
        "prediction = pipe1.predict(X_test_ML)\n",
        "# Visualization\n",
        "cmat = metrics.confusion_matrix(prediction,test_labels_encoded)\n",
        "s = sns.heatmap(cmat,annot=True,xticklabels=label, yticklabels=label)\n",
        "s.set(xlabel='Predicted', ylabel='Actual')\n",
        "acc = cmat.trace() / cmat.sum()\n",
        "print('Accuracy: {0:5.2f}%'.format(acc*100))"
      ],
      "metadata": {
        "colab": {
          "base_uri": "https://localhost:8080/",
          "height": 296
        },
        "id": "_Ycj94-_CCiT",
        "outputId": "d0255953-4a93-441e-b600-3c24b78d0307"
      },
      "execution_count": 48,
      "outputs": [
        {
          "output_type": "stream",
          "name": "stdout",
          "text": [
            "Accuracy: 72.41%\n"
          ]
        },
        {
          "output_type": "display_data",
          "data": {
            "text/plain": [
              "<Figure size 432x288 with 2 Axes>"
            ],
            "image/png": "[encoded data removed]"
          },
          "metadata": {
            "needs_background": "light"
          }
        }
      ]
    },
    {
      "cell_type": "code",
      "source": [
        "prediction_prob = pipe1.predict_proba(X_test_ML)\n",
        "print(\"Area under curve (AUC): \", roc_auc_score(test_labels_encoded, prediction_prob[:,1]))"
      ],
      "metadata": {
        "colab": {
          "base_uri": "https://localhost:8080/"
        },
        "id": "ZIOYBfjnC48S",
        "outputId": "8e84bb4f-7027-4171-98f1-1ac5b7d25da1"
      },
      "execution_count": 49,
      "outputs": [
        {
          "output_type": "stream",
          "name": "stdout",
          "text": [
            "Area under curve (AUC):  0.8033689481454425\n"
          ]
        }
      ]
    },
    {
      "cell_type": "code",
      "source": [
        "fpr, tpr, thresholds = roc_curve(test_labels_encoded, prediction_prob[:,1]) # outputs false positive rate, true positive rate, and corresponding thresholds.\n",
        "plt.figure(1)\n",
        "plt.plot([0,1],[0,1], 'y--')\n",
        "plt.plot(fpr, tpr, linestyle = '--')\n",
        "plt.xlabel('False positive rate')\n",
        "plt.ylabel('True positive rate')\n",
        "plt.title('ROC curve')\n",
        "plt.show()"
      ],
      "metadata": {
        "colab": {
          "base_uri": "https://localhost:8080/",
          "height": 295
        },
        "id": "b39IGP4RDI8s",
        "outputId": "316f658b-f2b4-4d5e-bf50-c945c242f2d3"
      },
      "execution_count": 50,
      "outputs": [
        {
          "output_type": "display_data",
          "data": {
            "text/plain": [
              "<Figure size 432x288 with 1 Axes>"
            ],
            "image/png": "[encoded data removed]"
          },
          "metadata": {
            "needs_background": "light"
          }
        }
      ]
    },
    {
      "cell_type": "markdown",
      "source": [
        "## Random Forest"
      ],
      "metadata": {
        "id": "0hRhX6FrMG3L"
      }
    },
    {
      "cell_type": "code",
      "source": [
        "pipe2 = Pipeline([\n",
        "                 (\"scale\", StandardScaler()),\n",
        "                 (\"classifier\", RandomForestClassifier(n_estimators = 100, random_state = 42))\n",
        "                 ])"
      ],
      "metadata": {
        "id": "KX2wmJx8DZrO"
      },
      "execution_count": 51,
      "outputs": []
    },
    {
      "cell_type": "code",
      "source": [
        "pipe2.fit(X_for_ML,train_labels_encoded)"
      ],
      "metadata": {
        "colab": {
          "base_uri": "https://localhost:8080/"
        },
        "id": "s9Ho7JfnDi5W",
        "outputId": "c984bd67-42bc-4243-ae3c-a100c7af0f8c"
      },
      "execution_count": 52,
      "outputs": [
        {
          "output_type": "execute_result",
          "data": {
            "text/plain": [
              "Pipeline(steps=[('scale', StandardScaler()),\n",
              "                ('classifier', RandomForestClassifier(random_state=42))])"
            ]
          },
          "metadata": {},
          "execution_count": 52
        }
      ]
    },
    {
      "cell_type": "code",
      "source": [
        "# Test set evaluation\n",
        "prediction = pipe2.predict(X_test_ML)\n",
        "# Visualization\n",
        "cmat = metrics.confusion_matrix(prediction,test_labels_encoded)\n",
        "s = sns.heatmap(cmat,annot=True,xticklabels=label, yticklabels=label)\n",
        "s.set(xlabel='Predicted', ylabel='Actual')\n",
        "acc = cmat.trace() / cmat.sum()\n",
        "print('Accuracy: {0:5.2f}%'.format(acc*100))"
      ],
      "metadata": {
        "colab": {
          "base_uri": "https://localhost:8080/",
          "height": 298
        },
        "id": "cz3LJigzDnda",
        "outputId": "c8b1c0e0-d2c5-4b88-fb0c-005033fb9e55"
      },
      "execution_count": 53,
      "outputs": [
        {
          "output_type": "stream",
          "name": "stdout",
          "text": [
            "Accuracy: 71.17%\n"
          ]
        },
        {
          "output_type": "display_data",
          "data": {
            "text/plain": [
              "<Figure size 432x288 with 2 Axes>"
            ],
            "image/png": "[encoded data removed]"
          },
          "metadata": {
            "needs_background": "light"
          }
        }
      ]
    },
    {
      "cell_type": "code",
      "source": [
        "prediction_prob = pipe2.predict_proba(X_test_ML)\n",
        "print(\"Area under curve (AUC): \", roc_auc_score(test_labels_encoded, prediction_prob[:,1]))"
      ],
      "metadata": {
        "colab": {
          "base_uri": "https://localhost:8080/"
        },
        "id": "UyA_sPyPEIT-",
        "outputId": "b61835a4-4cf7-409c-8ce3-ecc52c7e38d4"
      },
      "execution_count": 54,
      "outputs": [
        {
          "output_type": "stream",
          "name": "stdout",
          "text": [
            "Area under curve (AUC):  0.7749874434957308\n"
          ]
        }
      ]
    },
    {
      "cell_type": "code",
      "source": [
        "fpr, tpr, thresholds = roc_curve(test_labels_encoded, prediction_prob[:,1]) # outputs false positive rate, true positive rate, and corresponding thresholds.\n",
        "plt.figure(1)\n",
        "plt.plot([0,1],[0,1], 'y--')\n",
        "plt.plot(fpr, tpr, linestyle = '--')\n",
        "plt.xlabel('False positive rate')\n",
        "plt.ylabel('True positive rate')\n",
        "plt.title('ROC curve')\n",
        "plt.show()"
      ],
      "metadata": {
        "colab": {
          "base_uri": "https://localhost:8080/",
          "height": 295
        },
        "id": "ymjNTqTnEOrA",
        "outputId": "94eb7c47-2132-4baf-f7d5-a2fd7b8c9754"
      },
      "execution_count": 55,
      "outputs": [
        {
          "output_type": "display_data",
          "data": {
            "text/plain": [
              "<Figure size 432x288 with 1 Axes>"
            ],
            "image/png": "[encoded data removed]"
          },
          "metadata": {
            "needs_background": "light"
          }
        }
      ]
    },
    {
      "cell_type": "markdown",
      "source": [
        "## KNN"
      ],
      "metadata": {
        "id": "QxrLlQ3uMPr4"
      }
    },
    {
      "cell_type": "code",
      "source": [
        "pipe3 = Pipeline([\n",
        "                 (\"scale\",StandardScaler()),\n",
        "                 (\"classifier\", KNeighborsClassifier(n_neighbors=7))\n",
        "                 ])"
      ],
      "metadata": {
        "id": "XBC_zxYbEj4M"
      },
      "execution_count": 56,
      "outputs": []
    },
    {
      "cell_type": "code",
      "source": [
        "pipe3.fit(X_for_ML,train_labels_encoded)"
      ],
      "metadata": {
        "colab": {
          "base_uri": "https://localhost:8080/"
        },
        "id": "fX78m5oMEeIF",
        "outputId": "d29dd8c8-4e9d-492a-a7af-e4e2570a087e"
      },
      "execution_count": 57,
      "outputs": [
        {
          "output_type": "execute_result",
          "data": {
            "text/plain": [
              "Pipeline(steps=[('scale', StandardScaler()),\n",
              "                ('classifier', KNeighborsClassifier(n_neighbors=7))])"
            ]
          },
          "metadata": {},
          "execution_count": 57
        }
      ]
    },
    {
      "cell_type": "code",
      "source": [
        "prediction_prob = pipe3.predict_proba(X_test_ML)\n",
        "print(\"Area under curve (AUC): \", roc_auc_score(test_labels_encoded, prediction_prob[:,1]))"
      ],
      "metadata": {
        "colab": {
          "base_uri": "https://localhost:8080/"
        },
        "id": "oam2d5noF6kS",
        "outputId": "069a7fb0-b7be-4a9e-f061-881e687eb674"
      },
      "execution_count": 64,
      "outputs": [
        {
          "output_type": "stream",
          "name": "stdout",
          "text": [
            "Area under curve (AUC):  0.7504147451410135\n"
          ]
        }
      ]
    },
    {
      "cell_type": "code",
      "source": [
        "# Test set evaluation\n",
        "prediction = pipe3.predict(X_test_ML)\n",
        "# Visualization\n",
        "cmat = metrics.confusion_matrix(prediction,test_labels_encoded)\n",
        "s = sns.heatmap(cmat,annot=True,xticklabels=label, yticklabels=label)\n",
        "s.set(xlabel='Predicted', ylabel='Actual')\n",
        "acc = cmat.trace() / cmat.sum()\n",
        "print('Accuracy: {0:5.2f}%'.format(acc*100))"
      ],
      "metadata": {
        "colab": {
          "base_uri": "https://localhost:8080/",
          "height": 298
        },
        "id": "LAhKGaG4Eyoh",
        "outputId": "667e58f4-628a-4edb-f9fa-33dc5822f5be"
      },
      "execution_count": 65,
      "outputs": [
        {
          "output_type": "stream",
          "name": "stdout",
          "text": [
            "Accuracy: 70.34%\n"
          ]
        },
        {
          "output_type": "display_data",
          "data": {
            "text/plain": [
              "<Figure size 432x288 with 2 Axes>"
            ],
            "image/png": "[encoded data removed]"
          },
          "metadata": {
            "needs_background": "light"
          }
        }
      ]
    },
    {
      "cell_type": "code",
      "source": [
        "fpr, tpr, thresholds = roc_curve(test_labels_encoded, prediction_prob[:,1]) # outputs false positive rate, true positive rate, and corresponding thresholds.\n",
        "plt.figure(1)\n",
        "plt.plot([0,1],[0,1], 'y--')\n",
        "plt.plot(fpr, tpr, linestyle = '--')\n",
        "plt.xlabel('False positive rate')\n",
        "plt.ylabel('True positive rate')\n",
        "plt.title('ROC curve')\n",
        "plt.show()"
      ],
      "metadata": {
        "colab": {
          "base_uri": "https://localhost:8080/",
          "height": 295
        },
        "id": "KeleiuOLE1Yb",
        "outputId": "43b19c27-d219-4cd8-f01d-791cede02936"
      },
      "execution_count": 66,
      "outputs": [
        {
          "output_type": "display_data",
          "data": {
            "text/plain": [
              "<Figure size 432x288 with 1 Axes>"
            ],
            "image/png": "[encoded data removed]"
          },
          "metadata": {
            "needs_background": "light"
          }
        }
      ]
    },
    {
      "cell_type": "markdown",
      "source": [
        "## AdaBoost"
      ],
      "metadata": {
        "id": "lWYVd2MoMW7f"
      }
    },
    {
      "cell_type": "code",
      "source": [
        "clf = AdaBoostClassifier(n_estimators=200, random_state=0)\n",
        "clf.fit(X_for_ML,train_labels_encoded)"
      ],
      "metadata": {
        "colab": {
          "base_uri": "https://localhost:8080/"
        },
        "id": "z8HWAHCWFBT6",
        "outputId": "b174ebe2-8909-41e9-b400-79600f66cd69"
      },
      "execution_count": 60,
      "outputs": [
        {
          "output_type": "execute_result",
          "data": {
            "text/plain": [
              "AdaBoostClassifier(n_estimators=200, random_state=0)"
            ]
          },
          "metadata": {},
          "execution_count": 60
        }
      ]
    },
    {
      "cell_type": "code",
      "source": [
        "prediction_prob = clf.predict_proba(X_test_ML)\n",
        "print(\"Area under curve (AUC): \", roc_auc_score(test_labels_encoded, prediction_prob[:,1]))"
      ],
      "metadata": {
        "colab": {
          "base_uri": "https://localhost:8080/"
        },
        "id": "bahidginGSd7",
        "outputId": "c76baf58-1f91-4b57-d353-3338c9ef1ed7"
      },
      "execution_count": 67,
      "outputs": [
        {
          "output_type": "stream",
          "name": "stdout",
          "text": [
            "Area under curve (AUC):  0.718091259151028\n"
          ]
        }
      ]
    },
    {
      "cell_type": "code",
      "source": [
        "# Test set evaluation\n",
        "prediction = clf.predict(X_test_ML)\n",
        "# Visualization\n",
        "cmat = confusion_matrix(prediction,test_labels_encoded)\n",
        "s = sns.heatmap(cmat,annot=True,xticklabels=label, yticklabels=label)\n",
        "s.set(xlabel='Predicted', ylabel='Actual')\n",
        "acc = cmat.trace() / cmat.sum()\n",
        "print('Accuracy: {0:5.2f}%'.format(acc*100))"
      ],
      "metadata": {
        "colab": {
          "base_uri": "https://localhost:8080/",
          "height": 296
        },
        "id": "dHSeEpDxFOxA",
        "outputId": "6b73a5e7-07e0-40b9-b4d4-1b22f5abb303"
      },
      "execution_count": 68,
      "outputs": [
        {
          "output_type": "stream",
          "name": "stdout",
          "text": [
            "Accuracy: 67.03%\n"
          ]
        },
        {
          "output_type": "display_data",
          "data": {
            "text/plain": [
              "<Figure size 432x288 with 2 Axes>"
            ],
            "image/png": "[encoded data removed]"
          },
          "metadata": {
            "needs_background": "light"
          }
        }
      ]
    },
    {
      "cell_type": "code",
      "source": [
        "fpr, tpr, thresholds = roc_curve(test_labels_encoded, prediction_prob[:,1]) # outputs false positive rate, true positive rate, and corresponding thresholds.\n",
        "plt.figure(1)\n",
        "plt.plot([0,1],[0,1], 'y--')\n",
        "plt.plot(fpr, tpr, linestyle = '--')\n",
        "plt.xlabel('False positive rate')\n",
        "plt.ylabel('True positive rate')\n",
        "plt.title('ROC curve')\n",
        "plt.show()"
      ],
      "metadata": {
        "colab": {
          "base_uri": "https://localhost:8080/",
          "height": 295
        },
        "id": "JZh0f2SJFyC3",
        "outputId": "7bc9e64c-565b-432b-b797-4b12180895e1"
      },
      "execution_count": 69,
      "outputs": [
        {
          "output_type": "display_data",
          "data": {
            "text/plain": [
              "<Figure size 432x288 with 1 Axes>"
            ],
            "image/png": "[encoded data removed]"
          },
          "metadata": {
            "needs_background": "light"
          }
        }
      ]
    },
    {
      "cell_type": "markdown",
      "source": [
        "## XGB"
      ],
      "metadata": {
        "id": "QfIx7G5NMdo7"
      }
    },
    {
      "cell_type": "code",
      "source": [
        "mod1 = xgb.XGBClassifier(booster='dart',learning_rate=0.1)\n",
        "train_arr = np.array(X_for_ML)\n",
        "test_arr = np.array(X_test_ML)\n",
        "mod1.fit(train_arr, train_labels_encoded)"
      ],
      "metadata": {
        "colab": {
          "base_uri": "https://localhost:8080/"
        },
        "id": "X6l_-aSAGbrJ",
        "outputId": "b09226ee-b146-4208-fa52-9ecf9ea373b0"
      },
      "execution_count": 72,
      "outputs": [
        {
          "output_type": "execute_result",
          "data": {
            "text/plain": [
              "XGBClassifier(booster='dart')"
            ]
          },
          "metadata": {},
          "execution_count": 72
        }
      ]
    },
    {
      "cell_type": "code",
      "source": [
        "prediction = mod1.predict(test_arr)\n",
        "print(\"Accuracy = \", accuracy_score(test_labels_encoded, prediction))"
      ],
      "metadata": {
        "colab": {
          "base_uri": "https://localhost:8080/"
        },
        "id": "haEaOdTlH2YX",
        "outputId": "15cf35f2-57e2-40c8-e174-5ac78cf0080e"
      },
      "execution_count": 73,
      "outputs": [
        {
          "output_type": "stream",
          "name": "stdout",
          "text": [
            "Accuracy =  0.7048275862068966\n"
          ]
        }
      ]
    },
    {
      "cell_type": "code",
      "source": [
        "cm = confusion_matrix(test_labels_encoded, prediction)\n",
        "sns.heatmap(cm, annot=True)"
      ],
      "metadata": {
        "colab": {
          "base_uri": "https://localhost:8080/",
          "height": 282
        },
        "id": "tN55xdyAISLT",
        "outputId": "6a0a6dad-6cd1-4779-d922-07beff35943c"
      },
      "execution_count": 74,
      "outputs": [
        {
          "output_type": "execute_result",
          "data": {
            "text/plain": [
              "<matplotlib.axes._subplots.AxesSubplot at 0x7f423c389590>"
            ]
          },
          "metadata": {},
          "execution_count": 74
        },
        {
          "output_type": "display_data",
          "data": {
            "text/plain": [
              "<Figure size 432x288 with 2 Axes>"
            ],
            "image/png": "[encoded data removed]"
          },
          "metadata": {
            "needs_background": "light"
          }
        }
      ]
    },
    {
      "cell_type": "code",
      "source": [
        "prediction_prob = mod1.predict_proba(test_arr)\n",
        "print(\"Area under curve (AUC): \", roc_auc_score(test_labels_encoded, prediction_prob[:,1]))"
      ],
      "metadata": {
        "colab": {
          "base_uri": "https://localhost:8080/"
        },
        "id": "g1IoFVCzIbcU",
        "outputId": "f819c539-6731-45e9-930f-9bf099ad42b8"
      },
      "execution_count": 75,
      "outputs": [
        {
          "output_type": "stream",
          "name": "stdout",
          "text": [
            "Area under curve (AUC):  0.7703529519200036\n"
          ]
        }
      ]
    },
    {
      "cell_type": "code",
      "source": [
        "fpr, tpr, thresholds = roc_curve(test_labels_encoded, prediction_prob[:,1]) # outputs false positive rate, true positive rate, and corresponding thresholds.\n",
        "plt.figure(1)\n",
        "plt.plot([0,1],[0,1], 'y--')\n",
        "plt.plot(fpr, tpr, linestyle = '--')\n",
        "plt.xlabel('False positive rate')\n",
        "plt.ylabel('True positive rate')\n",
        "plt.title('ROC curve')\n",
        "plt.show()"
      ],
      "metadata": {
        "colab": {
          "base_uri": "https://localhost:8080/",
          "height": 295
        },
        "id": "NmoNZ-9MIjb7",
        "outputId": "1fc9d514-976c-4c6d-ce3d-72188fefbb7f"
      },
      "execution_count": 76,
      "outputs": [
        {
          "output_type": "display_data",
          "data": {
            "text/plain": [
              "<Figure size 432x288 with 1 Axes>"
            ],
            "image/png": "[encoded data removed]"
          },
          "metadata": {
            "needs_background": "light"
          }
        }
      ]
    },
    {
      "cell_type": "markdown",
      "source": [
        "## LightGBM"
      ],
      "metadata": {
        "id": "8xp_LptwMi-l"
      }
    },
    {
      "cell_type": "code",
      "source": [
        "scaler = StandardScaler()\n",
        "train_scaled = scaler.fit_transform(X_for_ML)\n",
        "test_scaled = scaler.transform(X_test_ML)\n",
        "d_train = lgb.Dataset(train_scaled, label=train_labels_encoded)"
      ],
      "metadata": {
        "id": "hnjZ2OnWIsIk"
      },
      "execution_count": 79,
      "outputs": []
    },
    {
      "cell_type": "code",
      "source": [
        "lgbm_params = {'learning_rate':0.05, 'boosting_type':'gbdt', #Sometimes dart gives better accuracy. gbdt means gradient boosting.\n",
        "              'objective':'binary',\n",
        "              'metric':['auc', 'binary_logloss'],\n",
        "              'num_leaves':100, # optimizing this avoids overfitting. 50 to 100\n",
        "              'max_depth':10} #10 may be appropriate"
      ],
      "metadata": {
        "id": "PQspjVoaI_Vm"
      },
      "execution_count": 80,
      "outputs": []
    },
    {
      "cell_type": "code",
      "source": [
        "clf = lgb.train(lgbm_params, d_train, 50) #50 iterations. Increase iterations for small learning rates. eg if learning grate = 0.005, we may need 500 iterations.\n",
        "prediction=clf.predict(test_scaled)\n",
        "#convert the probabilities into binary values 0/1 for classification\n",
        "for i in range(0, test_scaled.shape[0]):\n",
        "    if prediction[i]>=.5: # setting threshold to 0.5\n",
        "       prediction[i]=1\n",
        "    else:  \n",
        "       prediction[i]=0"
      ],
      "metadata": {
        "id": "GrvqxgowJDZ-"
      },
      "execution_count": 81,
      "outputs": []
    },
    {
      "cell_type": "code",
      "source": [
        "#Print accuracy\n",
        "print (\"Accuracy with LGBM = \", accuracy_score(test_labels_encoded, prediction))\n",
        "#Confusion matrix\n",
        "cm_lgbm = confusion_matrix(test_labels_encoded, prediction)\n",
        "sns.heatmap(cm_lgbm, annot=True)"
      ],
      "metadata": {
        "colab": {
          "base_uri": "https://localhost:8080/",
          "height": 300
        },
        "id": "eEpCBvMnJKvK",
        "outputId": "64bb9940-a75b-45d6-eeab-6f33da2b0e53"
      },
      "execution_count": 82,
      "outputs": [
        {
          "output_type": "stream",
          "name": "stdout",
          "text": [
            "Accuracy with LGBM =  0.7006896551724138\n"
          ]
        },
        {
          "output_type": "execute_result",
          "data": {
            "text/plain": [
              "<matplotlib.axes._subplots.AxesSubplot at 0x7f423c319f90>"
            ]
          },
          "metadata": {},
          "execution_count": 82
        },
        {
          "output_type": "display_data",
          "data": {
            "text/plain": [
              "<Figure size 432x288 with 2 Axes>"
            ],
            "image/png": "[encoded data removed]"
          },
          "metadata": {
            "needs_background": "light"
          }
        }
      ]
    },
    {
      "cell_type": "code",
      "source": [
        "prediction_prob=clf.predict(test_scaled)\n",
        "print(\"Area under curve (AUC): \", roc_auc_score(test_labels_encoded, prediction_prob))"
      ],
      "metadata": {
        "colab": {
          "base_uri": "https://localhost:8080/"
        },
        "id": "xcOhHaJWJ1d8",
        "outputId": "2ac5cd20-2e6f-454f-d401-991ea8ebec90"
      },
      "execution_count": 83,
      "outputs": [
        {
          "output_type": "stream",
          "name": "stdout",
          "text": [
            "Area under curve (AUC):  0.7701779218604934\n"
          ]
        }
      ]
    },
    {
      "cell_type": "code",
      "source": [
        "fpr, tpr, thresholds = roc_curve(test_labels_encoded, prediction_prob) # outputs false positive rate, true positive rate, and corresponding thresholds.\n",
        "plt.figure(1)\n",
        "plt.plot([0,1],[0,1], 'y--')\n",
        "plt.plot(fpr, tpr, linestyle = '--')\n",
        "plt.xlabel('False positive rate')\n",
        "plt.ylabel('True positive rate')\n",
        "plt.title('ROC curve')\n",
        "plt.show()"
      ],
      "metadata": {
        "colab": {
          "base_uri": "https://localhost:8080/",
          "height": 295
        },
        "id": "x2VvGptHKCJV",
        "outputId": "de6e352d-2dc6-49a1-b414-7f9b0136034f"
      },
      "execution_count": 84,
      "outputs": [
        {
          "output_type": "display_data",
          "data": {
            "text/plain": [
              "<Figure size 432x288 with 1 Axes>"
            ],
            "image/png": "[encoded data removed]"
          },
          "metadata": {
            "needs_background": "light"
          }
        }
      ]
    }
  ]
}