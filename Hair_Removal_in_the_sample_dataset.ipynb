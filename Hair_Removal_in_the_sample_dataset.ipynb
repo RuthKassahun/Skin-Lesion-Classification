{
  "nbformat": 4,
  "nbformat_minor": 0,
  "metadata": {
    "colab": {
      "provenance": [],
      "mount_file_id": "1KXf6I-A1Y-8gYrNm__T4ib5wyXhiJKZS",
      "authorship_tag": "ABX9TyOYNEs1k5zXWXAtC/pSsKKD",
      "include_colab_link": true
    },
    "kernelspec": {
      "name": "python3",
      "display_name": "Python 3"
    },
    "language_info": {
      "name": "python"
    }
  },
  "cells": [
    {
      "cell_type": "markdown",
      "metadata": {
        "id": "view-in-github",
        "colab_type": "text"
      },
      "source": [
        "<a href=\"https://colab.research.google.com/github/RuthKassahun/Skin-Lesion-Classification/blob/main/Hair_Removal_in_the_sample_dataset.ipynb\" target=\"_parent\"><img src=\"https://colab.research.google.com/assets/colab-badge.svg\" alt=\"Open In Colab\"/></a>"
      ]
    },
    {
      "cell_type": "code",
      "execution_count": 1,
      "metadata": {
        "id": "dRz4QvSYEfKm"
      },
      "outputs": [],
      "source": [
        "import numpy as np\n",
        "import pandas as pd\n",
        "import matplotlib.pyplot as plt\n",
        "import seaborn as sns\n",
        "import os\n",
        "import glob\n",
        "from pathlib import Path\n",
        "from PIL import Image, ImageOps\n",
        "import cv2\n",
        "from skimage.restoration import denoise_nl_means, estimate_sigma\n",
        "from skimage import img_as_ubyte, img_as_float\n",
        "from skimage import io\n",
        "import shutil"
      ]
    },
    {
      "cell_type": "code",
      "source": [
        "from google.colab import drive\n",
        "drive.mount('/gdrive', force_remount=True)"
      ],
      "metadata": {
        "colab": {
          "base_uri": "https://localhost:8080/"
        },
        "id": "WdXxBY9tFcuD",
        "outputId": "89d8770c-20a3-4d57-df2f-86ddf74f714d"
      },
      "execution_count": 8,
      "outputs": [
        {
          "output_type": "stream",
          "name": "stdout",
          "text": [
            "Mounted at /gdrive\n"
          ]
        }
      ]
    },
    {
      "cell_type": "code",
      "source": [
        "nevus =  os.listdir(\"/content/drive/MyDrive/train/sample_train/nevus\")\n",
        "other =  os.listdir(\"/content/drive/MyDrive/train/sample_train/other\")"
      ],
      "metadata": {
        "colab": {
          "base_uri": "https://localhost:8080/",
          "height": 183
        },
        "id": "gA4-yvSBIK4p",
        "outputId": "7cb7950e-aded-49bd-ccc0-544490995244"
      },
      "execution_count": 7,
      "outputs": [
        {
          "output_type": "error",
          "ename": "OSError",
          "evalue": "ignored",
          "traceback": [
            "\u001b[0;31m---------------------------------------------------------------------------\u001b[0m",
            "\u001b[0;31mOSError\u001b[0m                                   Traceback (most recent call last)",
            "\u001b[0;32m<ipython-input-7-65c295e1d4b1>\u001b[0m in \u001b[0;36m<module>\u001b[0;34m\u001b[0m\n\u001b[0;32m----> 1\u001b[0;31m \u001b[0mnevus\u001b[0m \u001b[0;34m=\u001b[0m  \u001b[0mos\u001b[0m\u001b[0;34m.\u001b[0m\u001b[0mlistdir\u001b[0m\u001b[0;34m(\u001b[0m\u001b[0;34m\"/content/drive/MyDrive/train/sample_train/nevus\"\u001b[0m\u001b[0;34m)\u001b[0m\u001b[0;34m\u001b[0m\u001b[0;34m\u001b[0m\u001b[0m\n\u001b[0m\u001b[1;32m      2\u001b[0m \u001b[0mother\u001b[0m \u001b[0;34m=\u001b[0m  \u001b[0mos\u001b[0m\u001b[0;34m.\u001b[0m\u001b[0mlistdir\u001b[0m\u001b[0;34m(\u001b[0m\u001b[0;34m\"/content/drive/MyDrive/train/sample_train/other\"\u001b[0m\u001b[0;34m)\u001b[0m\u001b[0;34m\u001b[0m\u001b[0;34m\u001b[0m\u001b[0m\n",
            "\u001b[0;31mOSError\u001b[0m: [Errno 107] Transport endpoint is not connected: '/content/drive/MyDrive/train/sample_train/nevus'"
          ]
        }
      ]
    },
    {
      "cell_type": "code",
      "source": [
        "for i in range(len(nevus)):\n",
        "    fname = nevus[i]\n",
        "    src = os.path.join('/content/drive/MyDrive/train/sample_train/nevus', fname)\n",
        "    # destination path to image\n",
        "    dst = os.path.join('/content/drive/MyDrive/train/sample_train_hair_removed/nevus',fname)\n",
        "    # copy the image from the source to the destination\n",
        "    shutil.copyfile(src, dst)"
      ],
      "metadata": {
        "id": "oUozkcuKMELU"
      },
      "execution_count": null,
      "outputs": []
    },
    {
      "cell_type": "code",
      "source": [
        "for i in range(len(other)):\n",
        "    fname = nevus[i]\n",
        "    src = os.path.join('/content/drive/MyDrive/train/sample_train/other', fname)\n",
        "    # destination path to image\n",
        "    dst = os.path.join('/content/drive/MyDrive/train/sample_train_hair_removed/other',fname)\n",
        "    # copy the image from the source to the destination\n",
        "    shutil.copyfile(src, dst)"
      ],
      "metadata": {
        "id": "5QYm85lkMvqo"
      },
      "execution_count": null,
      "outputs": []
    },
    {
      "cell_type": "code",
      "source": [
        "bb =os.listdir('/content/drive/MyDrive/train/sample_train/nevus')\n",
        "len(bb)"
      ],
      "metadata": {
        "colab": {
          "base_uri": "https://localhost:8080/"
        },
        "id": "qEOSUKxkNJiJ",
        "outputId": "7826de7c-0e41-4645-bbbb-c8ad176af70f"
      },
      "execution_count": 18,
      "outputs": [
        {
          "output_type": "execute_result",
          "data": {
            "text/plain": [
              "388"
            ]
          },
          "metadata": {},
          "execution_count": 18
        }
      ]
    },
    {
      "cell_type": "code",
      "source": [
        "import cv2\n",
        "import numpy as np\n",
        "import matplotlib.pyplot as plt\n",
        "import glob\n",
        "i = 3\n",
        "kernel = cv2.getStructuringElement(1,(17,17)) # Kernel for the morphological filtering"
      ],
      "metadata": {
        "id": "wXBfPx24NUym"
      },
      "execution_count": 19,
      "outputs": []
    },
    {
      "cell_type": "code",
      "source": [
        "n=1\n",
        "for directory_path in glob.glob(\"/content/drive/MyDrive/train/sample_train/nevus/\"):\n",
        "   #label = directory_path.split(\"/\")[-1]\n",
        "   #print(label)\n",
        "   for img_path in glob.glob(os.path.join(directory_path, \"*.jpg\")):\n",
        "      #img_label = img_path.stem\n",
        "      #print(img_label)\n",
        "      src = cv2.imread(os.path.join(img_path),1)\n",
        "      kernel = cv2.getStructuringElement(1,(17,17))\n",
        "      grayScale = cv2.cvtColor( src, cv2.COLOR_RGB2GRAY ) #1 Convert the original image to grayscale\n",
        "      blackhat = cv2.morphologyEx(grayScale, cv2.MORPH_BLACKHAT, kernel) #2 Perform the blackHat filtering on the gray\n",
        "      ret,thresh2 = cv2.threshold(blackhat,10,255,cv2.THRESH_BINARY) # intensify the hair countours in preparation for the inpainting algorithm\n",
        "      dst = cv2.inpaint(src,thresh2,1,cv2.INPAINT_TELEA) # inpaint the original image depending on the mask\n",
        "      cv2.imwrite(f'/content/drive/MyDrive/train/sample_train_hair_removed/nevus/{n}.jpg',dst)\n",
        "      n=n+1\n",
        "      print(img_path)"
      ],
      "metadata": {
        "id": "0I1tGFTdNhYn"
      },
      "execution_count": null,
      "outputs": []
    },
    {
      "cell_type": "code",
      "source": [
        "n=1\n",
        "for directory_path in glob.glob(\"/content/drive/MyDrive/train/sample_train/other/\"):\n",
        "   #label = directory_path.split(\"/\")[-1]\n",
        "   #print(label)\n",
        "   for img_path in glob.glob(os.path.join(directory_path, \"*.jpg\")):\n",
        "      #img_label = img_path.stem\n",
        "      #print(img_label)\n",
        "      src = cv2.imread(os.path.join(img_path),1)\n",
        "      kernel = cv2.getStructuringElement(1,(17,17))\n",
        "      grayScale = cv2.cvtColor( src, cv2.COLOR_RGB2GRAY ) #1 Convert the original image to grayscale\n",
        "      blackhat = cv2.morphologyEx(grayScale, cv2.MORPH_BLACKHAT, kernel) #2 Perform the blackHat filtering on the gray\n",
        "      ret,thresh2 = cv2.threshold(blackhat,10,255,cv2.THRESH_BINARY) # intensify the hair countours in preparation for the inpainting algorithm\n",
        "      dst = cv2.inpaint(src,thresh2,1,cv2.INPAINT_TELEA) # inpaint the original image depending on the mask\n",
        "      cv2.imwrite(f'/content/drive/MyDrive/train/sample_train_hair_removed/other/otherr{n}.jpg',dst)\n",
        "      n=n+1\n",
        "      print(img_path)"
      ],
      "metadata": {
        "id": "9rs5UhMQ_uB4"
      },
      "execution_count": 5,
      "outputs": []
    }
  ]
}