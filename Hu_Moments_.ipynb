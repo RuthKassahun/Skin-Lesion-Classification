{
  "nbformat": 4,
  "nbformat_minor": 0,
  "metadata": {
    "colab": {
      "provenance": [],
      "collapsed_sections": [],
      "mount_file_id": "1NM3I-Tl5UyDlWTfGQgsB-ekgsecx_o7x",
      "authorship_tag": "ABX9TyNp7RGduAZiWHJvyuNL6dbW",
      "include_colab_link": true
    },
    "kernelspec": {
      "name": "python3",
      "display_name": "Python 3"
    },
    "language_info": {
      "name": "python"
    }
  },
  "cells": [
    {
      "cell_type": "markdown",
      "metadata": {
        "id": "view-in-github",
        "colab_type": "text"
      },
      "source": [
        "<a href=\"https://colab.research.google.com/github/RuthKassahun/Skin-Lesion-Classification/blob/main/Hu_Moments_.ipynb\" target=\"_parent\"><img src=\"https://colab.research.google.com/assets/colab-badge.svg\" alt=\"Open In Colab\"/></a>"
      ]
    },
    {
      "cell_type": "markdown",
      "source": [
        "# HU moments with Hair Removed "
      ],
      "metadata": {
        "id": "uZZBnPHNLLVZ"
      }
    },
    {
      "cell_type": "markdown",
      "source": [
        "## Import Libraries"
      ],
      "metadata": {
        "id": "VEyKRvtkLVv6"
      }
    },
    {
      "cell_type": "code",
      "execution_count": 101,
      "metadata": {
        "id": "C6XWF4DqCFRw"
      },
      "outputs": [],
      "source": [
        "import numpy as np \n",
        "import matplotlib.pyplot as plt\n",
        "import glob\n",
        "import cv2\n",
        "import os\n",
        "import seaborn as sns\n",
        "import pandas as pd\n",
        "from skimage.filters import sobel\n",
        "from skimage.feature import greycomatrix, greycoprops\n",
        "from skimage.measure import shannon_entropy\n",
        "from sklearn.pipeline import Pipeline\n",
        "from sklearn.svm import SVC, LinearSVC\n",
        "from sklearn.ensemble import RandomForestClassifier\n",
        "from sklearn.neighbors import KNeighborsClassifier\n",
        "from sklearn.ensemble import AdaBoostClassifier\n",
        "from sklearn.preprocessing import LabelEncoder, StandardScaler, MinMaxScaler\n",
        "from sklearn import metrics\n",
        "from pathlib import Path\n",
        "import xgboost as xgb\n",
        "import lightgbm as lgb\n",
        "from PIL import Image, ImageOps\n",
        "from sklearn.model_selection import GridSearchCV, StratifiedKFold\n",
        "from sklearn.metrics import accuracy_score, auc, roc_curve, roc_auc_score, recall_score, confusion_matrix\n"
      ]
    },
    {
      "cell_type": "markdown",
      "source": [
        "## Load Data"
      ],
      "metadata": {
        "id": "6fxJw8o3LfvZ"
      }
    },
    {
      "cell_type": "code",
      "source": [
        "print(os.listdir(\"/content/drive/MyDrive/train/sample_train\"))\n",
        "SIZE = 224"
      ],
      "metadata": {
        "colab": {
          "base_uri": "https://localhost:8080/"
        },
        "id": "XxVgvMwHCrME",
        "outputId": "ddec272b-a9cd-48b6-ef00-47d372264436"
      },
      "execution_count": 102,
      "outputs": [
        {
          "output_type": "stream",
          "name": "stdout",
          "text": [
            "['other', 'nevus']\n"
          ]
        }
      ]
    },
    {
      "cell_type": "code",
      "source": [
        "from zipfile import ZipFile\n",
        "file_name = '/content/sample_check.zip'\n",
        "\n",
        "with ZipFile(file_name, 'r') as zip:\n",
        "  zip.extractall()\n",
        "  print('Done')"
      ],
      "metadata": {
        "colab": {
          "base_uri": "https://localhost:8080/"
        },
        "id": "gG-aShBOxbjk",
        "outputId": "a5c67abf-273e-4a21-a4cc-018e432d1cc1"
      },
      "execution_count": 103,
      "outputs": [
        {
          "output_type": "stream",
          "name": "stdout",
          "text": [
            "Done\n"
          ]
        }
      ]
    },
    {
      "cell_type": "code",
      "source": [
        "train_images = []\n",
        "train_labels = [] \n",
        "hu_features = []\n",
        "#for directory_path in glob.glob(\"cell_images/train/*\"):\n",
        "for directory_path in glob.glob(\"/content/drive/MyDrive/CAD_PROJECT/hair_removed/train/*\"):\n",
        "    label = directory_path.split(\"/\")[-1]\n",
        "    #print(label)\n",
        "    for img_path in glob.glob(os.path.join(directory_path, \"*.jpg\")):\n",
        "        #print(img_path)\n",
        "        img = cv2.imread(img_path)[:, :, :3] #Reading color images\n",
        "        img = cv2.resize(img, (SIZE, SIZE)) #Resize images\n",
        "        train_images.append(img)\n",
        "        train_labels.append(label)\n",
        "        hu_feature = extract_hu_moments(img)\n",
        "        hu_features.append(hu_feature)\n",
        "        \n",
        "train_images = np.array(train_images)\n",
        "train_labels = np.array(train_labels)"
      ],
      "metadata": {
        "id": "LMC30n42p6zS"
      },
      "execution_count": 104,
      "outputs": []
    },
    {
      "cell_type": "code",
      "source": [
        "train_images"
      ],
      "metadata": {
        "id": "-qbE1nYvycKH",
        "colab": {
          "base_uri": "https://localhost:8080/"
        },
        "outputId": "9f5cb2c2-8784-4d10-b58f-c3f86628a9c8"
      },
      "execution_count": 105,
      "outputs": [
        {
          "output_type": "execute_result",
          "data": {
            "text/plain": [
              "array([[[[ 17,  18,  17],\n",
              "         [ 16,  16,  11],\n",
              "         [ 14,  15,  11],\n",
              "         ...,\n",
              "         [ 42,  36,  31],\n",
              "         [ 43,  34,  30],\n",
              "         [ 48,  41,  37]],\n",
              "\n",
              "        [[ 48,  43,  40],\n",
              "         [ 41,  37,  32],\n",
              "         [ 24,  19,  16],\n",
              "         ...,\n",
              "         [ 38,  32,  27],\n",
              "         [ 49,  40,  36],\n",
              "         [ 50,  42,  38]],\n",
              "\n",
              "        [[ 28,  28,  21],\n",
              "         [ 21,  21,  15],\n",
              "         [ 21,  20,  16],\n",
              "         ...,\n",
              "         [ 39,  33,  29],\n",
              "         [ 52,  43,  39],\n",
              "         [ 44,  38,  33]],\n",
              "\n",
              "        ...,\n",
              "\n",
              "        [[101,  89,  81],\n",
              "         [193, 183, 168],\n",
              "         [180, 176, 151],\n",
              "         ...,\n",
              "         [ 14,  12,  11],\n",
              "         [ 17,  15,  14],\n",
              "         [ 17,  15,  14]],\n",
              "\n",
              "        [[135, 123, 113],\n",
              "         [130, 118, 106],\n",
              "         [120, 115,  90],\n",
              "         ...,\n",
              "         [ 16,  14,  13],\n",
              "         [ 16,  14,  12],\n",
              "         [ 17,  15,  14]],\n",
              "\n",
              "        [[156, 145, 131],\n",
              "         [129, 117, 106],\n",
              "         [118, 109,  89],\n",
              "         ...,\n",
              "         [ 15,  13,  12],\n",
              "         [ 17,  15,  14],\n",
              "         [ 18,  16,  15]]],\n",
              "\n",
              "\n",
              "       [[[139, 128, 191],\n",
              "         [141, 131, 190],\n",
              "         [143, 135, 189],\n",
              "         ...,\n",
              "         [157, 142, 215],\n",
              "         [156, 144, 217],\n",
              "         [152, 139, 213]],\n",
              "\n",
              "        [[136, 128, 189],\n",
              "         [138, 130, 191],\n",
              "         [140, 131, 193],\n",
              "         ...,\n",
              "         [155, 139, 216],\n",
              "         [156, 141, 218],\n",
              "         [156, 143, 219]],\n",
              "\n",
              "        [[134, 127, 188],\n",
              "         [135, 126, 191],\n",
              "         [141, 130, 203],\n",
              "         ...,\n",
              "         [154, 137, 210],\n",
              "         [155, 139, 213],\n",
              "         [156, 141, 215]],\n",
              "\n",
              "        ...,\n",
              "\n",
              "        [[130, 127, 196],\n",
              "         [130, 127, 196],\n",
              "         [132, 129, 198],\n",
              "         ...,\n",
              "         [119, 106, 180],\n",
              "         [118, 106, 179],\n",
              "         [120, 109, 181]],\n",
              "\n",
              "        [[129, 126, 195],\n",
              "         [133, 129, 200],\n",
              "         [131, 128, 198],\n",
              "         ...,\n",
              "         [117, 106, 179],\n",
              "         [117, 106, 179],\n",
              "         [116, 105, 177]],\n",
              "\n",
              "        [[128, 129, 197],\n",
              "         [130, 130, 198],\n",
              "         [129, 128, 195],\n",
              "         ...,\n",
              "         [118, 107, 180],\n",
              "         [118, 107, 179],\n",
              "         [117, 106, 177]]],\n",
              "\n",
              "\n",
              "       [[[127, 101,  85],\n",
              "         [117,  91,  80],\n",
              "         [133, 111, 100],\n",
              "         ...,\n",
              "         [ 19,  17,  17],\n",
              "         [ 15,  12,  12],\n",
              "         [ 19,  16,  19]],\n",
              "\n",
              "        [[129, 104,  88],\n",
              "         [128, 104,  92],\n",
              "         [130, 105,  93],\n",
              "         ...,\n",
              "         [ 19,  17,  17],\n",
              "         [ 20,  18,  18],\n",
              "         [ 18,  15,  17]],\n",
              "\n",
              "        [[133, 110,  95],\n",
              "         [142, 118, 106],\n",
              "         [121,  99,  88],\n",
              "         ...,\n",
              "         [ 20,  18,  18],\n",
              "         [ 18,  16,  16],\n",
              "         [ 19,  16,  19]],\n",
              "\n",
              "        ...,\n",
              "\n",
              "        [[ 18,  14,  14],\n",
              "         [ 17,  13,  14],\n",
              "         [ 17,  15,  17],\n",
              "         ...,\n",
              "         [174, 160, 144],\n",
              "         [172, 158, 147],\n",
              "         [181, 165, 152]],\n",
              "\n",
              "        [[ 23,  21,  21],\n",
              "         [ 15,  13,  13],\n",
              "         [ 16,  15,  17],\n",
              "         ...,\n",
              "         [179, 160, 139],\n",
              "         [181, 167, 149],\n",
              "         [174, 155, 138]],\n",
              "\n",
              "        [[ 23,  19,  15],\n",
              "         [ 13,  12,   7],\n",
              "         [ 16,  16,  16],\n",
              "         ...,\n",
              "         [180, 160, 135],\n",
              "         [171, 157, 130],\n",
              "         [177, 156, 135]]],\n",
              "\n",
              "\n",
              "       ...,\n",
              "\n",
              "\n",
              "       [[[174, 173, 199],\n",
              "         [166, 167, 187],\n",
              "         [167, 168, 189],\n",
              "         ...,\n",
              "         [167, 161, 184],\n",
              "         [166, 159, 186],\n",
              "         [168, 157, 187]],\n",
              "\n",
              "        [[175, 173, 202],\n",
              "         [171, 169, 194],\n",
              "         [171, 166, 192],\n",
              "         ...,\n",
              "         [165, 159, 182],\n",
              "         [166, 160, 185],\n",
              "         [171, 162, 188]],\n",
              "\n",
              "        [[175, 174, 200],\n",
              "         [175, 172, 198],\n",
              "         [166, 164, 193],\n",
              "         ...,\n",
              "         [164, 156, 179],\n",
              "         [169, 161, 184],\n",
              "         [169, 160, 186]],\n",
              "\n",
              "        ...,\n",
              "\n",
              "        [[205, 193, 180],\n",
              "         [206, 195, 182],\n",
              "         [209, 196, 180],\n",
              "         ...,\n",
              "         [120, 149, 154],\n",
              "         [114, 143, 152],\n",
              "         [111, 139, 150]],\n",
              "\n",
              "        [[201, 190, 182],\n",
              "         [202, 192, 182],\n",
              "         [207, 199, 182],\n",
              "         ...,\n",
              "         [116, 142, 149],\n",
              "         [113, 139, 151],\n",
              "         [111, 137, 153]],\n",
              "\n",
              "        [[201, 192, 179],\n",
              "         [202, 192, 180],\n",
              "         [207, 194, 178],\n",
              "         ...,\n",
              "         [121, 144, 154],\n",
              "         [119, 143, 155],\n",
              "         [112, 138, 151]]],\n",
              "\n",
              "\n",
              "       [[[131, 127, 186],\n",
              "         [132, 125, 184],\n",
              "         [135, 128, 186],\n",
              "         ...,\n",
              "         [118, 133, 201],\n",
              "         [118, 130, 199],\n",
              "         [122, 131, 199]],\n",
              "\n",
              "        [[142, 137, 198],\n",
              "         [144, 138, 199],\n",
              "         [147, 141, 203],\n",
              "         ...,\n",
              "         [118, 131, 197],\n",
              "         [122, 132, 198],\n",
              "         [122, 131, 196]],\n",
              "\n",
              "        [[142, 138, 200],\n",
              "         [142, 139, 201],\n",
              "         [142, 139, 204],\n",
              "         ...,\n",
              "         [122, 133, 196],\n",
              "         [123, 132, 195],\n",
              "         [127, 134, 195]],\n",
              "\n",
              "        ...,\n",
              "\n",
              "        [[152, 147, 217],\n",
              "         [151, 142, 210],\n",
              "         [156, 148, 213],\n",
              "         ...,\n",
              "         [133, 138, 200],\n",
              "         [136, 141, 202],\n",
              "         [138, 143, 204]],\n",
              "\n",
              "        [[154, 150, 217],\n",
              "         [150, 142, 208],\n",
              "         [154, 146, 210],\n",
              "         ...,\n",
              "         [131, 137, 202],\n",
              "         [133, 138, 201],\n",
              "         [135, 140, 203]],\n",
              "\n",
              "        [[158, 154, 218],\n",
              "         [151, 147, 209],\n",
              "         [153, 148, 210],\n",
              "         ...,\n",
              "         [131, 137, 202],\n",
              "         [131, 138, 203],\n",
              "         [133, 140, 205]]],\n",
              "\n",
              "\n",
              "       [[[ 58,  60,  60],\n",
              "         [ 58,  59,  59],\n",
              "         [ 61,  63,  63],\n",
              "         ...,\n",
              "         [ 70,  65,  61],\n",
              "         [ 69,  66,  61],\n",
              "         [ 72,  63,  59]],\n",
              "\n",
              "        [[ 57,  59,  59],\n",
              "         [ 57,  62,  61],\n",
              "         [ 61,  66,  66],\n",
              "         ...,\n",
              "         [ 77,  71,  64],\n",
              "         [ 73,  67,  60],\n",
              "         [ 72,  63,  56]],\n",
              "\n",
              "        [[ 58,  60,  60],\n",
              "         [ 60,  66,  65],\n",
              "         [ 65,  71,  70],\n",
              "         ...,\n",
              "         [ 82,  75,  66],\n",
              "         [ 78,  71,  62],\n",
              "         [ 74,  67,  58]],\n",
              "\n",
              "        ...,\n",
              "\n",
              "        [[ 83,  77,  72],\n",
              "         [ 85,  78,  75],\n",
              "         [ 88,  83,  80],\n",
              "         ...,\n",
              "         [ 78,  72,  70],\n",
              "         [ 72,  67,  64],\n",
              "         [ 69,  64,  61]],\n",
              "\n",
              "        [[ 80,  74,  69],\n",
              "         [ 84,  77,  74],\n",
              "         [ 83,  78,  75],\n",
              "         ...,\n",
              "         [ 72,  67,  64],\n",
              "         [ 70,  65,  62],\n",
              "         [ 65,  60,  57]],\n",
              "\n",
              "        [[ 80,  73,  70],\n",
              "         [ 80,  73,  68],\n",
              "         [ 84,  78,  73],\n",
              "         ...,\n",
              "         [ 70,  65,  62],\n",
              "         [ 65,  60,  57],\n",
              "         [ 65,  60,  57]]]], dtype=uint8)"
            ]
          },
          "metadata": {},
          "execution_count": 105
        }
      ]
    },
    {
      "cell_type": "code",
      "source": [
        "print(train_labels)"
      ],
      "metadata": {
        "id": "u-QOj9ELwCdk",
        "colab": {
          "base_uri": "https://localhost:8080/"
        },
        "outputId": "c2092267-5c94-42eb-e0c8-03eb231760f6"
      },
      "execution_count": 106,
      "outputs": [
        {
          "output_type": "stream",
          "name": "stdout",
          "text": [
            "['nevus' 'nevus' 'nevus' ... 'other' 'other' 'other']\n"
          ]
        }
      ]
    },
    {
      "cell_type": "code",
      "source": [
        "test_images = []\n",
        "test_labels = []\n",
        "hu_features_test = []\n",
        "\n",
        "#for directory_path in glob.glob(\"cell_images/test/*\"): \n",
        "for directory_path in glob.glob(\"/content/drive/MyDrive/CAD_PROJECT/hair_removed/test/*\"):\n",
        "    test_label = directory_path.split(\"/\")[-1]\n",
        "    for img_path in glob.glob(os.path.join(directory_path, \"*.jpg\")):\n",
        "        img = cv2.imread(img_path)[:, :, :3]\n",
        "        img = cv2.resize(img, (SIZE, SIZE))\n",
        "        test_images.append(img)\n",
        "        test_labels.append(test_label)\n",
        "        hu_feature_test = extract_hu_moments(img)\n",
        "        hu_features_test.append(hu_feature_test)\n",
        "        \n",
        "        \n",
        "test_images = np.array(test_images)\n",
        "test_labels = np.array(test_labels)\n"
      ],
      "metadata": {
        "id": "OmGYCrkIqj9i"
      },
      "execution_count": 107,
      "outputs": []
    },
    {
      "cell_type": "markdown",
      "source": [
        "## Label Encoding"
      ],
      "metadata": {
        "id": "CerVmwjfLvEs"
      }
    },
    {
      "cell_type": "code",
      "source": [
        "from sklearn import preprocessing\n",
        "le = preprocessing.LabelEncoder()\n",
        "le.fit(test_labels)\n",
        "test_labels_encoded = le.transform(test_labels)\n",
        "le.fit(train_labels)\n",
        "train_labels_encoded = le.transform(train_labels)"
      ],
      "metadata": {
        "id": "Nx-a7VFwrE3R"
      },
      "execution_count": 108,
      "outputs": []
    },
    {
      "cell_type": "code",
      "source": [
        "x_train, y_train, x_test, y_test = hu_features, train_labels_encoded, hu_features_test, test_labels_encoded\n"
      ],
      "metadata": {
        "id": "pPcS7NIareJw"
      },
      "execution_count": 109,
      "outputs": []
    },
    {
      "cell_type": "code",
      "source": [
        "X_for_ML = x_train\n",
        "X_test_ML = x_test\n"
      ],
      "metadata": {
        "id": "xdDRRdCa9q2r"
      },
      "execution_count": 110,
      "outputs": []
    },
    {
      "cell_type": "markdown",
      "source": [
        "## SVM"
      ],
      "metadata": {
        "id": "mRt5SBmbMCBH"
      }
    },
    {
      "cell_type": "code",
      "source": [
        "pipe1 = Pipeline([\n",
        "                 (\"scale\", StandardScaler()),\n",
        "                 (\"classifier\", SVC(class_weight='balanced', probability=True, kernel= 'rbf', gamma=0.01, C=100)) #radial basis function kernel\n",
        "                 ])"
      ],
      "metadata": {
        "id": "8NeblTA2AdM3"
      },
      "execution_count": 111,
      "outputs": []
    },
    {
      "cell_type": "code",
      "source": [
        "pipe1.fit(X_for_ML,train_labels_encoded)"
      ],
      "metadata": {
        "colab": {
          "base_uri": "https://localhost:8080/"
        },
        "id": "jt-exYkgAeb4",
        "outputId": "715102d5-5256-4a29-e8ba-bb145c34f256"
      },
      "execution_count": 112,
      "outputs": [
        {
          "output_type": "execute_result",
          "data": {
            "text/plain": [
              "Pipeline(steps=[('scale', StandardScaler()),\n",
              "                ('classifier',\n",
              "                 SVC(C=100, class_weight='balanced', gamma=0.01,\n",
              "                     probability=True))])"
            ]
          },
          "metadata": {},
          "execution_count": 112
        }
      ]
    },
    {
      "cell_type": "code",
      "source": [
        "# Test set evaluation\n",
        "prediction = pipe1.predict(x_test)\n",
        "# Visualization\n",
        "cmat = metrics.confusion_matrix(prediction,test_labels_encoded)\n",
        "s = sns.heatmap(cmat,annot=True,xticklabels=label, yticklabels=label)\n",
        "s.set(xlabel='Predicted', ylabel='Actual')\n",
        "acc = cmat.trace() / cmat.sum()\n",
        "print('Accuracy: {0:5.2f}%'.format(acc*100))"
      ],
      "metadata": {
        "colab": {
          "base_uri": "https://localhost:8080/",
          "height": 300
        },
        "id": "_Ycj94-_CCiT",
        "outputId": "423d9ad8-e945-40a1-8b98-8c756ae69434"
      },
      "execution_count": 113,
      "outputs": [
        {
          "output_type": "stream",
          "name": "stdout",
          "text": [
            "Accuracy: 49.48%\n"
          ]
        },
        {
          "output_type": "display_data",
          "data": {
            "text/plain": [
              "<Figure size 432x288 with 2 Axes>"
            ],
            "image/png": "[encoded data removed]"
          },
          "metadata": {
            "needs_background": "light"
          }
        }
      ]
    },
    {
      "cell_type": "code",
      "source": [
        "prediction_prob = pipe1.predict_proba(X_test_ML)\n",
        "print(\"Area under curve (AUC): \", roc_auc_score(test_labels_encoded, prediction_prob[:,1]))"
      ],
      "metadata": {
        "colab": {
          "base_uri": "https://localhost:8080/"
        },
        "id": "ZIOYBfjnC48S",
        "outputId": "1f8438b2-82ba-41e3-d371-e377638c8417"
      },
      "execution_count": 114,
      "outputs": [
        {
          "output_type": "stream",
          "name": "stdout",
          "text": [
            "Area under curve (AUC):  0.4931972789115646\n"
          ]
        }
      ]
    },
    {
      "cell_type": "code",
      "source": [
        "fpr, tpr, thresholds = roc_curve(test_labels_encoded, prediction_prob[:,1]) # outputs false positive rate, true positive rate, and corresponding thresholds.\n",
        "plt.figure(1)\n",
        "plt.plot([0,1],[0,1], 'y--')\n",
        "plt.plot(fpr, tpr, linestyle = '--')\n",
        "plt.xlabel('False positive rate')\n",
        "plt.ylabel('True positive rate')\n",
        "plt.title('ROC curve')\n",
        "plt.show()"
      ],
      "metadata": {
        "colab": {
          "base_uri": "https://localhost:8080/",
          "height": 295
        },
        "id": "b39IGP4RDI8s",
        "outputId": "b6652a34-409e-4a81-ae44-7fdd14cdb4a9"
      },
      "execution_count": 115,
      "outputs": [
        {
          "output_type": "display_data",
          "data": {
            "text/plain": [
              "<Figure size 432x288 with 1 Axes>"
            ],
            "image/png": "[encoded data removed]"
          },
          "metadata": {
            "needs_background": "light"
          }
        }
      ]
    },
    {
      "cell_type": "markdown",
      "source": [
        "## Random Forest"
      ],
      "metadata": {
        "id": "0hRhX6FrMG3L"
      }
    },
    {
      "cell_type": "code",
      "source": [
        "pipe2 = Pipeline([\n",
        "                 (\"scale\", StandardScaler()),\n",
        "                 (\"classifier\", RandomForestClassifier(n_estimators = 100, random_state = 42))\n",
        "                 ])"
      ],
      "metadata": {
        "id": "KX2wmJx8DZrO"
      },
      "execution_count": 116,
      "outputs": []
    },
    {
      "cell_type": "code",
      "source": [
        "pipe2.fit(X_for_ML,train_labels_encoded)"
      ],
      "metadata": {
        "colab": {
          "base_uri": "https://localhost:8080/"
        },
        "id": "s9Ho7JfnDi5W",
        "outputId": "2ff80921-45f6-4db4-ed48-8b19a3f09500"
      },
      "execution_count": 117,
      "outputs": [
        {
          "output_type": "execute_result",
          "data": {
            "text/plain": [
              "Pipeline(steps=[('scale', StandardScaler()),\n",
              "                ('classifier', RandomForestClassifier(random_state=42))])"
            ]
          },
          "metadata": {},
          "execution_count": 117
        }
      ]
    },
    {
      "cell_type": "code",
      "source": [
        "# Test set evaluation\n",
        "prediction = pipe2.predict(X_test_ML)\n",
        "# Visualization\n",
        "cmat = metrics.confusion_matrix(prediction,test_labels_encoded)\n",
        "s = sns.heatmap(cmat,annot=True,xticklabels=label, yticklabels=label)\n",
        "s.set(xlabel='Predicted', ylabel='Actual')\n",
        "acc = cmat.trace() / cmat.sum()\n",
        "print('Accuracy: {0:5.2f}%'.format(acc*100))"
      ],
      "metadata": {
        "colab": {
          "base_uri": "https://localhost:8080/",
          "height": 296
        },
        "id": "cz3LJigzDnda",
        "outputId": "2ce2d925-b1eb-46ae-aca8-220b061da2e4"
      },
      "execution_count": 118,
      "outputs": [
        {
          "output_type": "stream",
          "name": "stdout",
          "text": [
            "Accuracy: 54.64%\n"
          ]
        },
        {
          "output_type": "display_data",
          "data": {
            "text/plain": [
              "<Figure size 432x288 with 2 Axes>"
            ],
            "image/png": "[encoded data removed]"
          },
          "metadata": {
            "needs_background": "light"
          }
        }
      ]
    },
    {
      "cell_type": "code",
      "source": [
        "prediction_prob = pipe2.predict_proba(X_test_ML)\n",
        "print(\"Area under curve (AUC): \", roc_auc_score(test_labels_encoded, prediction_prob[:,1]))"
      ],
      "metadata": {
        "colab": {
          "base_uri": "https://localhost:8080/"
        },
        "id": "UyA_sPyPEIT-",
        "outputId": "59954c7f-daf1-46e5-9efe-231b2afe4769"
      },
      "execution_count": 119,
      "outputs": [
        {
          "output_type": "stream",
          "name": "stdout",
          "text": [
            "Area under curve (AUC):  0.5504889455782312\n"
          ]
        }
      ]
    },
    {
      "cell_type": "code",
      "source": [
        "fpr, tpr, thresholds = roc_curve(test_labels_encoded, prediction_prob[:,1]) # outputs false positive rate, true positive rate, and corresponding thresholds.\n",
        "plt.figure(1)\n",
        "plt.plot([0,1],[0,1], 'y--')\n",
        "plt.plot(fpr, tpr, linestyle = '--')\n",
        "plt.xlabel('False positive rate')\n",
        "plt.ylabel('True positive rate')\n",
        "plt.title('ROC curve')\n",
        "plt.show()"
      ],
      "metadata": {
        "colab": {
          "base_uri": "https://localhost:8080/",
          "height": 295
        },
        "id": "ymjNTqTnEOrA",
        "outputId": "2e508f97-13e1-4e95-9a3f-7dfcc6663e3d"
      },
      "execution_count": 120,
      "outputs": [
        {
          "output_type": "display_data",
          "data": {
            "text/plain": [
              "<Figure size 432x288 with 1 Axes>"
            ],
            "image/png": "[encoded data removed]"
          },
          "metadata": {
            "needs_background": "light"
          }
        }
      ]
    },
    {
      "cell_type": "markdown",
      "source": [
        "## KNN"
      ],
      "metadata": {
        "id": "QxrLlQ3uMPr4"
      }
    },
    {
      "cell_type": "code",
      "source": [
        "pipe3 = Pipeline([\n",
        "                 (\"scale\",StandardScaler()),\n",
        "                 (\"classifier\", KNeighborsClassifier(n_neighbors=7))\n",
        "                 ])"
      ],
      "metadata": {
        "id": "XBC_zxYbEj4M"
      },
      "execution_count": 121,
      "outputs": []
    },
    {
      "cell_type": "code",
      "source": [
        "pipe3.fit(X_for_ML,train_labels_encoded)"
      ],
      "metadata": {
        "colab": {
          "base_uri": "https://localhost:8080/"
        },
        "id": "fX78m5oMEeIF",
        "outputId": "7e33a996-32f2-47d5-8351-51730476b8d6"
      },
      "execution_count": 122,
      "outputs": [
        {
          "output_type": "execute_result",
          "data": {
            "text/plain": [
              "Pipeline(steps=[('scale', StandardScaler()),\n",
              "                ('classifier', KNeighborsClassifier(n_neighbors=7))])"
            ]
          },
          "metadata": {},
          "execution_count": 122
        }
      ]
    },
    {
      "cell_type": "code",
      "source": [
        "prediction_prob = pipe3.predict_proba(X_test_ML)\n",
        "print(\"Area under curve (AUC): \", roc_auc_score(test_labels_encoded, prediction_prob[:,1]))"
      ],
      "metadata": {
        "colab": {
          "base_uri": "https://localhost:8080/"
        },
        "id": "oam2d5noF6kS",
        "outputId": "ea709d41-b5c2-4156-aebd-e1d28731edce"
      },
      "execution_count": 123,
      "outputs": [
        {
          "output_type": "stream",
          "name": "stdout",
          "text": [
            "Area under curve (AUC):  0.5491602891156462\n"
          ]
        }
      ]
    },
    {
      "cell_type": "code",
      "source": [
        "# Test set evaluation\n",
        "prediction = pipe3.predict(X_test_ML)\n",
        "# Visualization\n",
        "cmat = metrics.confusion_matrix(prediction,test_labels_encoded)\n",
        "s = sns.heatmap(cmat,annot=True,xticklabels=label, yticklabels=label)\n",
        "s.set(xlabel='Predicted', ylabel='Actual')\n",
        "acc = cmat.trace() / cmat.sum()\n",
        "print('Accuracy: {0:5.2f}%'.format(acc*100))"
      ],
      "metadata": {
        "colab": {
          "base_uri": "https://localhost:8080/",
          "height": 300
        },
        "id": "LAhKGaG4Eyoh",
        "outputId": "2b45046c-c671-4137-c2eb-ba0698241877"
      },
      "execution_count": 124,
      "outputs": [
        {
          "output_type": "stream",
          "name": "stdout",
          "text": [
            "Accuracy: 52.58%\n"
          ]
        },
        {
          "output_type": "display_data",
          "data": {
            "text/plain": [
              "<Figure size 432x288 with 2 Axes>"
            ],
            "image/png": "[encoded data removed]"
          },
          "metadata": {
            "needs_background": "light"
          }
        }
      ]
    },
    {
      "cell_type": "code",
      "source": [
        "fpr, tpr, thresholds = roc_curve(test_labels_encoded, prediction_prob[:,1]) # outputs false positive rate, true positive rate, and corresponding thresholds.\n",
        "plt.figure(1)\n",
        "plt.plot([0,1],[0,1], 'y--')\n",
        "plt.plot(fpr, tpr, linestyle = '--')\n",
        "plt.xlabel('False positive rate')\n",
        "plt.ylabel('True positive rate')\n",
        "plt.title('ROC curve')\n",
        "plt.show()"
      ],
      "metadata": {
        "colab": {
          "base_uri": "https://localhost:8080/",
          "height": 295
        },
        "id": "KeleiuOLE1Yb",
        "outputId": "0fe13da9-daa4-48e0-b8f0-da7109ec8471"
      },
      "execution_count": 125,
      "outputs": [
        {
          "output_type": "display_data",
          "data": {
            "text/plain": [
              "<Figure size 432x288 with 1 Axes>"
            ],
            "image/png": "[encoded data removed]"
          },
          "metadata": {
            "needs_background": "light"
          }
        }
      ]
    },
    {
      "cell_type": "markdown",
      "source": [
        "## AdaBoost"
      ],
      "metadata": {
        "id": "lWYVd2MoMW7f"
      }
    },
    {
      "cell_type": "code",
      "source": [
        "clf = AdaBoostClassifier(n_estimators=200, random_state=0)\n",
        "clf.fit(X_for_ML,train_labels_encoded)"
      ],
      "metadata": {
        "colab": {
          "base_uri": "https://localhost:8080/"
        },
        "id": "z8HWAHCWFBT6",
        "outputId": "4c0fcd0a-95f9-456b-dfd4-3562c2d6dff1"
      },
      "execution_count": 126,
      "outputs": [
        {
          "output_type": "execute_result",
          "data": {
            "text/plain": [
              "AdaBoostClassifier(n_estimators=200, random_state=0)"
            ]
          },
          "metadata": {},
          "execution_count": 126
        }
      ]
    },
    {
      "cell_type": "code",
      "source": [
        "prediction_prob = clf.predict_proba(X_test_ML)\n",
        "print(\"Area under curve (AUC): \", roc_auc_score(test_labels_encoded, prediction_prob[:,1]))"
      ],
      "metadata": {
        "colab": {
          "base_uri": "https://localhost:8080/"
        },
        "id": "bahidginGSd7",
        "outputId": "a469ee34-ba01-4231-e796-e224042dd0ce"
      },
      "execution_count": 127,
      "outputs": [
        {
          "output_type": "stream",
          "name": "stdout",
          "text": [
            "Area under curve (AUC):  0.5189200680272109\n"
          ]
        }
      ]
    },
    {
      "cell_type": "code",
      "source": [
        "# Test set evaluation\n",
        "prediction = clf.predict(X_test_ML)\n",
        "# Visualization\n",
        "cmat = confusion_matrix(prediction,test_labels_encoded)\n",
        "s = sns.heatmap(cmat,annot=True,xticklabels=label, yticklabels=label)\n",
        "s.set(xlabel='Predicted', ylabel='Actual')\n",
        "acc = cmat.trace() / cmat.sum()\n",
        "print('Accuracy: {0:5.2f}%'.format(acc*100))"
      ],
      "metadata": {
        "colab": {
          "base_uri": "https://localhost:8080/",
          "height": 300
        },
        "id": "dHSeEpDxFOxA",
        "outputId": "58d268c2-416e-4c32-d518-d1aa3e7b4d58"
      },
      "execution_count": 128,
      "outputs": [
        {
          "output_type": "stream",
          "name": "stdout",
          "text": [
            "Accuracy: 50.00%\n"
          ]
        },
        {
          "output_type": "display_data",
          "data": {
            "text/plain": [
              "<Figure size 432x288 with 2 Axes>"
            ],
            "image/png": "[encoded data removed]"
          },
          "metadata": {
            "needs_background": "light"
          }
        }
      ]
    },
    {
      "cell_type": "code",
      "source": [
        "fpr, tpr, thresholds = roc_curve(test_labels_encoded, prediction_prob[:,1]) # outputs false positive rate, true positive rate, and corresponding thresholds.\n",
        "plt.figure(1)\n",
        "plt.plot([0,1],[0,1], 'y--')\n",
        "plt.plot(fpr, tpr, linestyle = '--')\n",
        "plt.xlabel('False positive rate')\n",
        "plt.ylabel('True positive rate')\n",
        "plt.title('ROC curve')\n",
        "plt.show()"
      ],
      "metadata": {
        "colab": {
          "base_uri": "https://localhost:8080/",
          "height": 295
        },
        "id": "JZh0f2SJFyC3",
        "outputId": "017e23c0-7a53-4612-8fbf-06b0f69dbe09"
      },
      "execution_count": 129,
      "outputs": [
        {
          "output_type": "display_data",
          "data": {
            "text/plain": [
              "<Figure size 432x288 with 1 Axes>"
            ],
            "image/png": "[encoded data removed]"
          },
          "metadata": {
            "needs_background": "light"
          }
        }
      ]
    },
    {
      "cell_type": "markdown",
      "source": [
        "## XGB"
      ],
      "metadata": {
        "id": "QfIx7G5NMdo7"
      }
    },
    {
      "cell_type": "code",
      "source": [
        "mod1 = xgb.XGBClassifier(booster='dart',learning_rate=0.1)\n",
        "train_arr = np.array(X_for_ML)\n",
        "test_arr = np.array(X_test_ML)\n",
        "mod1.fit(train_arr, train_labels_encoded)"
      ],
      "metadata": {
        "colab": {
          "base_uri": "https://localhost:8080/"
        },
        "id": "X6l_-aSAGbrJ",
        "outputId": "430de071-59a3-47cd-a2b5-87f49e283f21"
      },
      "execution_count": 130,
      "outputs": [
        {
          "output_type": "execute_result",
          "data": {
            "text/plain": [
              "XGBClassifier(booster='dart')"
            ]
          },
          "metadata": {},
          "execution_count": 130
        }
      ]
    },
    {
      "cell_type": "code",
      "source": [
        "prediction = mod1.predict(test_arr)\n",
        "print(\"Accuracy = \", accuracy_score(test_labels_encoded, prediction))"
      ],
      "metadata": {
        "colab": {
          "base_uri": "https://localhost:8080/"
        },
        "id": "haEaOdTlH2YX",
        "outputId": "21f04e32-dc80-41eb-e073-c9c232e193fb"
      },
      "execution_count": 131,
      "outputs": [
        {
          "output_type": "stream",
          "name": "stdout",
          "text": [
            "Accuracy =  0.5927835051546392\n"
          ]
        }
      ]
    },
    {
      "cell_type": "code",
      "source": [
        "cm = confusion_matrix(test_labels_encoded, prediction)\n",
        "sns.heatmap(cm, annot=True)"
      ],
      "metadata": {
        "colab": {
          "base_uri": "https://localhost:8080/",
          "height": 282
        },
        "id": "tN55xdyAISLT",
        "outputId": "bc6d1b4e-3e32-4181-980d-826b8f286a52"
      },
      "execution_count": 132,
      "outputs": [
        {
          "output_type": "execute_result",
          "data": {
            "text/plain": [
              "<matplotlib.axes._subplots.AxesSubplot at 0x7f2a98510bd0>"
            ]
          },
          "metadata": {},
          "execution_count": 132
        },
        {
          "output_type": "display_data",
          "data": {
            "text/plain": [
              "<Figure size 432x288 with 2 Axes>"
            ],
            "image/png": "[encoded data removed]"
          },
          "metadata": {
            "needs_background": "light"
          }
        }
      ]
    },
    {
      "cell_type": "code",
      "source": [
        "prediction_prob = mod1.predict_proba(test_arr)\n",
        "print(\"Area under curve (AUC): \", roc_auc_score(test_labels_encoded, prediction_prob[:,1]))"
      ],
      "metadata": {
        "colab": {
          "base_uri": "https://localhost:8080/"
        },
        "id": "g1IoFVCzIbcU",
        "outputId": "25fa9669-b583-4c4f-bf8d-6f7f47e3d2b1"
      },
      "execution_count": 133,
      "outputs": [
        {
          "output_type": "stream",
          "name": "stdout",
          "text": [
            "Area under curve (AUC):  0.5787627551020409\n"
          ]
        }
      ]
    },
    {
      "cell_type": "code",
      "source": [
        "fpr, tpr, thresholds = roc_curve(test_labels_encoded, prediction_prob[:,1]) # outputs false positive rate, true positive rate, and corresponding thresholds.\n",
        "plt.figure(1)\n",
        "plt.plot([0,1],[0,1], 'y--')\n",
        "plt.plot(fpr, tpr, linestyle = '--')\n",
        "plt.xlabel('False positive rate')\n",
        "plt.ylabel('True positive rate')\n",
        "plt.title('ROC curve')\n",
        "plt.show()"
      ],
      "metadata": {
        "colab": {
          "base_uri": "https://localhost:8080/",
          "height": 295
        },
        "id": "NmoNZ-9MIjb7",
        "outputId": "41399d2c-a7bf-4602-d714-3fb6a92ceb8c"
      },
      "execution_count": 134,
      "outputs": [
        {
          "output_type": "display_data",
          "data": {
            "text/plain": [
              "<Figure size 432x288 with 1 Axes>"
            ],
            "image/png": "[encoded data removed]"
          },
          "metadata": {
            "needs_background": "light"
          }
        }
      ]
    },
    {
      "cell_type": "markdown",
      "source": [
        "## LightGBM"
      ],
      "metadata": {
        "id": "8xp_LptwMi-l"
      }
    },
    {
      "cell_type": "code",
      "source": [
        "scaler = StandardScaler()\n",
        "train_scaled = scaler.fit_transform(X_for_ML)\n",
        "test_scaled = scaler.transform(X_test_ML)\n",
        "d_train = lgb.Dataset(train_scaled, label=train_labels_encoded)"
      ],
      "metadata": {
        "id": "hnjZ2OnWIsIk"
      },
      "execution_count": 135,
      "outputs": []
    },
    {
      "cell_type": "code",
      "source": [
        "lgbm_params = {'learning_rate':0.05, 'boosting_type':'gbdt', #Sometimes dart gives better accuracy. gbdt means gradient boosting.\n",
        "              'objective':'binary',\n",
        "              'metric':['auc', 'binary_logloss'],\n",
        "              'num_leaves':100, # optimizing this avoids overfitting. 50 to 100\n",
        "              'max_depth':10} #10 may be appropriate"
      ],
      "metadata": {
        "id": "PQspjVoaI_Vm"
      },
      "execution_count": 136,
      "outputs": []
    },
    {
      "cell_type": "code",
      "source": [
        "clf = lgb.train(lgbm_params, d_train, 50) #50 iterations. Increase iterations for small learning rates. eg if learning grate = 0.005, we may need 500 iterations.\n",
        "prediction=clf.predict(test_scaled)\n",
        "#convert the probabilities into binary values 0/1 for classification\n",
        "for i in range(0, test_scaled.shape[0]):\n",
        "    if prediction[i]>=.5: # setting threshold to 0.5\n",
        "       prediction[i]=1\n",
        "    else:  \n",
        "       prediction[i]=0"
      ],
      "metadata": {
        "id": "GrvqxgowJDZ-"
      },
      "execution_count": 137,
      "outputs": []
    },
    {
      "cell_type": "code",
      "source": [
        "#Print accuracy\n",
        "print (\"Accuracy with LGBM = \", accuracy_score(test_labels_encoded, prediction))\n",
        "#Confusion matrix\n",
        "cm_lgbm = confusion_matrix(test_labels_encoded, prediction)\n",
        "sns.heatmap(cm_lgbm, annot=True)"
      ],
      "metadata": {
        "colab": {
          "base_uri": "https://localhost:8080/",
          "height": 304
        },
        "id": "eEpCBvMnJKvK",
        "outputId": "0773f0ce-0d8c-478b-bb3c-ced6d2e9cf26"
      },
      "execution_count": 138,
      "outputs": [
        {
          "output_type": "stream",
          "name": "stdout",
          "text": [
            "Accuracy with LGBM =  0.5463917525773195\n"
          ]
        },
        {
          "output_type": "execute_result",
          "data": {
            "text/plain": [
              "<matplotlib.axes._subplots.AxesSubplot at 0x7f2a98700790>"
            ]
          },
          "metadata": {},
          "execution_count": 138
        },
        {
          "output_type": "display_data",
          "data": {
            "text/plain": [
              "<Figure size 432x288 with 2 Axes>"
            ],
            "image/png": "[encoded data removed]"
          },
          "metadata": {
            "needs_background": "light"
          }
        }
      ]
    },
    {
      "cell_type": "code",
      "source": [
        "prediction_prob=clf.predict(test_scaled)\n",
        "print(\"Area under curve (AUC): \", roc_auc_score(test_labels_encoded, prediction_prob))"
      ],
      "metadata": {
        "colab": {
          "base_uri": "https://localhost:8080/"
        },
        "id": "xcOhHaJWJ1d8",
        "outputId": "6b88df87-8b67-4aed-b1d3-c8b83edd21dc"
      },
      "execution_count": 139,
      "outputs": [
        {
          "output_type": "stream",
          "name": "stdout",
          "text": [
            "Area under curve (AUC):  0.5317283163265306\n"
          ]
        }
      ]
    },
    {
      "cell_type": "code",
      "source": [
        "fpr, tpr, thresholds = roc_curve(test_labels_encoded, prediction_prob) # outputs false positive rate, true positive rate, and corresponding thresholds.\n",
        "plt.figure(1)\n",
        "plt.plot([0,1],[0,1], 'y--')\n",
        "plt.plot(fpr, tpr, linestyle = '--')\n",
        "plt.xlabel('False positive rate')\n",
        "plt.ylabel('True positive rate')\n",
        "plt.title('ROC curve')\n",
        "plt.show()"
      ],
      "metadata": {
        "colab": {
          "base_uri": "https://localhost:8080/",
          "height": 295
        },
        "id": "x2VvGptHKCJV",
        "outputId": "554e9326-e33a-4475-97b8-55469f4a415a"
      },
      "execution_count": 140,
      "outputs": [
        {
          "output_type": "display_data",
          "data": {
            "text/plain": [
              "<Figure size 432x288 with 1 Axes>"
            ],
            "image/png": "[encoded data removed]"
          },
          "metadata": {
            "needs_background": "light"
          }
        }
      ]
    }
  ]
}