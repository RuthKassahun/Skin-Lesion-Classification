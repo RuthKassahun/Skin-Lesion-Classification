{
  "nbformat": 4,
  "nbformat_minor": 0,
  "metadata": {
    "colab": {
      "provenance": [],
      "collapsed_sections": [],
      "include_colab_link": true
    },
    "kernelspec": {
      "name": "python3",
      "display_name": "Python 3"
    },
    "language_info": {
      "name": "python"
    }
  },
  "cells": [
    {
      "cell_type": "markdown",
      "metadata": {
        "id": "view-in-github",
        "colab_type": "text"
      },
      "source": [
        "<a href=\"https://colab.research.google.com/github/RuthKassahun/Skin-Lesion-Classification/blob/main/other_GLCM%2BColorHist%2BLBP_MultiClass.ipynb\" target=\"_parent\"><img src=\"https://colab.research.google.com/assets/colab-badge.svg\" alt=\"Open In Colab\"/></a>"
      ]
    },
    {
      "cell_type": "code",
      "execution_count": null,
      "metadata": {
        "id": "nJ0wWuozj6o8"
      },
      "outputs": [],
      "source": [
        "import numpy as np \n",
        "import matplotlib.pyplot as plt\n",
        "import glob\n",
        "import cv2\n",
        "import os\n",
        "from google.colab import drive\n",
        "import seaborn as sns\n",
        "import pandas as pd\n",
        "from skimage.filters import sobel\n",
        "from skimage.feature import greycomatrix, greycoprops\n",
        "from skimage.measure import shannon_entropy\n",
        "from sklearn.pipeline import Pipeline\n",
        "from sklearn.svm import SVC, LinearSVC\n",
        "from skimage.feature import local_binary_pattern\n",
        "from sklearn.ensemble import RandomForestClassifier\n",
        "from sklearn.neighbors import KNeighborsClassifier\n",
        "from sklearn.ensemble import AdaBoostClassifier\n",
        "from sklearn.preprocessing import LabelEncoder, StandardScaler, MinMaxScaler\n",
        "from sklearn import metrics\n",
        "from pathlib import Path\n",
        "import xgboost as xgb\n",
        "import lightgbm as lgb\n",
        "from PIL import Image, ImageOps\n",
        "from sklearn.model_selection import GridSearchCV, StratifiedKFold\n",
        "from sklearn.metrics import accuracy_score, auc, roc_curve, roc_auc_score, recall_score, confusion_matrix\n"
      ]
    },
    {
      "cell_type": "code",
      "source": [
        "!pip install imblearn"
      ],
      "metadata": {
        "colab": {
          "base_uri": "https://localhost:8080/"
        },
        "id": "FrRENxV-Fa3C",
        "outputId": "a554ba94-7054-4bc3-83b9-70ac23cee5cf"
      },
      "execution_count": null,
      "outputs": [
        {
          "output_type": "stream",
          "name": "stdout",
          "text": [
            "Looking in indexes: https://pypi.org/simple, https://us-python.pkg.dev/colab-wheels/public/simple/\n",
            "Requirement already satisfied: imblearn in /usr/local/lib/python3.7/dist-packages (0.0)\n",
            "Requirement already satisfied: imbalanced-learn in /usr/local/lib/python3.7/dist-packages (from imblearn) (0.8.1)\n",
            "Requirement already satisfied: numpy>=1.13.3 in /usr/local/lib/python3.7/dist-packages (from imbalanced-learn->imblearn) (1.21.6)\n",
            "Requirement already satisfied: joblib>=0.11 in /usr/local/lib/python3.7/dist-packages (from imbalanced-learn->imblearn) (1.2.0)\n",
            "Requirement already satisfied: scikit-learn>=0.24 in /usr/local/lib/python3.7/dist-packages (from imbalanced-learn->imblearn) (1.0.2)\n",
            "Requirement already satisfied: scipy>=0.19.1 in /usr/local/lib/python3.7/dist-packages (from imbalanced-learn->imblearn) (1.7.3)\n",
            "Requirement already satisfied: threadpoolctl>=2.0.0 in /usr/local/lib/python3.7/dist-packages (from scikit-learn>=0.24->imbalanced-learn->imblearn) (3.1.0)\n"
          ]
        }
      ]
    },
    {
      "cell_type": "markdown",
      "source": [
        "##LBP"
      ],
      "metadata": {
        "id": "7rla_Z9LkVMk"
      }
    },
    {
      "cell_type": "code",
      "source": [
        "def compute_lbp(arr):\n",
        "  # LBP function params\n",
        "  radius = 3\n",
        "  n_points = 8 * radius\n",
        "  n_bins = n_points + 2\n",
        "  lbp = local_binary_pattern(arr,n_points,radius,'uniform')\n",
        "  lbp = lbp.ravel()\n",
        "  #feature_len = int(lbp.max() + 1)\n",
        "  feature = np.zeros(n_bins)\n",
        "  for i in lbp:\n",
        "    feature[int(i)] += 1 # Feature\n",
        "  feature /= np.linalg.norm(feature, ord=1) # Normalizing feature\n",
        "  return feature"
      ],
      "metadata": {
        "id": "Ag7GbS7ykLef"
      },
      "execution_count": null,
      "outputs": []
    },
    {
      "cell_type": "code",
      "source": [
        "from imblearn.over_sampling import RandomOverSampler\n",
        "from imblearn.under_sampling import RandomUnderSampler"
      ],
      "metadata": {
        "id": "-65kzlOfFjRq"
      },
      "execution_count": null,
      "outputs": []
    },
    {
      "cell_type": "code",
      "source": [
        "from google.colab import drive\n",
        "drive.mount('/content/drive')"
      ],
      "metadata": {
        "colab": {
          "base_uri": "https://localhost:8080/"
        },
        "id": "aFS0hjjcshAs",
        "outputId": "9c7dfacb-c531-4318-a6f5-49c40a4a3a05"
      },
      "execution_count": null,
      "outputs": [
        {
          "output_type": "stream",
          "name": "stdout",
          "text": [
            "Mounted at /content/drive\n"
          ]
        }
      ]
    },
    {
      "cell_type": "markdown",
      "source": [
        "LBP train data"
      ],
      "metadata": {
        "id": "k1U_L9QNkkd9"
      }
    },
    {
      "cell_type": "code",
      "source": [
        "SIZE = 224\n",
        "train_images_lbp = []\n",
        "train_labels_lbp = [] \n",
        "#for directory_path in glob.glob(\"cell_images/train/*\"):\n",
        "for directory_path in glob.glob(\"/content/drive/MyDrive/Multiclass/multi_train/*\"):\n",
        "    label_lbp_train = directory_path.split(\"/\")[-1]\n",
        "    label = directory_path.split(\"/\")[-1]\n",
        "    #print(label_lbp_train)\n",
        "    for img_path in glob.glob(os.path.join(directory_path, \"*.jpg\")):\n",
        "        #print(img_path)\n",
        "        img1 = cv2.imread(img_path,0) #Reading color images\n",
        "        img1 = cv2.resize(img1, (SIZE, SIZE)) #Resize images\n",
        "        arr = np.array(img1) # convert the image to numpy array\n",
        "        feature_train_lbp = compute_lbp(arr)\n",
        "        train_images_lbp.append(feature_train_lbp)\n",
        "        train_labels_lbp.append(label_lbp_train)\n",
        "\n",
        "train_images_lbp =np.array(train_images_lbp)\n",
        "trait_labels_lbp =np.array(train_labels_lbp)\n"
      ],
      "metadata": {
        "id": "1btaf1ZAkivw"
      },
      "execution_count": null,
      "outputs": []
    },
    {
      "cell_type": "markdown",
      "source": [
        "lbp val data"
      ],
      "metadata": {
        "id": "SRag_F1elXtD"
      }
    },
    {
      "cell_type": "code",
      "source": [
        "t_image = []\n",
        "test_image_id= []\n",
        "t_lbp=[]\n",
        "t_image_glcm=[]\n",
        "t_hist=[]\n",
        "\n",
        "for directory_path in sorted(glob.glob(\"/content/drive/MyDrive/testX\")):\n",
        "    for img_path in sorted(glob.glob(os.path.join(directory_path, \"*.jpg\"))):\n",
        "\n",
        "        src2 = cv2.imread(os.path.join(img_path),1)\n",
        "        kernel2 = cv2.getStructuringElement(1,(19,19))\n",
        "        grayScale2 = cv2.cvtColor(src2, cv2.COLOR_BGR2GRAY )\n",
        "        eqhist2=cv2.equalizeHist(grayScale2) #clahe\n",
        "        blackhat2 = cv2.morphologyEx(eqhist2, cv2.MORPH_BLACKHAT, kernel2) #2 Perform the blackHat filtering on the gray\n",
        "        ret,thresh3 = cv2.threshold(blackhat2,10,255,cv2.THRESH_BINARY) # intensify the hair countours in preparation for the inpainting algorithm\n",
        "        dst2 = cv2.inpaint(src2,thresh3,1,cv2.INPAINT_TELEA)\n",
        "        dst2=cv2.cvtColor(dst2,cv2.COLOR_RGB2GRAY)\n",
        "        #f2=cv2.medianBlur(dst2,5)\n",
        "        img2 = cv2.resize(dst2, (SIZE, SIZE)) #Resize images\n",
        "        arr = np.array(img2) # convert the image to numpy array\n",
        "        feature_test = compute_lbp(arr) #lbp\n",
        "        t_images_lbp.append(feature_test)\n",
        "        t_labels_lbp.append(label_lbp_test)\n",
        "        #colorhist\n",
        "        f2c=cv2.cvtColor(f, cv2.COLOR_GRAY2BGR)\n",
        "        img4=hist_features(f2c)\n",
        "        t_hist.append(img4)\n",
        "        #test_label_hist.append(labelhist_test)\n",
        "        t_image_glcm.append(img2)\n",
        "\n",
        "      \n",
        "        t_image.append(img2)\n",
        "        #t_lbp.append(feature_test)\n",
        "        #call the function\n",
        "        \n",
        "t_image = np.array(t_image)\n",
        "t_lbp=np.array(t_lbp)\n",
        "t_image_glcm=np.array(t_image_glcm)\n",
        "t_hist=np.array(t_hist)"
      ],
      "metadata": {
        "id": "LnoOluxllb3P"
      },
      "execution_count": null,
      "outputs": []
    },
    {
      "cell_type": "code",
      "source": [
        "from sklearn import preprocessing\n",
        "le = preprocessing.LabelEncoder()\n",
        "le.fit(trait_labels_lbp)\n",
        "train_labels_encoded = le.transform(trait_labels_lbp)"
      ],
      "metadata": {
        "id": "6Iwg0o873wRq"
      },
      "execution_count": null,
      "outputs": []
    },
    {
      "cell_type": "markdown",
      "source": [
        "## Class Balance for LBP"
      ],
      "metadata": {
        "id": "a75AyhFIFbqt"
      }
    },
    {
      "cell_type": "code",
      "source": [
        "over=RandomOverSampler(random_state=0,sampling_strategy='minority')\n",
        "X_res_lbp,Y_res_lbp=over.fit_resample(train_images_lbp,train_labels_encoded)"
      ],
      "metadata": {
        "id": "bbNYrQxnFm-z"
      },
      "execution_count": null,
      "outputs": []
    },
    {
      "cell_type": "code",
      "source": [
        "over=RandomOverSampler(random_state=0,sampling_strategy='minority')\n",
        "X_result_lbp,Y_result_lbp=over.fit_resample(X_res_lbp,Y_res_lbp)"
      ],
      "metadata": {
        "id": "Fb-Kwa-NF3lu"
      },
      "execution_count": null,
      "outputs": []
    },
    {
      "cell_type": "markdown",
      "source": [
        "#COLOR HIST"
      ],
      "metadata": {
        "id": "22fIDXovp835"
      }
    },
    {
      "cell_type": "markdown",
      "source": [
        "color_hist train"
      ],
      "metadata": {
        "id": "BD779e_Xts8S"
      }
    },
    {
      "cell_type": "code",
      "source": [
        "def hist_features(img):\n",
        "  hist_blue = cv2.calcHist([img],[0],None,[256],[0,256]) #blue\n",
        "  hist_green = cv2.calcHist([img],[1],None,[256],[0,256])\n",
        "  hist_red = cv2.calcHist([img],[2],None,[256],[0,256])\n",
        "  hist=np.hstack([hist_green,hist_red,hist_blue])\n",
        "  return hist.flatten()"
      ],
      "metadata": {
        "id": "1T-CHKwFnsYg"
      },
      "execution_count": null,
      "outputs": []
    },
    {
      "cell_type": "code",
      "source": [
        "#Resize images to\n",
        "SIZE = 224\n",
        "\n",
        "#Capture images and labels into arrays.\n",
        "#Start by creating empty lists.\n",
        "train_hist = []\n",
        "train_label_hist = [] \n",
        "for directory_path in glob.glob(\"/content/drive/MyDrive/Multiclass/multi_train/*\"):\n",
        "    labelhist = directory_path.split(\"\\\\\")[-1]\n",
        "    label = directory_path.split(\"/\")[-1]\n",
        "    #print(labelhist)\n",
        "    for img_path in glob.glob(os.path.join(directory_path, \"*.jpg\")):\n",
        "        #print(img_path)\n",
        "        img3 = cv2.imread(img_path,cv2.COLOR_BGR2RGB) #Reading color images\n",
        "        img3 = cv2.resize(img3, (SIZE, SIZE)) #Resize images\n",
        "        img3=hist_features(img3) #call the function\n",
        "        train_hist.append(img3)\n",
        "        train_label_hist.append(labelhist)\n",
        "\n",
        "train_hist = np.array(train_hist)\n",
        "train_label_hist= np.array(train_label_hist)"
      ],
      "metadata": {
        "id": "miUjRQlKnv1I"
      },
      "execution_count": null,
      "outputs": []
    },
    {
      "cell_type": "markdown",
      "source": [
        "color hist test"
      ],
      "metadata": {
        "id": "81SoYEgZtykq"
      }
    },
    {
      "cell_type": "code",
      "source": [
        "test_hist = []\n",
        "#test_image_ID= []\n",
        "#hu_features_test = []\n",
        "for directory_path in sorted(glob.glob(\"/content/drive/MyDrive/testX/*\")):\n",
        "    test_label = directory_path.split(\"/\")[-1]\n",
        "    print(test_label)\n",
        "    #test_image_ID.append(test_label)\n",
        "for directory_path in sorted(glob.glob(\"/content/drive/MyDrive/testX\")):\n",
        "    for img_path in sorted(glob.glob(os.path.join(directory_path, \"*.jpg\"))):\n",
        "        #print(img_path)\n",
        "        img4 = cv2.imread(img_path,cv2.COLOR_BGR2RGB) #Reading color images\n",
        "        img4 = cv2.resize(img4, (SIZE, SIZE)) #Resize images\n",
        "        img4=hist_features(img4)\n",
        "        test_hist.append(img4)\n",
        "\n",
        "test_hist = np.array(test_hist)"
      ],
      "metadata": {
        "id": "FLXpef5Otmop"
      },
      "execution_count": null,
      "outputs": []
    },
    {
      "cell_type": "code",
      "source": [
        "le.fit(train_label_hist)\n",
        "train_labels_encoded_hist = le.transform(train_label_hist)"
      ],
      "metadata": {
        "id": "AgGypuZo4Bnw"
      },
      "execution_count": null,
      "outputs": []
    },
    {
      "cell_type": "code",
      "source": [
        "over=RandomOverSampler(random_state=0,sampling_strategy='minority')\n",
        "X_res_colorHist,Y_res_colorHist=over.fit_resample(train_hist,train_labels_encoded_hist)"
      ],
      "metadata": {
        "id": "U7UkWoUnv8Pr"
      },
      "execution_count": null,
      "outputs": []
    },
    {
      "cell_type": "code",
      "source": [
        "over=RandomOverSampler(random_state=0,sampling_strategy='minority')\n",
        "X_result_colorHist,Y_result_colorHist=over.fit_resample(X_res_colorHist,Y_res_colorHist)"
      ],
      "metadata": {
        "id": "SpxxpQPjv8Pr"
      },
      "execution_count": null,
      "outputs": []
    },
    {
      "cell_type": "markdown",
      "source": [
        "#GLCM"
      ],
      "metadata": {
        "id": "Z326gsU2--bB"
      }
    },
    {
      "cell_type": "markdown",
      "source": [
        "glcm train data"
      ],
      "metadata": {
        "id": "eZnFJ9j5_0df"
      }
    },
    {
      "cell_type": "code",
      "source": [
        "def feature_extractor(dataset):\n",
        "  image_dataset  = pd.DataFrame()\n",
        "  distance = [11, 21]\n",
        "  angle = [0, np.pi/4, np.pi/2, 3*np.pi/4]\n",
        "  for image in range(dataset.shape[0]):\n",
        "    img = dataset[image]\n",
        "    df = pd.DataFrame()\n",
        "    count = 1\n",
        "    for dist in distance:\n",
        "      for ang in angle:\n",
        "        GLCM = greycomatrix(img, [dist], [ang])      \n",
        "        GLCM_Energy = greycoprops(GLCM, 'energy')[0]\n",
        "        df[f'Energy{count}'] = GLCM_Energy\n",
        "        GLCM_corr = greycoprops(GLCM, 'correlation')[0]\n",
        "        df[f'Corr{count}'] = GLCM_corr             \n",
        "        GLCM_hom = greycoprops(GLCM, 'homogeneity')[0]\n",
        "        df[f'Homogen{count}'] = GLCM_hom       \n",
        "        GLCM_contr = greycoprops(GLCM, 'contrast')[0]\n",
        "        df[f'Contrast{count}'] = GLCM_contr\n",
        "        count = count + 1\n",
        "    image_dataset = image_dataset.append(df)    \n",
        "  return image_dataset"
      ],
      "metadata": {
        "id": "Fhg7c7WI_EtD"
      },
      "execution_count": null,
      "outputs": []
    },
    {
      "cell_type": "code",
      "source": [
        "#Resize images to\n",
        "SIZE = 224\n",
        "\n",
        "#Capture images and labels into arrays.\n",
        "#Start by creating empty lists.\n",
        "train_image_glcm = []\n",
        "train_label_glcm = [] \n",
        "for directory_path in glob.glob(\"/content/drive/MyDrive/Multiclass/multi_train/*\"):\n",
        "    label_glcm = directory_path.split(\"\\\\\")[-1]\n",
        "    label = directory_path.split(\"/\")[-1]\n",
        "    #print(label_glcm)\n",
        "    for img_path in glob.glob(os.path.join(directory_path, \"*.jpg\")):\n",
        "        #print(img_path)\n",
        "        img5= cv2.imread(img_path,0)\n",
        "        #img5 = cv2.imread(img_path,cv2.COLOR_BGR2RGB) #Reading color images\n",
        "        img5 = cv2.resize(img5, (SIZE, SIZE)) #Resize images\n",
        "        train_image_glcm.append(img5)\n",
        "        train_label_glcm.append(label_glcm)\n",
        "\n",
        "\n",
        "train_label_glcm= np.array(train_label_glcm) \n",
        "train_image_glcm = np.array(train_image_glcm)"
      ],
      "metadata": {
        "id": "9_bt0TXa_zuL"
      },
      "execution_count": null,
      "outputs": []
    },
    {
      "cell_type": "code",
      "source": [
        "train_image_glcm.shape"
      ],
      "metadata": {
        "colab": {
          "base_uri": "https://localhost:8080/"
        },
        "id": "1yWY8TFoFieT",
        "outputId": "73a26f06-9aab-47b8-abd6-6bdf4db56a22"
      },
      "execution_count": null,
      "outputs": [
        {
          "output_type": "execute_result",
          "data": {
            "text/plain": [
              "(5316, 224, 224)"
            ]
          },
          "metadata": {},
          "execution_count": 15
        }
      ]
    },
    {
      "cell_type": "code",
      "source": [
        "#x_train=train_image_glcm"
      ],
      "metadata": {
        "id": "p8I4jpttBjTi"
      },
      "execution_count": null,
      "outputs": []
    },
    {
      "cell_type": "code",
      "source": [
        "train_feature_glcm = feature_extractor(train_image_glcm)"
      ],
      "metadata": {
        "id": "Y6-wA7Hz_VWK"
      },
      "execution_count": null,
      "outputs": []
    },
    {
      "cell_type": "code",
      "source": [
        "train_feature_glcm.shape"
      ],
      "metadata": {
        "colab": {
          "base_uri": "https://localhost:8080/"
        },
        "id": "a74w7V65Jadq",
        "outputId": "4c0bc01d-b557-4e6a-9247-af765cfd9009"
      },
      "execution_count": null,
      "outputs": [
        {
          "output_type": "execute_result",
          "data": {
            "text/plain": [
              "(5316, 32)"
            ]
          },
          "metadata": {},
          "execution_count": 17
        }
      ]
    },
    {
      "cell_type": "markdown",
      "source": [
        "test data for glcm"
      ],
      "metadata": {
        "id": "RecmUGqrJkR1"
      }
    },
    {
      "cell_type": "code",
      "source": [
        "test_image_glcm = []\n",
        "#test_image_ID= []\n",
        "#hu_features_test = []\n",
        "for directory_path in sorted(glob.glob(\"/content/drive/MyDrive/testX/*\")):\n",
        "    #test_label = directory_path.split(\"/\")[-1]\n",
        "    print(test_label)\n",
        "    #test_image_ID.append(test_label)\n",
        "for directory_path in sorted(glob.glob(\"/content/drive/MyDrive/testX\")):\n",
        "    for img_path in sorted(glob.glob(os.path.join(directory_path, \"*.jpg\"))):\n",
        "        #print(img_path)\n",
        "        img6= cv2.imread(img_path,0)\n",
        "        img6 = cv2.resize(img6, (SIZE, SIZE))\n",
        "        test_image_glcm.append(img6)\n",
        "  \n",
        "test_image_glcm = np.array(test_image_glcm)"
      ],
      "metadata": {
        "id": "ra0_K19TJjT-"
      },
      "execution_count": null,
      "outputs": []
    },
    {
      "cell_type": "code",
      "source": [
        "le.fit(train_label_glcm)\n",
        "train_labels_encoded_glcm = le.transform(train_label_glcm)"
      ],
      "metadata": {
        "id": "YqiH-6Lp4Sct"
      },
      "execution_count": null,
      "outputs": []
    },
    {
      "cell_type": "code",
      "source": [
        "test_feature_glcm = feature_extractor(test_image_glcm)"
      ],
      "metadata": {
        "id": "ojbW18qgJRKx"
      },
      "execution_count": null,
      "outputs": []
    },
    {
      "cell_type": "markdown",
      "source": [
        "concat lbp and color \n"
      ],
      "metadata": {
        "id": "Ykx0PkAGxNKk"
      }
    },
    {
      "cell_type": "code",
      "source": [
        "train_images_lbp.shape"
      ],
      "metadata": {
        "colab": {
          "base_uri": "https://localhost:8080/"
        },
        "id": "UosrRK7kkV78",
        "outputId": "9d5e7411-99e0-430c-d24f-c773b833a4ae"
      },
      "execution_count": null,
      "outputs": [
        {
          "output_type": "execute_result",
          "data": {
            "text/plain": [
              "(5316, 26)"
            ]
          },
          "metadata": {},
          "execution_count": 20
        }
      ]
    },
    {
      "cell_type": "code",
      "source": [
        "over=RandomOverSampler(random_state=0,sampling_strategy='minority')\n",
        "X_res_glcm,Y_res_glcm=over.fit_resample(train_feature_glcm,train_labels_encoded_glcm)"
      ],
      "metadata": {
        "id": "dFUbxZmowpFf"
      },
      "execution_count": null,
      "outputs": []
    },
    {
      "cell_type": "code",
      "source": [
        "over=RandomOverSampler(random_state=0,sampling_strategy='minority')\n",
        "X_result_glcm,Y_result_glcm=over.fit_resample(X_res_glcm,Y_res_glcm)"
      ],
      "metadata": {
        "id": "v5F5qwBtwpFg"
      },
      "execution_count": null,
      "outputs": []
    },
    {
      "cell_type": "markdown",
      "source": [
        "#Feature Concatination (LBP + Color Histogram + GLCM)"
      ],
      "metadata": {
        "id": "W4zFAaVnycj5"
      }
    },
    {
      "cell_type": "code",
      "source": [
        "train_feature_final=np.concatenate((X_result_lbp,X_result_colorHist,X_result_glcm),axis=1)\n",
        "test_feature_final=np.concatenate((test_images_lbp,test_hist,test_feature_glcm),axis=1)\n"
      ],
      "metadata": {
        "id": "YBZo8TnRxM4D"
      },
      "execution_count": null,
      "outputs": []
    },
    {
      "cell_type": "code",
      "source": [
        "test_images_all = np.concatenate((test_images_lbp,test_hist,test_feature_glcm),axis=1)"
      ],
      "metadata": {
        "id": "02bm-45r54C6"
      },
      "execution_count": null,
      "outputs": []
    },
    {
      "cell_type": "markdown",
      "source": [
        "#Random forest"
      ],
      "metadata": {
        "id": "F4nNjBZL2oCk"
      }
    },
    {
      "cell_type": "code",
      "source": [
        "pipe = Pipeline([\n",
        "                 (\"scale\", StandardScaler()),\n",
        "                 (\"classifier\", RandomForestClassifier(n_estimators = 800, max_depth=60,random_state = 42))\n",
        "                 ])"
      ],
      "metadata": {
        "id": "0xi44BpN1wkO"
      },
      "execution_count": null,
      "outputs": []
    },
    {
      "cell_type": "code",
      "source": [
        "pipe.fit(train_feature_final,Y_result_glcm)"
      ],
      "metadata": {
        "colab": {
          "base_uri": "https://localhost:8080/"
        },
        "id": "FliFWKXd1-rC",
        "outputId": "fbe15d35-ec44-43ff-d623-8ac050c6fd09"
      },
      "execution_count": null,
      "outputs": [
        {
          "output_type": "execute_result",
          "data": {
            "text/plain": [
              "Pipeline(steps=[('scale', StandardScaler()),\n",
              "                ('classifier',\n",
              "                 RandomForestClassifier(max_depth=60, n_estimators=800,\n",
              "                                        random_state=42))])"
            ]
          },
          "metadata": {},
          "execution_count": 67
        }
      ]
    },
    {
      "cell_type": "code",
      "source": [
        "prediction = pipe.predict(test_images_all)"
      ],
      "metadata": {
        "id": "pSnIapIt5hz_"
      },
      "execution_count": null,
      "outputs": []
    }
  ]
}