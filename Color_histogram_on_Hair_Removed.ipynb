{
  "nbformat": 4,
  "nbformat_minor": 0,
  "metadata": {
    "colab": {
      "provenance": [],
      "mount_file_id": "1vW8Us-E769b9VQN6E22r6-f2My_-bXrb",
      "authorship_tag": "ABX9TyOdTWXRIiqzzJjwkU62p/Dw",
      "include_colab_link": true
    },
    "kernelspec": {
      "name": "python3",
      "display_name": "Python 3"
    },
    "language_info": {
      "name": "python"
    }
  },
  "cells": [
    {
      "cell_type": "markdown",
      "metadata": {
        "id": "view-in-github",
        "colab_type": "text"
      },
      "source": [
        "<a href=\"https://colab.research.google.com/github/RuthKassahun/Skin-Lesion-Classification/blob/main/Color_histogram_on_Hair_Removed.ipynb\" target=\"_parent\"><img src=\"https://colab.research.google.com/assets/colab-badge.svg\" alt=\"Open In Colab\"/></a>"
      ]
    },
    {
      "cell_type": "code",
      "execution_count": 1,
      "metadata": {
        "id": "_W6rpXakSFBI"
      },
      "outputs": [],
      "source": [
        "import numpy as np \n",
        "import matplotlib.pyplot as plt\n",
        "import glob\n",
        "import cv2\n",
        "import os\n",
        "import seaborn as sns\n",
        "import pandas as pd\n",
        "from skimage.filters import sobel\n",
        "from skimage.feature import greycomatrix, greycoprops\n",
        "from skimage.measure import shannon_entropy\n",
        "from sklearn.pipeline import Pipeline\n",
        "from sklearn.svm import SVC, LinearSVC\n",
        "from skimage.feature import local_binary_pattern\n",
        "from sklearn.ensemble import RandomForestClassifier\n",
        "from sklearn.neighbors import KNeighborsClassifier\n",
        "from sklearn.ensemble import AdaBoostClassifier\n",
        "from sklearn.preprocessing import LabelEncoder, StandardScaler, MinMaxScaler\n",
        "from sklearn import metrics\n",
        "from pathlib import Path\n",
        "import xgboost as xgb\n",
        "import lightgbm as lgb\n",
        "from PIL import Image, ImageOps\n",
        "from sklearn.model_selection import GridSearchCV, StratifiedKFold\n",
        "from sklearn.metrics import accuracy_score, auc, roc_curve, roc_auc_score, recall_score, confusion_matrix"
      ]
    },
    {
      "cell_type": "code",
      "source": [
        "def hist_features(img): \n",
        "  hist_blue = cv2.calcHist([img],[0],None,[256],[0,256]) #blue \n",
        "  hist_green = cv2.calcHist([img],[1],None,[256],[0,256]) \n",
        "  hist_red = cv2.calcHist([img],[2],None,[256],[0,256]) \n",
        "  hist=np.hstack([hist_green,hist_red,hist_blue]) \n",
        "  return hist.flatten()"
      ],
      "metadata": {
        "id": "W0QNuW-YSZmR"
      },
      "execution_count": 2,
      "outputs": []
    },
    {
      "cell_type": "code",
      "source": [
        "#Resize images to \n",
        "SIZE = 224 \n",
        " \n",
        "#Capture images and labels into arrays. \n",
        "#Start by creating empty lists. \n",
        "train_hist = [] \n",
        "train_label_hist = []  \n",
        "for directory_path in glob.glob(\"/content/drive/MyDrive/CAD_PROJECT/hair_removed/train/*\"): \n",
        "    labelhist = directory_path.split(\"\\\\\")[-1] \n",
        "    label = directory_path.split(\"/\")[-1]\n",
        "    #print(labelhist) \n",
        "    for img_path in glob.glob(os.path.join(directory_path, \"*.jpg\")): \n",
        "        #print(img_path) \n",
        "        img3 = cv2.imread(img_path,cv2.COLOR_BGR2RGB) #Reading color images \n",
        "        img3 = cv2.resize(img3, (SIZE, SIZE)) #Resize images \n",
        "        img3=hist_features(img3) #call the function \n",
        "        train_hist.append(img3) \n",
        "        train_label_hist.append(labelhist) \n",
        " \n",
        "train_hist = np.array(train_hist) \n",
        "train_label_hist= np.array(train_label_hist)"
      ],
      "metadata": {
        "id": "Iymibqs5SbIJ"
      },
      "execution_count": 15,
      "outputs": []
    },
    {
      "cell_type": "code",
      "source": [],
      "metadata": {
        "colab": {
          "base_uri": "https://localhost:8080/",
          "height": 35
        },
        "id": "GfdHuMvIYnJK",
        "outputId": "fa7b30ed-e5a2-4fad-8dc0-1290596b99a3"
      },
      "execution_count": 14,
      "outputs": [
        {
          "output_type": "execute_result",
          "data": {
            "text/plain": [
              "'/content/drive/MyDrive/CAD_PROJECT/hair_removed/test/other'"
            ],
            "application/vnd.google.colaboratory.intrinsic+json": {
              "type": "string"
            }
          },
          "metadata": {},
          "execution_count": 14
        }
      ]
    },
    {
      "cell_type": "code",
      "source": [
        "test_hist = [] \n",
        "test_label_hist = []  \n",
        "#for directory_path in glob.glob(\"cell_images/test/*\"): \n",
        "for directory_path in glob.glob(\"/content/drive/MyDrive/CAD_PROJECT/hair_removed/test/*\"):\n",
        "    labelhist = directory_path.split(\"\\\\\")[-1] \n",
        "    label = directory_path.split(\"/\")[-1]\n",
        "    for img_path in glob.glob(os.path.join(directory_path, \"*.jpg\")):\n",
        "        img4 = cv2.imread(img_path,cv2.COLOR_BGR2RGB) #Reading color images \n",
        "        img4 = cv2.resize(img4, (SIZE, SIZE)) #Resize images \n",
        "        img4=hist_features(img4) #call the function \n",
        "        test_hist.append(img4) \n",
        "        test_label_hist.append(labelhist) \n",
        "\n",
        "test_hist = np.array(test_hist)\n",
        "test_label_hist = np.array(test_label_hist)"
      ],
      "metadata": {
        "id": "Dk5OEhitVxE-"
      },
      "execution_count": 16,
      "outputs": []
    },
    {
      "cell_type": "code",
      "source": [
        "from sklearn import preprocessing\n",
        "le = preprocessing.LabelEncoder()\n",
        "le.fit(test_label_hist)\n",
        "test_labels_encoded = le.transform(test_label_hist)\n",
        "le.fit(train_label_hist)\n",
        "train_labels_encoded = le.transform(train_label_hist)"
      ],
      "metadata": {
        "id": "qKSZBy0hW-B1"
      },
      "execution_count": 17,
      "outputs": []
    },
    {
      "cell_type": "code",
      "source": [
        "x_train, y_train, x_test, y_test = train_hist, train_labels_encoded, test_hist, test_labels_encoded"
      ],
      "metadata": {
        "id": "pvNL2BsnXDqh"
      },
      "execution_count": 18,
      "outputs": []
    },
    {
      "cell_type": "code",
      "source": [
        "X_for_ML =x_train\n",
        "X_test_ML =x_test"
      ],
      "metadata": {
        "id": "mIW2r97rXofj"
      },
      "execution_count": 19,
      "outputs": []
    },
    {
      "cell_type": "markdown",
      "source": [
        "##SVM"
      ],
      "metadata": {
        "id": "e_fbzLJ2Xsu-"
      }
    },
    {
      "cell_type": "code",
      "source": [
        "pipe1 = Pipeline([\n",
        "                 (\"scale\", StandardScaler()),\n",
        "                 (\"classifier\", SVC(class_weight='balanced', probability=True, kernel= 'rbf', gamma=0.01, C=100)) #radial basis function kernel\n",
        "                 ])"
      ],
      "metadata": {
        "id": "dEP6EKtVXvnr"
      },
      "execution_count": 20,
      "outputs": []
    },
    {
      "cell_type": "code",
      "source": [
        "pipe1.fit(X_for_ML,y_train)"
      ],
      "metadata": {
        "colab": {
          "base_uri": "https://localhost:8080/"
        },
        "id": "QajnqzCBXyJv",
        "outputId": "3beb9876-2e3f-4979-fc65-025a4ec405bf"
      },
      "execution_count": 21,
      "outputs": [
        {
          "output_type": "execute_result",
          "data": {
            "text/plain": [
              "Pipeline(steps=[('scale', StandardScaler()),\n",
              "                ('classifier',\n",
              "                 SVC(C=100, class_weight='balanced', gamma=0.01,\n",
              "                     probability=True))])"
            ]
          },
          "metadata": {},
          "execution_count": 21
        }
      ]
    },
    {
      "cell_type": "code",
      "source": [
        "# Test set evaluation\n",
        "prediction = pipe1.predict(X_test_ML)\n",
        "# Visualization\n",
        "cmat = metrics.confusion_matrix(prediction,test_labels_encoded)\n",
        "s = sns.heatmap(cmat,annot=True,xticklabels=label, yticklabels=label)\n",
        "s.set(xlabel='Predicted', ylabel='Actual')\n",
        "acc = cmat.trace() / cmat.sum()\n",
        "print('Accuracy: {0:5.2f}%'.format(acc*100))"
      ],
      "metadata": {
        "colab": {
          "base_uri": "https://localhost:8080/",
          "height": 296
        },
        "id": "pcgL_-4QX09u",
        "outputId": "50a6338f-41fc-420a-db48-af8910aca84a"
      },
      "execution_count": 22,
      "outputs": [
        {
          "output_type": "stream",
          "name": "stdout",
          "text": [
            "Accuracy: 65.98%\n"
          ]
        },
        {
          "output_type": "display_data",
          "data": {
            "text/plain": [
              "<Figure size 432x288 with 2 Axes>"
            ],
            "image/png": "[encoded data removed]"
          },
          "metadata": {
            "needs_background": "light"
          }
        }
      ]
    },
    {
      "cell_type": "code",
      "source": [
        "prediction_prob = pipe1.predict_proba(X_test_ML)\n",
        "print(\"Area under curve (AUC): \", roc_auc_score(test_labels_encoded, prediction_prob[:,1]))"
      ],
      "metadata": {
        "colab": {
          "base_uri": "https://localhost:8080/"
        },
        "id": "lldExo4LX4Gi",
        "outputId": "2a259305-67e7-4fdf-ec3c-6775ca401737"
      },
      "execution_count": 23,
      "outputs": [
        {
          "output_type": "stream",
          "name": "stdout",
          "text": [
            "Area under curve (AUC):  0.7456420068027211\n"
          ]
        }
      ]
    },
    {
      "cell_type": "code",
      "source": [
        "fpr, tpr, thresholds = roc_curve(test_labels_encoded, prediction_prob[:,1]) # outputs false positive rate, true positive rate, and corresponding thresholds.\n",
        "plt.figure(1)\n",
        "plt.plot([0,1],[0,1], 'y--')\n",
        "plt.plot(fpr, tpr, linestyle = '--')\n",
        "plt.xlabel('False positive rate')\n",
        "plt.ylabel('True positive rate')\n",
        "plt.title('ROC curve')\n",
        "plt.show()"
      ],
      "metadata": {
        "colab": {
          "base_uri": "https://localhost:8080/",
          "height": 295
        },
        "id": "82EdEBnUX6bA",
        "outputId": "a08d7e19-9b4d-46f1-8f59-0dc1340ad251"
      },
      "execution_count": 24,
      "outputs": [
        {
          "output_type": "display_data",
          "data": {
            "text/plain": [
              "<Figure size 432x288 with 1 Axes>"
            ],
            "image/png": "[encoded data removed]"
          },
          "metadata": {
            "needs_background": "light"
          }
        }
      ]
    },
    {
      "cell_type": "markdown",
      "source": [
        "## Random Forest"
      ],
      "metadata": {
        "id": "8cf0tW-GZo2Y"
      }
    },
    {
      "cell_type": "code",
      "source": [
        "pipe2 = Pipeline([\n",
        "                 (\"scale\", StandardScaler()),\n",
        "                 (\"classifier\", RandomForestClassifier(n_estimators = 100, random_state = 42))\n",
        "                 ])"
      ],
      "metadata": {
        "id": "UdutQnK7Zq1b"
      },
      "execution_count": 25,
      "outputs": []
    },
    {
      "cell_type": "code",
      "source": [
        "pipe2.fit(X_for_ML,train_labels_encoded)\n"
      ],
      "metadata": {
        "colab": {
          "base_uri": "https://localhost:8080/"
        },
        "id": "2n6uXdoHZtEQ",
        "outputId": "6118ac0f-565d-4093-98e3-058446c832f5"
      },
      "execution_count": 26,
      "outputs": [
        {
          "output_type": "execute_result",
          "data": {
            "text/plain": [
              "Pipeline(steps=[('scale', StandardScaler()),\n",
              "                ('classifier', RandomForestClassifier(random_state=42))])"
            ]
          },
          "metadata": {},
          "execution_count": 26
        }
      ]
    },
    {
      "cell_type": "code",
      "source": [
        "# Test set evaluation\n",
        "prediction = pipe2.predict(X_test_ML)\n",
        "# Visualization\n",
        "cmat = metrics.confusion_matrix(prediction,test_labels_encoded)\n",
        "s = sns.heatmap(cmat,annot=True,xticklabels=label, yticklabels=label)\n",
        "s.set(xlabel='Predicted', ylabel='Actual')\n",
        "acc = cmat.trace() / cmat.sum()\n",
        "print('Accuracy: {0:5.2f}%'.format(acc*100))"
      ],
      "metadata": {
        "colab": {
          "base_uri": "https://localhost:8080/",
          "height": 296
        },
        "id": "G7s7B_iRZwTK",
        "outputId": "827d60d7-ab21-4937-a2ee-4e611f6490ab"
      },
      "execution_count": 27,
      "outputs": [
        {
          "output_type": "stream",
          "name": "stdout",
          "text": [
            "Accuracy: 74.74%\n"
          ]
        },
        {
          "output_type": "display_data",
          "data": {
            "text/plain": [
              "<Figure size 432x288 with 2 Axes>"
            ],
            "image/png": "[encoded data removed]"
          },
          "metadata": {
            "needs_background": "light"
          }
        }
      ]
    },
    {
      "cell_type": "code",
      "source": [
        "prediction_prob = pipe2.predict_proba(X_test_ML)\n",
        "print(\"Area under curve (AUC): \", roc_auc_score(test_labels_encoded, prediction_prob[:,1]))"
      ],
      "metadata": {
        "colab": {
          "base_uri": "https://localhost:8080/"
        },
        "id": "EyklAGOrZy9W",
        "outputId": "e74182e4-1fe1-4e77-f31c-277017fb2c91"
      },
      "execution_count": 28,
      "outputs": [
        {
          "output_type": "stream",
          "name": "stdout",
          "text": [
            "Area under curve (AUC):  0.8333333333333334\n"
          ]
        }
      ]
    },
    {
      "cell_type": "code",
      "source": [
        "fpr, tpr, thresholds = roc_curve(test_labels_encoded, prediction_prob[:,1]) # outputs false positive rate, true positive rate, and corresponding thresholds.\n",
        "plt.figure(1)\n",
        "plt.plot([0,1],[0,1], 'y--')\n",
        "plt.plot(fpr, tpr, linestyle = '--')\n",
        "plt.xlabel('False positive rate')\n",
        "plt.ylabel('True positive rate')\n",
        "plt.title('ROC curve')\n",
        "plt.show()"
      ],
      "metadata": {
        "colab": {
          "base_uri": "https://localhost:8080/",
          "height": 295
        },
        "id": "9OVadFduZ1Xv",
        "outputId": "5064cda7-f904-4b95-ab6f-354ed60e022b"
      },
      "execution_count": 29,
      "outputs": [
        {
          "output_type": "display_data",
          "data": {
            "text/plain": [
              "<Figure size 432x288 with 1 Axes>"
            ],
            "image/png": "[encoded data removed]"
          },
          "metadata": {
            "needs_background": "light"
          }
        }
      ]
    },
    {
      "cell_type": "markdown",
      "source": [
        "## KNN"
      ],
      "metadata": {
        "id": "ekAdaXNuZ3tx"
      }
    },
    {
      "cell_type": "code",
      "source": [
        "pipe3 = Pipeline([\n",
        "                 (\"scale\",StandardScaler()),\n",
        "                 (\"classifier\", KNeighborsClassifier(n_neighbors=7))\n",
        "                 ])"
      ],
      "metadata": {
        "id": "fVPPLEFMZ5Du"
      },
      "execution_count": 30,
      "outputs": []
    },
    {
      "cell_type": "code",
      "source": [
        "pipe3.fit(X_for_ML,train_labels_encoded)"
      ],
      "metadata": {
        "colab": {
          "base_uri": "https://localhost:8080/"
        },
        "id": "r77HzmJWZ9j5",
        "outputId": "a5561164-6727-46b3-e371-613bbdc96e75"
      },
      "execution_count": 31,
      "outputs": [
        {
          "output_type": "execute_result",
          "data": {
            "text/plain": [
              "Pipeline(steps=[('scale', StandardScaler()),\n",
              "                ('classifier', KNeighborsClassifier(n_neighbors=7))])"
            ]
          },
          "metadata": {},
          "execution_count": 31
        }
      ]
    },
    {
      "cell_type": "code",
      "source": [
        "prediction_prob = pipe3.predict_proba(X_test_ML)\n",
        "print(\"Area under curve (AUC): \", roc_auc_score(test_labels_encoded, prediction_prob[:,1]))"
      ],
      "metadata": {
        "colab": {
          "base_uri": "https://localhost:8080/"
        },
        "id": "WpS13shwaALL",
        "outputId": "1321077f-3c63-4ac8-dc99-8ede1161e0b3"
      },
      "execution_count": 32,
      "outputs": [
        {
          "output_type": "stream",
          "name": "stdout",
          "text": [
            "Area under curve (AUC):  0.6862244897959184\n"
          ]
        }
      ]
    },
    {
      "cell_type": "code",
      "source": [
        "# Test set evaluation\n",
        "prediction = pipe3.predict(X_test_ML)\n",
        "# Visualization\n",
        "cmat = metrics.confusion_matrix(prediction,test_labels_encoded)\n",
        "s = sns.heatmap(cmat,annot=True,xticklabels=label, yticklabels=label)\n",
        "s.set(xlabel='Predicted', ylabel='Actual')\n",
        "acc = cmat.trace() / cmat.sum()\n",
        "print('Accuracy: {0:5.2f}%'.format(acc*100))"
      ],
      "metadata": {
        "colab": {
          "base_uri": "https://localhost:8080/",
          "height": 296
        },
        "id": "uWZR_q3IaCXO",
        "outputId": "757bf3ce-1c01-44da-bc80-87fc1fb04942"
      },
      "execution_count": 33,
      "outputs": [
        {
          "output_type": "stream",
          "name": "stdout",
          "text": [
            "Accuracy: 63.40%\n"
          ]
        },
        {
          "output_type": "display_data",
          "data": {
            "text/plain": [
              "<Figure size 432x288 with 2 Axes>"
            ],
            "image/png": "[encoded data removed]"
          },
          "metadata": {
            "needs_background": "light"
          }
        }
      ]
    },
    {
      "cell_type": "code",
      "source": [
        "fpr, tpr, thresholds = roc_curve(test_labels_encoded, prediction_prob[:,1]) # outputs false positive rate, true positive rate, and corresponding thresholds.\n",
        "plt.figure(1)\n",
        "plt.plot([0,1],[0,1], 'y--')\n",
        "plt.plot(fpr, tpr, linestyle = '--')\n",
        "plt.xlabel('False positive rate')\n",
        "plt.ylabel('True positive rate')\n",
        "plt.title('ROC curve')\n",
        "plt.show()"
      ],
      "metadata": {
        "colab": {
          "base_uri": "https://localhost:8080/",
          "height": 295
        },
        "id": "pcBHjL6ZaEyb",
        "outputId": "37f1d1fa-3275-446e-f895-1745597bd23d"
      },
      "execution_count": 34,
      "outputs": [
        {
          "output_type": "display_data",
          "data": {
            "text/plain": [
              "<Figure size 432x288 with 1 Axes>"
            ],
            "image/png": "[encoded data removed]"
          },
          "metadata": {
            "needs_background": "light"
          }
        }
      ]
    },
    {
      "cell_type": "markdown",
      "source": [
        "## Ada Boost"
      ],
      "metadata": {
        "id": "MCh2Al4KaG9C"
      }
    },
    {
      "cell_type": "code",
      "source": [
        "clf = AdaBoostClassifier(n_estimators=200, random_state=0)\n",
        "clf.fit(X_for_ML,train_labels_encoded)"
      ],
      "metadata": {
        "colab": {
          "base_uri": "https://localhost:8080/"
        },
        "id": "Ofnw7MDTaJNq",
        "outputId": "b1a3c713-20b0-42b7-8085-ba31983bfd93"
      },
      "execution_count": 35,
      "outputs": [
        {
          "output_type": "execute_result",
          "data": {
            "text/plain": [
              "AdaBoostClassifier(n_estimators=200, random_state=0)"
            ]
          },
          "metadata": {},
          "execution_count": 35
        }
      ]
    },
    {
      "cell_type": "code",
      "source": [
        "prediction_prob = clf.predict_proba(X_test_ML)\n",
        "print(\"Area under curve (AUC): \", roc_auc_score(test_labels_encoded, prediction_prob[:,1]))"
      ],
      "metadata": {
        "colab": {
          "base_uri": "https://localhost:8080/"
        },
        "id": "VjbJTuQ6aNlM",
        "outputId": "1c6a2968-b25f-4d00-afaf-20cef6fb8690"
      },
      "execution_count": 36,
      "outputs": [
        {
          "output_type": "stream",
          "name": "stdout",
          "text": [
            "Area under curve (AUC):  0.7728528911564626\n"
          ]
        }
      ]
    },
    {
      "cell_type": "code",
      "source": [
        "# Test set evaluation\n",
        "prediction = clf.predict(X_test_ML)\n",
        "# Visualization\n",
        "cmat = confusion_matrix(prediction,test_labels_encoded)\n",
        "s = sns.heatmap(cmat,annot=True,xticklabels=label, yticklabels=label)\n",
        "s.set(xlabel='Predicted', ylabel='Actual')\n",
        "acc = cmat.trace() / cmat.sum()\n",
        "print('Accuracy: {0:5.2f}%'.format(acc*100))"
      ],
      "metadata": {
        "colab": {
          "base_uri": "https://localhost:8080/",
          "height": 296
        },
        "id": "Yqmbk26MaP15",
        "outputId": "02b9ef18-313e-4717-e449-f0018f58c140"
      },
      "execution_count": 37,
      "outputs": [
        {
          "output_type": "stream",
          "name": "stdout",
          "text": [
            "Accuracy: 71.13%\n"
          ]
        },
        {
          "output_type": "display_data",
          "data": {
            "text/plain": [
              "<Figure size 432x288 with 2 Axes>"
            ],
            "image/png": "[encoded data removed]"
          },
          "metadata": {
            "needs_background": "light"
          }
        }
      ]
    },
    {
      "cell_type": "code",
      "source": [
        "fpr, tpr, thresholds = roc_curve(test_labels_encoded, prediction_prob[:,1]) # outputs false positive rate, true positive rate, and corresponding thresholds.\n",
        "plt.figure(1)\n",
        "plt.plot([0,1],[0,1], 'y--')\n",
        "plt.plot(fpr, tpr, linestyle = '--')\n",
        "plt.xlabel('False positive rate')\n",
        "plt.ylabel('True positive rate')\n",
        "plt.title('ROC curve')\n",
        "plt.show()"
      ],
      "metadata": {
        "colab": {
          "base_uri": "https://localhost:8080/",
          "height": 295
        },
        "id": "Yteh0xEJaSSM",
        "outputId": "e8731016-ee91-493f-cd1a-971d0cbd26a3"
      },
      "execution_count": 38,
      "outputs": [
        {
          "output_type": "display_data",
          "data": {
            "text/plain": [
              "<Figure size 432x288 with 1 Axes>"
            ],
            "image/png": "[encoded data removed]"
          },
          "metadata": {
            "needs_background": "light"
          }
        }
      ]
    },
    {
      "cell_type": "markdown",
      "source": [
        "## XGB"
      ],
      "metadata": {
        "id": "RCgwwxeyaUQg"
      }
    },
    {
      "cell_type": "code",
      "source": [
        "mod1 = xgb.XGBClassifier(booster='dart',learning_rate=0.1)\n",
        "train_arr = np.array(X_for_ML)\n",
        "test_arr = np.array(X_test_ML)\n",
        "mod1.fit(train_arr, train_labels_encoded)"
      ],
      "metadata": {
        "colab": {
          "base_uri": "https://localhost:8080/"
        },
        "id": "mZVrTINQaXR5",
        "outputId": "dd306e2b-0049-4fe9-ab86-72733fe17454"
      },
      "execution_count": 39,
      "outputs": [
        {
          "output_type": "execute_result",
          "data": {
            "text/plain": [
              "XGBClassifier(booster='dart')"
            ]
          },
          "metadata": {},
          "execution_count": 39
        }
      ]
    },
    {
      "cell_type": "code",
      "source": [
        "prediction = mod1.predict(test_arr)\n",
        "print(\"Accuracy = \", accuracy_score(test_labels_encoded, prediction))"
      ],
      "metadata": {
        "colab": {
          "base_uri": "https://localhost:8080/"
        },
        "id": "i1E8J8CsabJe",
        "outputId": "4cf1207a-8211-4a52-f6b2-bfbb52c168e2"
      },
      "execution_count": 40,
      "outputs": [
        {
          "output_type": "stream",
          "name": "stdout",
          "text": [
            "Accuracy =  0.7164948453608248\n"
          ]
        }
      ]
    },
    {
      "cell_type": "code",
      "source": [
        "cm = confusion_matrix(test_labels_encoded, prediction)\n",
        "sns.heatmap(cm, annot=True)"
      ],
      "metadata": {
        "colab": {
          "base_uri": "https://localhost:8080/",
          "height": 282
        },
        "id": "BNi-FkNhadPA",
        "outputId": "adb857c4-e2a3-4396-e98f-5674baf03684"
      },
      "execution_count": 41,
      "outputs": [
        {
          "output_type": "execute_result",
          "data": {
            "text/plain": [
              "<matplotlib.axes._subplots.AxesSubplot at 0x7f7b5c3d9410>"
            ]
          },
          "metadata": {},
          "execution_count": 41
        },
        {
          "output_type": "display_data",
          "data": {
            "text/plain": [
              "<Figure size 432x288 with 2 Axes>"
            ],
            "image/png": "[encoded data removed]"
          },
          "metadata": {
            "needs_background": "light"
          }
        }
      ]
    },
    {
      "cell_type": "code",
      "source": [
        "prediction_prob = mod1.predict_proba(test_arr)\n",
        "print(\"Area under curve (AUC): \", roc_auc_score(test_labels_encoded, prediction_prob[:,1]))"
      ],
      "metadata": {
        "colab": {
          "base_uri": "https://localhost:8080/"
        },
        "id": "Ma6D9LblafpC",
        "outputId": "d31c7c27-fe51-40d1-8080-47b3c74f6c2a"
      },
      "execution_count": 42,
      "outputs": [
        {
          "output_type": "stream",
          "name": "stdout",
          "text": [
            "Area under curve (AUC):  0.8232355442176871\n"
          ]
        }
      ]
    },
    {
      "cell_type": "code",
      "source": [
        "fpr, tpr, thresholds = roc_curve(test_labels_encoded, prediction_prob[:,1]) # outputs false positive rate, true positive rate, and corresponding thresholds.\n",
        "plt.figure(1)\n",
        "plt.plot([0,1],[0,1], 'y--')\n",
        "plt.plot(fpr, tpr, linestyle = '--')\n",
        "plt.xlabel('False positive rate')\n",
        "plt.ylabel('True positive rate')\n",
        "plt.title('ROC curve')\n",
        "plt.show()"
      ],
      "metadata": {
        "colab": {
          "base_uri": "https://localhost:8080/",
          "height": 295
        },
        "id": "Xon0_vPsahyR",
        "outputId": "1f241b64-4937-454c-e812-c8f1145ea651"
      },
      "execution_count": 43,
      "outputs": [
        {
          "output_type": "display_data",
          "data": {
            "text/plain": [
              "<Figure size 432x288 with 1 Axes>"
            ],
            "image/png": "[encoded data removed]"
          },
          "metadata": {
            "needs_background": "light"
          }
        }
      ]
    },
    {
      "cell_type": "markdown",
      "source": [
        "## LightGBM"
      ],
      "metadata": {
        "id": "W1U4IC7Jajyp"
      }
    },
    {
      "cell_type": "code",
      "source": [
        "scaler = StandardScaler()\n",
        "train_scaled = scaler.fit_transform(X_for_ML)\n",
        "test_scaled = scaler.transform(X_test_ML)\n",
        "d_train = lgb.Dataset(train_scaled, label=train_labels_encoded)"
      ],
      "metadata": {
        "id": "OlR6xNr3aleT"
      },
      "execution_count": 44,
      "outputs": []
    },
    {
      "cell_type": "code",
      "source": [
        "lgbm_params = {'learning_rate':0.05, 'boosting_type':'gbdt', #Sometimes dart gives better accuracy. gbdt means gradient boosting.\n",
        "              'objective':'binary',\n",
        "              'metric':['auc', 'binary_logloss'],\n",
        "              'num_leaves':100, # optimizing this avoids overfitting. 50 to 100\n",
        "              'max_depth':10} #10 may be appropriate"
      ],
      "metadata": {
        "id": "QNvUFFtMapHq"
      },
      "execution_count": 45,
      "outputs": []
    },
    {
      "cell_type": "code",
      "source": [
        "clf = lgb.train(lgbm_params, d_train, 50) #50 iterations. Increase iterations for small learning rates. eg if learning grate = 0.005, we may need 500 iterations.\n",
        "prediction=clf.predict(test_scaled)\n",
        "#convert the probabilities into binary values 0/1 for classification\n",
        "for i in range(0, test_scaled.shape[0]):\n",
        "    if prediction[i]>=.5: # setting threshold to 0.5\n",
        "       prediction[i]=1\n",
        "    else:  \n",
        "       prediction[i]=0"
      ],
      "metadata": {
        "id": "rFuZvBkmar5q"
      },
      "execution_count": 46,
      "outputs": []
    },
    {
      "cell_type": "code",
      "source": [
        "#Print accuracy\n",
        "print (\"Accuracy with LGBM = \", accuracy_score(test_labels_encoded, prediction))\n",
        "#Confusion matrix\n",
        "cm_lgbm = confusion_matrix(test_labels_encoded, prediction)\n",
        "sns.heatmap(cm_lgbm, annot=True)"
      ],
      "metadata": {
        "colab": {
          "base_uri": "https://localhost:8080/",
          "height": 300
        },
        "id": "7zt68kP8at7F",
        "outputId": "242c522d-a93f-4bfd-ae4e-48242e08d4ed"
      },
      "execution_count": 47,
      "outputs": [
        {
          "output_type": "stream",
          "name": "stdout",
          "text": [
            "Accuracy with LGBM =  0.7268041237113402\n"
          ]
        },
        {
          "output_type": "execute_result",
          "data": {
            "text/plain": [
              "<matplotlib.axes._subplots.AxesSubplot at 0x7f7b5bed8650>"
            ]
          },
          "metadata": {},
          "execution_count": 47
        },
        {
          "output_type": "display_data",
          "data": {
            "text/plain": [
              "<Figure size 432x288 with 2 Axes>"
            ],
            "image/png": "[encoded data removed]"
          },
          "metadata": {
            "needs_background": "light"
          }
        }
      ]
    },
    {
      "cell_type": "code",
      "source": [
        "prediction_prob=clf.predict(test_scaled)\n",
        "print(\"Area under curve (AUC): \", roc_auc_score(test_labels_encoded, prediction_prob))\n"
      ],
      "metadata": {
        "colab": {
          "base_uri": "https://localhost:8080/"
        },
        "id": "LgfW-amxawTZ",
        "outputId": "39fbff59-e451-4fc4-8737-840bf3a420cd"
      },
      "execution_count": 48,
      "outputs": [
        {
          "output_type": "stream",
          "name": "stdout",
          "text": [
            "Area under curve (AUC):  0.8291879251700681\n"
          ]
        }
      ]
    },
    {
      "cell_type": "code",
      "source": [
        "fpr, tpr, thresholds = roc_curve(test_labels_encoded, prediction_prob) # outputs false positive rate, true positive rate, and corresponding thresholds.\n",
        "plt.figure(1)\n",
        "plt.plot([0,1],[0,1], 'y--')\n",
        "plt.plot(fpr, tpr, linestyle = '--')\n",
        "plt.xlabel('False positive rate')\n",
        "plt.ylabel('True positive rate')\n",
        "plt.title('ROC curve')\n",
        "plt.show()"
      ],
      "metadata": {
        "colab": {
          "base_uri": "https://localhost:8080/",
          "height": 295
        },
        "id": "dGuN65rfay0C",
        "outputId": "f6744c6e-fc1d-4883-e625-17fd299db101"
      },
      "execution_count": 49,
      "outputs": [
        {
          "output_type": "display_data",
          "data": {
            "text/plain": [
              "<Figure size 432x288 with 1 Axes>"
            ],
            "image/png": "[encoded data removed]"
          },
          "metadata": {
            "needs_background": "light"
          }
        }
      ]
    }
  ]
}