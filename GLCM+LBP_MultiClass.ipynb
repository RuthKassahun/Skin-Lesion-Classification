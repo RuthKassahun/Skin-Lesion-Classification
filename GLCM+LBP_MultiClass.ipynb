{
  "nbformat": 4,
  "nbformat_minor": 0,
  "metadata": {
    "colab": {
      "provenance": [],
      "collapsed_sections": [],
      "include_colab_link": true
    },
    "kernelspec": {
      "name": "python3",
      "display_name": "Python 3"
    },
    "language_info": {
      "name": "python"
    }
  },
  "cells": [
    {
      "cell_type": "markdown",
      "metadata": {
        "id": "view-in-github",
        "colab_type": "text"
      },
      "source": [
        "<a href=\"https://colab.research.google.com/github/RuthKassahun/Skin-Lesion-Classification/blob/main/GLCM%2BLBP_MultiClass.ipynb\" target=\"_parent\"><img src=\"https://colab.research.google.com/assets/colab-badge.svg\" alt=\"Open In Colab\"/></a>"
      ]
    },
    {
      "cell_type": "code",
      "execution_count": 1,
      "metadata": {
        "id": "nJ0wWuozj6o8"
      },
      "outputs": [],
      "source": [
        "import numpy as np \n",
        "import matplotlib.pyplot as plt\n",
        "import glob\n",
        "import cv2\n",
        "import os\n",
        "from google.colab import drive\n",
        "import seaborn as sns\n",
        "import pandas as pd\n",
        "from skimage.filters import sobel\n",
        "from skimage.feature import greycomatrix, greycoprops\n",
        "from skimage.measure import shannon_entropy\n",
        "from sklearn.pipeline import Pipeline\n",
        "from sklearn.svm import SVC, LinearSVC\n",
        "from skimage.feature import local_binary_pattern\n",
        "from sklearn.ensemble import RandomForestClassifier\n",
        "from sklearn.neighbors import KNeighborsClassifier\n",
        "from sklearn.ensemble import AdaBoostClassifier\n",
        "from sklearn.preprocessing import LabelEncoder, StandardScaler, MinMaxScaler\n",
        "from sklearn import metrics\n",
        "from pathlib import Path\n",
        "import xgboost as xgb\n",
        "import lightgbm as lgb\n",
        "from PIL import Image, ImageOps\n",
        "from sklearn.model_selection import GridSearchCV, StratifiedKFold\n",
        "from sklearn.metrics import accuracy_score, auc, roc_curve, roc_auc_score, recall_score, confusion_matrix\n"
      ]
    },
    {
      "cell_type": "code",
      "source": [
        "from google.colab import drive\n",
        "drive.mount('/content/drive')"
      ],
      "metadata": {
        "colab": {
          "base_uri": "https://localhost:8080/"
        },
        "id": "9a7LKd7djPPM",
        "outputId": "08c02f7e-237d-4260-974f-6e80eaff796a"
      },
      "execution_count": 2,
      "outputs": [
        {
          "output_type": "stream",
          "name": "stdout",
          "text": [
            "Mounted at /content/drive\n"
          ]
        }
      ]
    },
    {
      "cell_type": "code",
      "source": [
        "# This will prompt for authorization.\n",
        "drive.mount('/content/drive')\n",
        "# Define the root data directory\n",
        "DATA_DIR = \"/content/drive/MyDrive/CAD_PROJECT\""
      ],
      "metadata": {
        "colab": {
          "base_uri": "https://localhost:8080/"
        },
        "id": "NmzMWbSKkAMB",
        "outputId": "5abe17cd-d348-4d1b-8b12-0b4a6ac83ed8"
      },
      "execution_count": null,
      "outputs": [
        {
          "output_type": "stream",
          "name": "stdout",
          "text": [
            "Drive already mounted at /content/drive; to attempt to forcibly remount, call drive.mount(\"/content/drive\", force_remount=True).\n"
          ]
        }
      ]
    },
    {
      "cell_type": "markdown",
      "source": [
        "##LBP"
      ],
      "metadata": {
        "id": "7rla_Z9LkVMk"
      }
    },
    {
      "cell_type": "code",
      "source": [
        "def compute_lbp(arr):\n",
        "  # LBP function params\n",
        "  radius = 3\n",
        "  n_points = 8 * radius\n",
        "  n_bins = n_points + 2\n",
        "  lbp = local_binary_pattern(arr,n_points,radius,'uniform')\n",
        "  lbp = lbp.ravel()\n",
        "  #feature_len = int(lbp.max() + 1)\n",
        "  feature = np.zeros(n_bins)\n",
        "  for i in lbp:\n",
        "    feature[int(i)] += 1 # Feature\n",
        "  feature /= np.linalg.norm(feature, ord=1) # Normalizing feature\n",
        "  return feature"
      ],
      "metadata": {
        "id": "Ag7GbS7ykLef"
      },
      "execution_count": 3,
      "outputs": []
    },
    {
      "cell_type": "markdown",
      "source": [
        "lbp train data"
      ],
      "metadata": {
        "id": "k1U_L9QNkkd9"
      }
    },
    {
      "cell_type": "code",
      "source": [
        "SIZE = 224\n",
        "train_images_lbp = []\n",
        "train_labels_lbp = [] \n",
        "#for directory_path in glob.glob(\"cell_images/train/*\"):\n",
        "for directory_path in glob.glob(\"/content/drive/MyDrive/Multiclass/multi_train/*\"):\n",
        "    label_lbp_train = directory_path.split(\"/\")[-1]\n",
        "    label = directory_path.split(\"/\")[-1]\n",
        "    #print(label_lbp_train)\n",
        "    for img_path in glob.glob(os.path.join(directory_path, \"*.jpg\")):\n",
        "        #print(img_path)\n",
        "        img1 = cv2.imread(img_path,0) #Reading color images\n",
        "        img1 = cv2.resize(img1, (SIZE, SIZE)) #Resize images\n",
        "        arr = np.array(img1) # convert the image to numpy array\n",
        "        feature_train_lbp = compute_lbp(arr)\n",
        "        train_images_lbp.append(feature_train_lbp)\n",
        "        train_labels_lbp.append(label_lbp_train)\n",
        "\n",
        "train_images_lbp =np.array(train_images_lbp)\n",
        "trait_labels_lbp =np.array(train_labels_lbp)\n"
      ],
      "metadata": {
        "id": "1btaf1ZAkivw"
      },
      "execution_count": 4,
      "outputs": []
    },
    {
      "cell_type": "markdown",
      "source": [
        "lbp val data"
      ],
      "metadata": {
        "id": "SRag_F1elXtD"
      }
    },
    {
      "cell_type": "code",
      "source": [
        "test_images_lbp = []\n",
        "test_labels_lbp = [] \n",
        "#for directory_path in glob.glob(\"cell_images/train/*\"):\n",
        "for directory_path in glob.glob(\"/content/drive/MyDrive/Multiclass/multi_val/*\"):\n",
        "    label_lbp_test = directory_path.split(\"/\")[-1]\n",
        "    label = directory_path.split(\"/\")[-1]\n",
        "    #print(label_lbp_test)\n",
        "    for img_path in glob.glob(os.path.join(directory_path, \"*.jpg\")):\n",
        "        #print(img_path)\n",
        "        img2 = cv2.imread(img_path,0) #Reading color images\n",
        "        img2 = cv2.resize(img2, (SIZE, SIZE)) #Resize images\n",
        "        arr = np.array(img2) # convert the image to numpy array\n",
        "        feature_test = compute_lbp(arr)\n",
        "        test_images_lbp.append(feature_test)\n",
        "        test_labels_lbp.append(label_lbp_test)\n",
        "\n",
        "test_images_lbp =np.array(test_images_lbp)\n",
        "test_labels_lbp =np.array(test_labels_lbp)\n"
      ],
      "metadata": {
        "id": "LnoOluxllb3P"
      },
      "execution_count": 5,
      "outputs": []
    },
    {
      "cell_type": "markdown",
      "source": [
        "#GLCM"
      ],
      "metadata": {
        "id": "Z326gsU2--bB"
      }
    },
    {
      "cell_type": "markdown",
      "source": [
        "glcm train data"
      ],
      "metadata": {
        "id": "eZnFJ9j5_0df"
      }
    },
    {
      "cell_type": "code",
      "source": [
        "def feature_extractor(dataset):\n",
        "  image_dataset  = pd.DataFrame()\n",
        "  distance = [11, 21]\n",
        "  angle = [0, np.pi/4, np.pi/2, 3*np.pi/4]\n",
        "  for image in range(dataset.shape[0]):\n",
        "    img = dataset[image]\n",
        "    df = pd.DataFrame()\n",
        "    count = 1\n",
        "    for dist in distance:\n",
        "      for ang in angle:\n",
        "        GLCM = greycomatrix(img, [dist], [ang])      \n",
        "        GLCM_Energy = greycoprops(GLCM, 'energy')[0]\n",
        "        df[f'Energy{count}'] = GLCM_Energy\n",
        "        GLCM_corr = greycoprops(GLCM, 'correlation')[0]\n",
        "        df[f'Corr{count}'] = GLCM_corr             \n",
        "        GLCM_hom = greycoprops(GLCM, 'homogeneity')[0]\n",
        "        df[f'Homogen{count}'] = GLCM_hom       \n",
        "        GLCM_contr = greycoprops(GLCM, 'contrast')[0]\n",
        "        df[f'Contrast{count}'] = GLCM_contr\n",
        "        count = count + 1\n",
        "    image_dataset = image_dataset.append(df)    \n",
        "  return image_dataset"
      ],
      "metadata": {
        "id": "Fhg7c7WI_EtD"
      },
      "execution_count": 6,
      "outputs": []
    },
    {
      "cell_type": "code",
      "source": [
        "#Resize images to\n",
        "SIZE = 224\n",
        "\n",
        "#Capture images and labels into arrays.\n",
        "#Start by creating empty lists.\n",
        "train_image_glcm = []\n",
        "train_label_glcm = [] \n",
        "for directory_path in glob.glob(\"/content/drive/MyDrive/Multiclass/multi_train/*\"):\n",
        "    label_glcm = directory_path.split(\"\\\\\")[-1]\n",
        "    label = directory_path.split(\"/\")[-1]\n",
        "    #print(label_glcm)\n",
        "    for img_path in glob.glob(os.path.join(directory_path, \"*.jpg\")):\n",
        "        #print(img_path)\n",
        "        img5= cv2.imread(img_path,0)\n",
        "        #img5 = cv2.imread(img_path,cv2.COLOR_BGR2RGB) #Reading color images\n",
        "        img5 = cv2.resize(img5, (SIZE, SIZE)) #Resize images\n",
        "        train_image_glcm.append(img5)\n",
        "        train_label_glcm.append(label_glcm)\n",
        "\n",
        "\n",
        "train_label_glcm= np.array(train_label_glcm) \n",
        "train_image_glcm = np.array(train_image_glcm)\n"
      ],
      "metadata": {
        "id": "9_bt0TXa_zuL"
      },
      "execution_count": 7,
      "outputs": []
    },
    {
      "cell_type": "code",
      "source": [
        "train_image_glcm.shape"
      ],
      "metadata": {
        "colab": {
          "base_uri": "https://localhost:8080/"
        },
        "id": "1yWY8TFoFieT",
        "outputId": "530842b4-8d29-4508-8a9d-bb4a77bf2c70"
      },
      "execution_count": 8,
      "outputs": [
        {
          "output_type": "execute_result",
          "data": {
            "text/plain": [
              "(5082, 224, 224)"
            ]
          },
          "metadata": {},
          "execution_count": 8
        }
      ]
    },
    {
      "cell_type": "code",
      "source": [
        "#x_train=train_image_glcm"
      ],
      "metadata": {
        "id": "p8I4jpttBjTi"
      },
      "execution_count": null,
      "outputs": []
    },
    {
      "cell_type": "code",
      "source": [
        "train_feature_glcm = feature_extractor(train_image_glcm)"
      ],
      "metadata": {
        "id": "Y6-wA7Hz_VWK"
      },
      "execution_count": 9,
      "outputs": []
    },
    {
      "cell_type": "code",
      "source": [
        "train_feature_glcm.shape"
      ],
      "metadata": {
        "colab": {
          "base_uri": "https://localhost:8080/"
        },
        "id": "a74w7V65Jadq",
        "outputId": "46eb87b3-d156-4dae-e9a2-d1017b3b37e1"
      },
      "execution_count": 10,
      "outputs": [
        {
          "output_type": "execute_result",
          "data": {
            "text/plain": [
              "(5082, 32)"
            ]
          },
          "metadata": {},
          "execution_count": 10
        }
      ]
    },
    {
      "cell_type": "markdown",
      "source": [
        "test data for glcm"
      ],
      "metadata": {
        "id": "RecmUGqrJkR1"
      }
    },
    {
      "cell_type": "code",
      "source": [
        "#Resize images to\n",
        "SIZE = 224\n",
        "\n",
        "#Capture images and labels into arrays.\n",
        "#Start by creating empty lists.\n",
        "test_image_glcm = []\n",
        "test_label_glcm = [] \n",
        "for directory_path in glob.glob(\"/content/drive/MyDrive/Multiclass/multi_val/*\"):\n",
        "    label_glcm_test = directory_path.split(\"\\\\\")[-1]\n",
        "    label = directory_path.split(\"/\")[-1]\n",
        "    #print(label_glcm)\n",
        "    for img_path in glob.glob(os.path.join(directory_path, \"*.jpg\")):\n",
        "        #print(img_path)\n",
        "        img6= cv2.imread(img_path,0)\n",
        "        #img5 = cv2.imread(img_path,cv2.COLOR_BGR2RGB) #Reading color images\n",
        "        img6 = cv2.resize(img6, (SIZE, SIZE)) #Resize images\n",
        "        test_image_glcm.append(img6)\n",
        "        test_label_glcm.append(label_glcm_test)\n",
        "\n",
        "\n",
        "test_label_glcm= np.array(test_label_glcm) \n",
        "test_image_glcm = np.array(test_image_glcm)"
      ],
      "metadata": {
        "id": "ra0_K19TJjT-"
      },
      "execution_count": 11,
      "outputs": []
    },
    {
      "cell_type": "code",
      "source": [
        "test_feature_glcm = feature_extractor(test_image_glcm)"
      ],
      "metadata": {
        "id": "ojbW18qgJRKx"
      },
      "execution_count": 12,
      "outputs": []
    },
    {
      "cell_type": "markdown",
      "source": [
        "Concat glcm, rgb hist and lbp"
      ],
      "metadata": {
        "id": "u4wpRTS4KZth"
      }
    },
    {
      "cell_type": "code",
      "source": [
        "train_feature_ghl=np.concatenate((train_images_lbp,train_feature_glcm),axis=1)\n",
        "test_feature_ghl=np.concatenate((test_images_lbp,test_feature_glcm),axis=1)"
      ],
      "metadata": {
        "id": "mF0ac3EgKdlu"
      },
      "execution_count": 13,
      "outputs": []
    },
    {
      "cell_type": "code",
      "source": [],
      "metadata": {
        "id": "2ymep2i3G1MM"
      },
      "execution_count": null,
      "outputs": []
    },
    {
      "cell_type": "markdown",
      "source": [
        "#combine glcm. lbp - texture descriptors"
      ],
      "metadata": {
        "id": "ofEUVXd3dOeN"
      }
    },
    {
      "cell_type": "code",
      "source": [
        "train_feature_all=np.concatenate((train_feature_glcm,train_images_lbp),axis=1)\n",
        "test_feature_all=np.concatenate((test_feature_glcm,test_images_lbp),axis=1)"
      ],
      "metadata": {
        "id": "lusnafOOdVxx"
      },
      "execution_count": 14,
      "outputs": []
    },
    {
      "cell_type": "code",
      "source": [
        "train_feature_all.shape"
      ],
      "metadata": {
        "colab": {
          "base_uri": "https://localhost:8080/"
        },
        "id": "tSt1pWa4ReoF",
        "outputId": "d7c2b8f4-477c-4b65-aa81-5548d892b38f"
      },
      "execution_count": 16,
      "outputs": [
        {
          "output_type": "execute_result",
          "data": {
            "text/plain": [
              "(5082, 58)"
            ]
          },
          "metadata": {},
          "execution_count": 16
        }
      ]
    },
    {
      "cell_type": "code",
      "source": [
        "from imblearn.over_sampling import RandomOverSampler\n",
        "from imblearn.under_sampling import RandomUnderSampler"
      ],
      "metadata": {
        "id": "lLo4imdOodwR"
      },
      "execution_count": 18,
      "outputs": []
    },
    {
      "cell_type": "code",
      "source": [
        "over=RandomOverSampler(random_state=0,sampling_strategy='minority')\n",
        "X_result,Y_result=over.fit_resample(train_feature_all,train_labels_encoded)"
      ],
      "metadata": {
        "id": "8AcmL-XdHSM5"
      },
      "execution_count": 21,
      "outputs": []
    },
    {
      "cell_type": "code",
      "source": [
        "over=RandomOverSampler(random_state=0,sampling_strategy='minority')\n",
        "X_res,Y_res=over.fit_resample(X_result,Y_result)\n"
      ],
      "metadata": {
        "id": "xB6koaYNE-Q9"
      },
      "execution_count": 22,
      "outputs": []
    },
    {
      "cell_type": "code",
      "source": [
        "X_res.shape"
      ],
      "metadata": {
        "colab": {
          "base_uri": "https://localhost:8080/"
        },
        "id": "aczQiA3oRBD0",
        "outputId": "6757a474-0a3a-4940-f087-e061ec386676"
      },
      "execution_count": 23,
      "outputs": [
        {
          "output_type": "execute_result",
          "data": {
            "text/plain": [
              "(8139, 58)"
            ]
          },
          "metadata": {},
          "execution_count": 23
        }
      ]
    },
    {
      "cell_type": "code",
      "source": [
        "print(sum(Y_res==0))"
      ],
      "metadata": {
        "id": "MKon45uoLuOe",
        "colab": {
          "base_uri": "https://localhost:8080/"
        },
        "outputId": "224769bd-1cf9-42ab-e63a-c9cce21c9709"
      },
      "execution_count": 24,
      "outputs": [
        {
          "output_type": "stream",
          "name": "stdout",
          "text": [
            "2713\n"
          ]
        }
      ]
    },
    {
      "cell_type": "code",
      "source": [
        "from sklearn import preprocessing\n",
        "le = preprocessing.LabelEncoder()\n",
        "le.fit(test_labels_lbp)\n",
        "test_labels_encoded = le.transform(test_labels_lbp)\n",
        "le.fit(trait_labels_lbp)\n",
        "train_labels_encoded = le.transform(trait_labels_lbp)"
      ],
      "metadata": {
        "id": "1MYgIJkBTad4"
      },
      "execution_count": 20,
      "outputs": []
    },
    {
      "cell_type": "code",
      "source": [
        "# x_train, y_train, x_test, y_test = train_images, train_labels_encoded, test_images, test_labels_encoded"
      ],
      "metadata": {
        "id": "2GDCr-wVz01I"
      },
      "execution_count": null,
      "outputs": []
    },
    {
      "cell_type": "markdown",
      "source": [
        "#SVM"
      ],
      "metadata": {
        "id": "SKMdPhLPz99K"
      }
    },
    {
      "cell_type": "code",
      "source": [
        "Y_res.shape"
      ],
      "metadata": {
        "colab": {
          "base_uri": "https://localhost:8080/"
        },
        "id": "TUkR4OIkTIbI",
        "outputId": "66e65388-fb83-473b-92d8-ed821ad61907"
      },
      "execution_count": 25,
      "outputs": [
        {
          "output_type": "execute_result",
          "data": {
            "text/plain": [
              "(8139,)"
            ]
          },
          "metadata": {},
          "execution_count": 25
        }
      ]
    },
    {
      "cell_type": "code",
      "source": [
        "pipe1 = Pipeline([\n",
        "                 (\"scale\", StandardScaler()),\n",
        "                 (\"classifier\", SVC(class_weight='balanced', probability=True, kernel= 'rbf', gamma=0.01, C=100)) #radial basis function kernel\n",
        "                 ])"
      ],
      "metadata": {
        "id": "oYr5tmZHz8YM"
      },
      "execution_count": 26,
      "outputs": []
    },
    {
      "cell_type": "code",
      "source": [
        "pipe1.fit(X_res,Y_res)"
      ],
      "metadata": {
        "colab": {
          "base_uri": "https://localhost:8080/"
        },
        "id": "V1g8nxRDz_vO",
        "outputId": "30bca2a9-0b3f-41cd-a6f2-ebe79dbc2548"
      },
      "execution_count": 27,
      "outputs": [
        {
          "output_type": "execute_result",
          "data": {
            "text/plain": [
              "Pipeline(steps=[('scale', StandardScaler()),\n",
              "                ('classifier',\n",
              "                 SVC(C=100, class_weight='balanced', gamma=0.01,\n",
              "                     probability=True))])"
            ]
          },
          "metadata": {},
          "execution_count": 27
        }
      ]
    },
    {
      "cell_type": "code",
      "source": [
        "# Test set evaluation\n",
        "prediction_svm = pipe1.predict(test_feature_all)\n",
        "# Visualization\n",
        "cmat = metrics.confusion_matrix(prediction_svm,test_labels_encoded)\n",
        "s = sns.heatmap(cmat,annot=True,xticklabels=label, yticklabels=label)\n",
        "s.set(xlabel='Predicted', ylabel='Actual')\n",
        "acc_svm = cmat.trace() / cmat.sum()\n",
        "print('Accuracy: {0:5.2f}%'.format(acc_svm*100))"
      ],
      "metadata": {
        "colab": {
          "base_uri": "https://localhost:8080/",
          "height": 297
        },
        "id": "aCaTh4FC0Sv2",
        "outputId": "dcb69aad-09f3-4e73-ac24-e5a331c2c296"
      },
      "execution_count": 28,
      "outputs": [
        {
          "output_type": "stream",
          "name": "stdout",
          "text": [
            "Accuracy: 70.55%\n"
          ]
        },
        {
          "output_type": "display_data",
          "data": {
            "text/plain": [
              "<Figure size 432x288 with 2 Axes>"
            ],
            "image/png": "[encoded data removed]"
          },
          "metadata": {
            "needs_background": "light"
          }
        }
      ]
    },
    {
      "cell_type": "code",
      "source": [
        "from sklearn.metrics import cohen_kappa_score\n",
        "kappa = cohen_kappa_score(prediction_svm, test_labels_encoded)\n",
        "print(kappa)"
      ],
      "metadata": {
        "colab": {
          "base_uri": "https://localhost:8080/"
        },
        "id": "QTByzeTAn7hf",
        "outputId": "760baa59-bccf-4728-9070-6605d606f802"
      },
      "execution_count": 29,
      "outputs": [
        {
          "output_type": "stream",
          "name": "stdout",
          "text": [
            "0.5016305237401738\n"
          ]
        }
      ]
    },
    {
      "cell_type": "markdown",
      "source": [
        "#Random forest"
      ],
      "metadata": {
        "id": "F4nNjBZL2oCk"
      }
    },
    {
      "cell_type": "code",
      "source": [
        "pipe2 = Pipeline([\n",
        "                 (\"scale\", StandardScaler()),\n",
        "                 (\"classifier\", RandomForestClassifier(n_estimators = 100, max_depth=9,random_state = 42))\n",
        "                 ])"
      ],
      "metadata": {
        "id": "0xi44BpN1wkO"
      },
      "execution_count": 30,
      "outputs": []
    },
    {
      "cell_type": "code",
      "source": [
        "pipe2.fit(X_res,Y_res)"
      ],
      "metadata": {
        "colab": {
          "base_uri": "https://localhost:8080/"
        },
        "id": "FliFWKXd1-rC",
        "outputId": "8448fea7-0a47-4272-e8e0-ec77fd7e4948"
      },
      "execution_count": 31,
      "outputs": [
        {
          "output_type": "execute_result",
          "data": {
            "text/plain": [
              "Pipeline(steps=[('scale', StandardScaler()),\n",
              "                ('classifier',\n",
              "                 RandomForestClassifier(max_depth=9, random_state=42))])"
            ]
          },
          "metadata": {},
          "execution_count": 31
        }
      ]
    },
    {
      "cell_type": "code",
      "source": [
        "# Test set evaluation\n",
        "prediction_rf = pipe2.predict(test_feature_all)\n",
        "# Visualization\n",
        "cmat_r = metrics.confusion_matrix(prediction_rf,test_labels_encoded)\n",
        "s = sns.heatmap(cmat,annot=True,xticklabels=label, yticklabels=label)\n",
        "s.set(xlabel='Predicted', ylabel='Actual')\n",
        "acc_r = cmat_r.trace() / cmat_r.sum()\n",
        "print('Accuracy: {0:5.2f}%'.format(acc_r*100))"
      ],
      "metadata": {
        "colab": {
          "base_uri": "https://localhost:8080/",
          "height": 297
        },
        "id": "BdM2LUwf2YoV",
        "outputId": "1773a341-b8dc-4f40-fc84-3e16a96773a9"
      },
      "execution_count": 32,
      "outputs": [
        {
          "output_type": "stream",
          "name": "stdout",
          "text": [
            "Accuracy: 69.53%\n"
          ]
        },
        {
          "output_type": "display_data",
          "data": {
            "text/plain": [
              "<Figure size 432x288 with 2 Axes>"
            ],
            "image/png": "[encoded data removed]"
          },
          "metadata": {
            "needs_background": "light"
          }
        }
      ]
    },
    {
      "cell_type": "code",
      "source": [
        "kappa = cohen_kappa_score(prediction_rf, test_labels_encoded)\n",
        "print(kappa)"
      ],
      "metadata": {
        "colab": {
          "base_uri": "https://localhost:8080/"
        },
        "id": "bT50r_lCr6Kn",
        "outputId": "e7b0ee39-6522-46f5-f1a4-a8b1c914f103"
      },
      "execution_count": 33,
      "outputs": [
        {
          "output_type": "stream",
          "name": "stdout",
          "text": [
            "0.47536794374207425\n"
          ]
        }
      ]
    },
    {
      "cell_type": "markdown",
      "source": [
        "#KNN"
      ],
      "metadata": {
        "id": "xMY47hXs2-eP"
      }
    },
    {
      "cell_type": "code",
      "source": [
        "pipe3 = Pipeline([\n",
        "                 (\"scale\",StandardScaler()),\n",
        "                 (\"classifier\", KNeighborsClassifier(n_neighbors=10))\n",
        "                 ])"
      ],
      "metadata": {
        "id": "004Wf-pD3AzQ"
      },
      "execution_count": 34,
      "outputs": []
    },
    {
      "cell_type": "code",
      "source": [
        "pipe3.fit(X_res,Y_res)"
      ],
      "metadata": {
        "colab": {
          "base_uri": "https://localhost:8080/"
        },
        "id": "4lLiEctC3CgE",
        "outputId": "5484f036-962d-4664-ee79-a41d5651f940"
      },
      "execution_count": 35,
      "outputs": [
        {
          "output_type": "execute_result",
          "data": {
            "text/plain": [
              "Pipeline(steps=[('scale', StandardScaler()),\n",
              "                ('classifier', KNeighborsClassifier(n_neighbors=10))])"
            ]
          },
          "metadata": {},
          "execution_count": 35
        }
      ]
    },
    {
      "cell_type": "code",
      "source": [
        "# Test set evaluation\n",
        "prediction_knn = pipe3.predict(test_feature_all)\n",
        "# Visualization\n",
        "cmat_knn = metrics.confusion_matrix(prediction_knn,test_labels_encoded)\n",
        "s = sns.heatmap(cmat,annot=True,xticklabels=label, yticklabels=label)\n",
        "s.set(xlabel='Predicted', ylabel='Actual')\n",
        "acc_knn = cmat_knn.trace() / cmat_knn.sum()\n",
        "print('Accuracy: {0:5.2f}%'.format(acc_knn*100))"
      ],
      "metadata": {
        "colab": {
          "base_uri": "https://localhost:8080/",
          "height": 297
        },
        "id": "XR2CnXsJ3NBJ",
        "outputId": "87d48a07-25b7-4357-bd4c-1a1e90151f91"
      },
      "execution_count": 36,
      "outputs": [
        {
          "output_type": "stream",
          "name": "stdout",
          "text": [
            "Accuracy: 58.11%\n"
          ]
        },
        {
          "output_type": "display_data",
          "data": {
            "text/plain": [
              "<Figure size 432x288 with 2 Axes>"
            ],
            "image/png": "[encoded data removed]"
          },
          "metadata": {
            "needs_background": "light"
          }
        }
      ]
    },
    {
      "cell_type": "code",
      "source": [
        "kappa = cohen_kappa_score(prediction_knn, test_labels_encoded)\n",
        "print(kappa)"
      ],
      "metadata": {
        "colab": {
          "base_uri": "https://localhost:8080/"
        },
        "id": "nWN8vbMssFBC",
        "outputId": "3b6b06d2-5210-437d-b329-66b3ba76dfbc"
      },
      "execution_count": 37,
      "outputs": [
        {
          "output_type": "stream",
          "name": "stdout",
          "text": [
            "0.34898904639671935\n"
          ]
        }
      ]
    },
    {
      "cell_type": "markdown",
      "source": [
        "#XGB"
      ],
      "metadata": {
        "id": "5sMqz9_H3fhZ"
      }
    },
    {
      "cell_type": "code",
      "source": [
        "mod1 = xgb.XGBClassifier(booster='dart',learning_rate=0.2,objective='multi:softmax')\n",
        "train_arr = np.array(X_res)\n",
        "test_arr = np.array(Y_res)\n",
        "mod1.fit(train_arr, Y_res)"
      ],
      "metadata": {
        "colab": {
          "base_uri": "https://localhost:8080/"
        },
        "id": "MGa7Y7Ux3lJQ",
        "outputId": "d29947bf-4bf6-46ba-ac58-ba202f074811"
      },
      "execution_count": 38,
      "outputs": [
        {
          "output_type": "execute_result",
          "data": {
            "text/plain": [
              "XGBClassifier(booster='dart', learning_rate=0.2, objective='multi:softprob')"
            ]
          },
          "metadata": {},
          "execution_count": 38
        }
      ]
    },
    {
      "cell_type": "code",
      "source": [
        "prediction_xgb = mod1.predict(test_feature_all)\n",
        "print(\"Accuracy = \", accuracy_score(test_labels_encoded, prediction_xgb)*100)\n",
        "#print('Accuracy: {0:5.2f}%'.format(acc*100))"
      ],
      "metadata": {
        "colab": {
          "base_uri": "https://localhost:8080/"
        },
        "id": "jqA4B_-j34ko",
        "outputId": "5385b698-e9d7-47e8-f64f-2f64faab1b54"
      },
      "execution_count": 39,
      "outputs": [
        {
          "output_type": "stream",
          "name": "stdout",
          "text": [
            "Accuracy =  69.84251968503938\n"
          ]
        }
      ]
    },
    {
      "cell_type": "code",
      "source": [
        "kappa = cohen_kappa_score(prediction_xgb, test_labels_encoded)\n",
        "print(kappa)"
      ],
      "metadata": {
        "colab": {
          "base_uri": "https://localhost:8080/"
        },
        "id": "I-Q8J5UksLst",
        "outputId": "e2726589-6d40-476a-e803-83b52228af66"
      },
      "execution_count": 40,
      "outputs": [
        {
          "output_type": "stream",
          "name": "stdout",
          "text": [
            "0.48375517932346146\n"
          ]
        }
      ]
    },
    {
      "cell_type": "markdown",
      "source": [
        "#Adaboost"
      ],
      "metadata": {
        "id": "8rPe7eRV7mey"
      }
    },
    {
      "cell_type": "code",
      "source": [
        "clf_adb = AdaBoostClassifier(n_estimators=200, random_state=0)\n",
        "clf_adb.fit(train_feature_all,train_labels_encoded)"
      ],
      "metadata": {
        "id": "h-wDgpjM7o6B",
        "colab": {
          "base_uri": "https://localhost:8080/"
        },
        "outputId": "9de9bcdc-172b-4f13-cbdd-b47f95b2d98b"
      },
      "execution_count": 41,
      "outputs": [
        {
          "output_type": "execute_result",
          "data": {
            "text/plain": [
              "AdaBoostClassifier(n_estimators=200, random_state=0)"
            ]
          },
          "metadata": {},
          "execution_count": 41
        }
      ]
    },
    {
      "cell_type": "code",
      "source": [
        "# Test set evaluation\n",
        "prediction_adb = clf_adb.predict(test_feature_all)\n",
        "# Visualization\n",
        "cmat = confusion_matrix(prediction_adb,test_labels_encoded)\n",
        "s = sns.heatmap(cmat,annot=True,xticklabels=label, yticklabels=label)\n",
        "s.set(xlabel='Predicted', ylabel='Actual')\n",
        "acc_adb = cmat.trace() / cmat.sum()\n",
        "print('Accuracy: {0:5.2f}%'.format(acc_adb*100))"
      ],
      "metadata": {
        "colab": {
          "base_uri": "https://localhost:8080/",
          "height": 296
        },
        "id": "CSOJIVqp9UT6",
        "outputId": "f402026a-4786-4930-c9b8-9a6e423dcff3"
      },
      "execution_count": 42,
      "outputs": [
        {
          "output_type": "stream",
          "name": "stdout",
          "text": [
            "Accuracy: 70.71%\n"
          ]
        },
        {
          "output_type": "display_data",
          "data": {
            "text/plain": [
              "<Figure size 432x288 with 2 Axes>"
            ],
            "image/png": "[encoded data removed]"
          },
          "metadata": {
            "needs_background": "light"
          }
        }
      ]
    },
    {
      "cell_type": "code",
      "source": [
        "kappa = cohen_kappa_score(prediction_adb, test_labels_encoded)\n",
        "print(kappa)"
      ],
      "metadata": {
        "colab": {
          "base_uri": "https://localhost:8080/"
        },
        "id": "NJyY3B94qB7w",
        "outputId": "763f608e-312a-4151-c685-107ef9c00935"
      },
      "execution_count": 44,
      "outputs": [
        {
          "output_type": "stream",
          "name": "stdout",
          "text": [
            "0.4528854260276638\n"
          ]
        }
      ]
    },
    {
      "cell_type": "markdown",
      "source": [
        "#random try"
      ],
      "metadata": {
        "id": "QMjtC1waL4XF"
      }
    },
    {
      "cell_type": "code",
      "source": [
        "models = {}\n",
        "\n",
        "# Logistic Regression\n",
        "from sklearn.linear_model import LogisticRegression\n",
        "models['Logistic Regression'] = LogisticRegression()\n",
        "\n",
        "# Support Vector Machines\n",
        "from sklearn.svm import LinearSVC\n",
        "models['Support Vector Machines'] = LinearSVC()\n",
        "\n",
        "# Decision Trees\n",
        "from sklearn.tree import DecisionTreeClassifier\n",
        "models['Decision Trees'] = DecisionTreeClassifier()\n",
        "\n",
        "# Random Forest\n",
        "from sklearn.ensemble import RandomForestClassifier\n",
        "models['Random Forest'] = RandomForestClassifier()\n",
        "\n",
        "# Naive Bayes\n",
        "from sklearn.naive_bayes import GaussianNB\n",
        "models['Naive Bayes'] = GaussianNB()\n",
        "\n",
        "# K-Nearest Neighbors\n",
        "from sklearn.neighbors import KNeighborsClassifier\n",
        "models['K-Nearest Neighbor'] = KNeighborsClassifier()"
      ],
      "metadata": {
        "id": "pRMnYBuaL6JY"
      },
      "execution_count": null,
      "outputs": []
    },
    {
      "cell_type": "code",
      "source": [
        "from sklearn.metrics import accuracy_score, precision_score, recall_score\n",
        "\n",
        "accuracy, precision, recall = {}, {}, {}\n",
        "\n",
        "for key in models.keys():\n",
        "    \n",
        "    # Fit the classifier\n",
        "    models[key].fit(train_feature_all, train_labels_encoded)\n",
        "    \n",
        "    # Make predictions\n",
        "    predictions = models[key].predict(test_feature_all)\n",
        "    \n",
        "    # Calculate metrics\n",
        "    accuracy[key] = accuracy_score(predictions, test_labels_encoded)\n",
        "    precision[key] = precision_score(predictions,test_labels_encoded)\n",
        "    recall[key] = recall_score(predictions, test_labels_encoded)"
      ],
      "metadata": {
        "colab": {
          "base_uri": "https://localhost:8080/"
        },
        "id": "DDyM5x7GL-A0",
        "outputId": "ed370901-ff34-4f14-e490-57b96645376c"
      },
      "execution_count": null,
      "outputs": [
        {
          "output_type": "stream",
          "name": "stderr",
          "text": [
            "/usr/local/lib/python3.7/dist-packages/sklearn/linear_model/_logistic.py:818: ConvergenceWarning: lbfgs failed to converge (status=1):\n",
            "STOP: TOTAL NO. of ITERATIONS REACHED LIMIT.\n",
            "\n",
            "Increase the number of iterations (max_iter) or scale the data as shown in:\n",
            "    https://scikit-learn.org/stable/modules/preprocessing.html\n",
            "Please also refer to the documentation for alternative solver options:\n",
            "    https://scikit-learn.org/stable/modules/linear_model.html#logistic-regression\n",
            "  extra_warning_msg=_LOGISTIC_SOLVER_CONVERGENCE_MSG,\n",
            "/usr/local/lib/python3.7/dist-packages/sklearn/svm/_base.py:1198: ConvergenceWarning: Liblinear failed to converge, increase the number of iterations.\n",
            "  sample_weight,\n"
          ]
        }
      ]
    },
    {
      "cell_type": "code",
      "source": [
        "import pandas as pd\n",
        "\n",
        "df_model = pd.DataFrame(index=models.keys(), columns=['Accuracy', 'Precision', 'Recall'])\n",
        "df_model['Accuracy'] = accuracy.values()\n",
        "df_model['Precision'] = precision.values()\n",
        "df_model['Recall'] = recall.values()\n",
        "\n",
        "df_model"
      ],
      "metadata": {
        "colab": {
          "base_uri": "https://localhost:8080/",
          "height": 237
        },
        "id": "5Z0rAoqWMciz",
        "outputId": "ae3823d0-af9c-4220-8e08-9d407ff17e9d"
      },
      "execution_count": null,
      "outputs": [
        {
          "output_type": "execute_result",
          "data": {
            "text/plain": [
              "                         Accuracy  Precision    Recall\n",
              "Logistic Regression      0.670103   0.750000  0.642857\n",
              "Support Vector Machines  0.649485   0.906250  0.595890\n",
              "Decision Trees           0.680412   0.739583  0.657407\n",
              "Random Forest            0.778351   0.812500  0.757282\n",
              "Naive Bayes              0.659794   0.781250  0.625000\n",
              "K-Nearest Neighbor       0.623711   0.739583  0.596639"
            ],
            "text/html": [
              "\n",
              "  <div id=\"df-5372685a-689b-4caf-9f2b-47fd64b26c32\">\n",
              "    <div class=\"colab-df-container\">\n",
              "      <div>\n",
              "<style scoped>\n",
              "    .dataframe tbody tr th:only-of-type {\n",
              "        vertical-align: middle;\n",
              "    }\n",
              "\n",
              "    .dataframe tbody tr th {\n",
              "        vertical-align: top;\n",
              "    }\n",
              "\n",
              "    .dataframe thead th {\n",
              "        text-align: right;\n",
              "    }\n",
              "</style>\n",
              "<table border=\"1\" class=\"dataframe\">\n",
              "  <thead>\n",
              "    <tr style=\"text-align: right;\">\n",
              "      <th></th>\n",
              "      <th>Accuracy</th>\n",
              "      <th>Precision</th>\n",
              "      <th>Recall</th>\n",
              "    </tr>\n",
              "  </thead>\n",
              "  <tbody>\n",
              "    <tr>\n",
              "      <th>Logistic Regression</th>\n",
              "      <td>0.670103</td>\n",
              "      <td>0.750000</td>\n",
              "      <td>0.642857</td>\n",
              "    </tr>\n",
              "    <tr>\n",
              "      <th>Support Vector Machines</th>\n",
              "      <td>0.649485</td>\n",
              "      <td>0.906250</td>\n",
              "      <td>0.595890</td>\n",
              "    </tr>\n",
              "    <tr>\n",
              "      <th>Decision Trees</th>\n",
              "      <td>0.680412</td>\n",
              "      <td>0.739583</td>\n",
              "      <td>0.657407</td>\n",
              "    </tr>\n",
              "    <tr>\n",
              "      <th>Random Forest</th>\n",
              "      <td>0.778351</td>\n",
              "      <td>0.812500</td>\n",
              "      <td>0.757282</td>\n",
              "    </tr>\n",
              "    <tr>\n",
              "      <th>Naive Bayes</th>\n",
              "      <td>0.659794</td>\n",
              "      <td>0.781250</td>\n",
              "      <td>0.625000</td>\n",
              "    </tr>\n",
              "    <tr>\n",
              "      <th>K-Nearest Neighbor</th>\n",
              "      <td>0.623711</td>\n",
              "      <td>0.739583</td>\n",
              "      <td>0.596639</td>\n",
              "    </tr>\n",
              "  </tbody>\n",
              "</table>\n",
              "</div>\n",
              "      <button class=\"colab-df-convert\" onclick=\"convertToInteractive('df-5372685a-689b-4caf-9f2b-47fd64b26c32')\"\n",
              "              title=\"Convert this dataframe to an interactive table.\"\n",
              "              style=\"display:none;\">\n",
              "        \n",
              "  <svg xmlns=\"http://www.w3.org/2000/svg\" height=\"24px\"viewBox=\"0 0 24 24\"\n",
              "       width=\"24px\">\n",
              "    <path d=\"M0 0h24v24H0V0z\" fill=\"none\"/>\n",
              "    <path d=\"M18.56 5.44l.94 2.06.94-2.06 2.06-.94-2.06-.94-.94-2.06-.94 2.06-2.06.94zm-11 1L8.5 8.5l.94-2.06 2.06-.94-2.06-.94L8.5 2.5l-.94 2.06-2.06.94zm10 10l.94 2.06.94-2.06 2.06-.94-2.06-.94-.94-2.06-.94 2.06-2.06.94z\"/><path d=\"M17.41 7.96l-1.37-1.37c-.4-.4-.92-.59-1.43-.59-.52 0-1.04.2-1.43.59L10.3 9.45l-7.72 7.72c-.78.78-.78 2.05 0 2.83L4 21.41c.39.39.9.59 1.41.59.51 0 1.02-.2 1.41-.59l7.78-7.78 2.81-2.81c.8-.78.8-2.07 0-2.86zM5.41 20L4 18.59l7.72-7.72 1.47 1.35L5.41 20z\"/>\n",
              "  </svg>\n",
              "      </button>\n",
              "      \n",
              "  <style>\n",
              "    .colab-df-container {\n",
              "      display:flex;\n",
              "      flex-wrap:wrap;\n",
              "      gap: 12px;\n",
              "    }\n",
              "\n",
              "    .colab-df-convert {\n",
              "      background-color: #E8F0FE;\n",
              "      border: none;\n",
              "      border-radius: 50%;\n",
              "      cursor: pointer;\n",
              "      display: none;\n",
              "      fill: #1967D2;\n",
              "      height: 32px;\n",
              "      padding: 0 0 0 0;\n",
              "      width: 32px;\n",
              "    }\n",
              "\n",
              "    .colab-df-convert:hover {\n",
              "      background-color: #E2EBFA;\n",
              "      box-shadow: 0px 1px 2px rgba(60, 64, 67, 0.3), 0px 1px 3px 1px rgba(60, 64, 67, 0.15);\n",
              "      fill: #174EA6;\n",
              "    }\n",
              "\n",
              "    [theme=dark] .colab-df-convert {\n",
              "      background-color: #3B4455;\n",
              "      fill: #D2E3FC;\n",
              "    }\n",
              "\n",
              "    [theme=dark] .colab-df-convert:hover {\n",
              "      background-color: #434B5C;\n",
              "      box-shadow: 0px 1px 3px 1px rgba(0, 0, 0, 0.15);\n",
              "      filter: drop-shadow(0px 1px 2px rgba(0, 0, 0, 0.3));\n",
              "      fill: #FFFFFF;\n",
              "    }\n",
              "  </style>\n",
              "\n",
              "      <script>\n",
              "        const buttonEl =\n",
              "          document.querySelector('#df-5372685a-689b-4caf-9f2b-47fd64b26c32 button.colab-df-convert');\n",
              "        buttonEl.style.display =\n",
              "          google.colab.kernel.accessAllowed ? 'block' : 'none';\n",
              "\n",
              "        async function convertToInteractive(key) {\n",
              "          const element = document.querySelector('#df-5372685a-689b-4caf-9f2b-47fd64b26c32');\n",
              "          const dataTable =\n",
              "            await google.colab.kernel.invokeFunction('convertToInteractive',\n",
              "                                                     [key], {});\n",
              "          if (!dataTable) return;\n",
              "\n",
              "          const docLinkHtml = 'Like what you see? Visit the ' +\n",
              "            '<a target=\"_blank\" href=https://colab.research.google.com/notebooks/data_table.ipynb>data table notebook</a>'\n",
              "            + ' to learn more about interactive tables.';\n",
              "          element.innerHTML = '';\n",
              "          dataTable['output_type'] = 'display_data';\n",
              "          await google.colab.output.renderOutput(dataTable, element);\n",
              "          const docLink = document.createElement('div');\n",
              "          docLink.innerHTML = docLinkHtml;\n",
              "          element.appendChild(docLink);\n",
              "        }\n",
              "      </script>\n",
              "    </div>\n",
              "  </div>\n",
              "  "
            ]
          },
          "metadata": {},
          "execution_count": 111
        }
      ]
    }
  ]
}