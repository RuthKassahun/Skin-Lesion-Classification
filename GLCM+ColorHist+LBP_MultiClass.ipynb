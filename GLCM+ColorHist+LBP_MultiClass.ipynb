{
  "nbformat": 4,
  "nbformat_minor": 0,
  "metadata": {
    "colab": {
      "provenance": [],
      "collapsed_sections": [],
      "include_colab_link": true
    },
    "kernelspec": {
      "name": "python3",
      "display_name": "Python 3"
    },
    "language_info": {
      "name": "python"
    }
  },
  "cells": [
    {
      "cell_type": "markdown",
      "metadata": {
        "id": "view-in-github",
        "colab_type": "text"
      },
      "source": [
        "<a href=\"https://colab.research.google.com/github/RuthKassahun/Skin-Lesion-Classification/blob/main/GLCM%2BColorHist%2BLBP_MultiClass.ipynb\" target=\"_parent\"><img src=\"https://colab.research.google.com/assets/colab-badge.svg\" alt=\"Open In Colab\"/></a>"
      ]
    },
    {
      "cell_type": "code",
      "execution_count": 5,
      "metadata": {
        "id": "nJ0wWuozj6o8"
      },
      "outputs": [],
      "source": [
        "import numpy as np \n",
        "import matplotlib.pyplot as plt\n",
        "import glob\n",
        "import cv2\n",
        "import os\n",
        "from google.colab import drive\n",
        "import seaborn as sns\n",
        "import pandas as pd\n",
        "from skimage.filters import sobel\n",
        "from skimage.feature import greycomatrix, greycoprops\n",
        "from skimage.measure import shannon_entropy\n",
        "from sklearn.pipeline import Pipeline\n",
        "from sklearn.svm import SVC, LinearSVC\n",
        "from skimage.feature import local_binary_pattern\n",
        "from sklearn.ensemble import RandomForestClassifier\n",
        "from sklearn.neighbors import KNeighborsClassifier\n",
        "from sklearn.ensemble import AdaBoostClassifier\n",
        "from sklearn.preprocessing import LabelEncoder, StandardScaler, MinMaxScaler\n",
        "from sklearn import metrics\n",
        "from pathlib import Path\n",
        "import xgboost as xgb\n",
        "import lightgbm as lgb\n",
        "from PIL import Image, ImageOps\n",
        "from sklearn.model_selection import GridSearchCV, StratifiedKFold\n",
        "from sklearn.metrics import accuracy_score, auc, roc_curve, roc_auc_score, recall_score, confusion_matrix\n"
      ]
    },
    {
      "cell_type": "code",
      "source": [
        "# This will prompt for authorization.\n",
        "drive.mount('/content/drive')\n",
        "# Define the root data directory\n",
        "DATA_DIR = \"/content/drive/MyDrive/CAD_PROJECT\""
      ],
      "metadata": {
        "colab": {
          "base_uri": "https://localhost:8080/"
        },
        "id": "NmzMWbSKkAMB",
        "outputId": "5abe17cd-d348-4d1b-8b12-0b4a6ac83ed8"
      },
      "execution_count": 6,
      "outputs": [
        {
          "output_type": "stream",
          "name": "stdout",
          "text": [
            "Drive already mounted at /content/drive; to attempt to forcibly remount, call drive.mount(\"/content/drive\", force_remount=True).\n"
          ]
        }
      ]
    },
    {
      "cell_type": "markdown",
      "source": [
        "##LBP"
      ],
      "metadata": {
        "id": "7rla_Z9LkVMk"
      }
    },
    {
      "cell_type": "code",
      "source": [
        "def compute_lbp(arr):\n",
        "  # LBP function params\n",
        "  radius = 3\n",
        "  n_points = 8 * radius\n",
        "  n_bins = n_points + 2\n",
        "  lbp = local_binary_pattern(arr,n_points,radius,'uniform')\n",
        "  lbp = lbp.ravel()\n",
        "  #feature_len = int(lbp.max() + 1)\n",
        "  feature = np.zeros(n_bins)\n",
        "  for i in lbp:\n",
        "    feature[int(i)] += 1 # Feature\n",
        "  feature /= np.linalg.norm(feature, ord=1) # Normalizing feature\n",
        "  return feature"
      ],
      "metadata": {
        "id": "Ag7GbS7ykLef"
      },
      "execution_count": 7,
      "outputs": []
    },
    {
      "cell_type": "markdown",
      "source": [
        "lbp train data"
      ],
      "metadata": {
        "id": "k1U_L9QNkkd9"
      }
    },
    {
      "cell_type": "code",
      "source": [
        "SIZE = 224\n",
        "train_images_lbp = []\n",
        "train_labels_lbp = [] \n",
        "#for directory_path in glob.glob(\"cell_images/train/*\"):\n",
        "for directory_path in glob.glob(\"/content/drive/MyDrive/Multiclass/multi_train/*\"):\n",
        "    label_lbp_train = directory_path.split(\"/\")[-1]\n",
        "    label = directory_path.split(\"/\")[-1]\n",
        "    #print(label_lbp_train)\n",
        "    for img_path in glob.glob(os.path.join(directory_path, \"*.jpg\")):\n",
        "        #print(img_path)\n",
        "        img1 = cv2.imread(img_path,0) #Reading color images\n",
        "        img1 = cv2.resize(img1, (SIZE, SIZE)) #Resize images\n",
        "        arr = np.array(img1) # convert the image to numpy array\n",
        "        feature_train_lbp = compute_lbp(arr)\n",
        "        train_images_lbp.append(feature_train_lbp)\n",
        "        train_labels_lbp.append(label_lbp_train)\n",
        "\n",
        "train_images_lbp =np.array(train_images_lbp)\n",
        "trait_labels_lbp =np.array(train_labels_lbp)\n"
      ],
      "metadata": {
        "colab": {
          "base_uri": "https://localhost:8080/"
        },
        "id": "1btaf1ZAkivw",
        "outputId": "9985baab-6214-4fda-b897-2900fdfb1ba5"
      },
      "execution_count": 8,
      "outputs": [
        {
          "output_type": "stream",
          "name": "stdout",
          "text": [
            "scc\n",
            "mel\n",
            "bcc\n"
          ]
        }
      ]
    },
    {
      "cell_type": "markdown",
      "source": [
        "lbp val data"
      ],
      "metadata": {
        "id": "SRag_F1elXtD"
      }
    },
    {
      "cell_type": "code",
      "source": [
        "test_images_lbp = []\n",
        "test_labels_lbp = [] \n",
        "#for directory_path in glob.glob(\"cell_images/train/*\"):\n",
        "for directory_path in glob.glob(\"/content/drive/MyDrive/Multiclass/multi_val/*\"):\n",
        "    label_lbp_test = directory_path.split(\"/\")[-1]\n",
        "    label = directory_path.split(\"/\")[-1]\n",
        "    #print(label_lbp_test)\n",
        "    for img_path in glob.glob(os.path.join(directory_path, \"*.jpg\")):\n",
        "        #print(img_path)\n",
        "        img2 = cv2.imread(img_path,0) #Reading color images\n",
        "        img2 = cv2.resize(img2, (SIZE, SIZE)) #Resize images\n",
        "        arr = np.array(img2) # convert the image to numpy array\n",
        "        feature_test = compute_lbp(arr)\n",
        "        test_images_lbp.append(feature_test)\n",
        "        test_labels_lbp.append(label_lbp_test)\n",
        "\n",
        "test_images_lbp =np.array(test_images_lbp)\n",
        "test_labels_lbp =np.array(test_labels_lbp)\n"
      ],
      "metadata": {
        "colab": {
          "base_uri": "https://localhost:8080/"
        },
        "id": "LnoOluxllb3P",
        "outputId": "2bd3b54c-188f-4abb-ad3e-c1c92c9eaaf6"
      },
      "execution_count": 9,
      "outputs": [
        {
          "output_type": "stream",
          "name": "stdout",
          "text": [
            "scc\n",
            "mel\n",
            "bcc\n"
          ]
        }
      ]
    },
    {
      "cell_type": "markdown",
      "source": [
        "## Class Balance for LBP"
      ],
      "metadata": {
        "id": "a75AyhFIFbqt"
      }
    },
    {
      "cell_type": "code",
      "source": [
        "!pip install imblearn"
      ],
      "metadata": {
        "colab": {
          "base_uri": "https://localhost:8080/"
        },
        "id": "FrRENxV-Fa3C",
        "outputId": "d47704c5-c60e-4eb9-925a-515cd77e3e23"
      },
      "execution_count": 46,
      "outputs": [
        {
          "output_type": "stream",
          "name": "stdout",
          "text": [
            "Looking in indexes: https://pypi.org/simple, https://us-python.pkg.dev/colab-wheels/public/simple/\n",
            "Requirement already satisfied: imblearn in /usr/local/lib/python3.7/dist-packages (0.0)\n",
            "Requirement already satisfied: imbalanced-learn in /usr/local/lib/python3.7/dist-packages (from imblearn) (0.8.1)\n",
            "Requirement already satisfied: numpy>=1.13.3 in /usr/local/lib/python3.7/dist-packages (from imbalanced-learn->imblearn) (1.21.6)\n",
            "Requirement already satisfied: scipy>=0.19.1 in /usr/local/lib/python3.7/dist-packages (from imbalanced-learn->imblearn) (1.7.3)\n",
            "Requirement already satisfied: joblib>=0.11 in /usr/local/lib/python3.7/dist-packages (from imbalanced-learn->imblearn) (1.2.0)\n",
            "Requirement already satisfied: scikit-learn>=0.24 in /usr/local/lib/python3.7/dist-packages (from imbalanced-learn->imblearn) (1.0.2)\n",
            "Requirement already satisfied: threadpoolctl>=2.0.0 in /usr/local/lib/python3.7/dist-packages (from scikit-learn>=0.24->imbalanced-learn->imblearn) (3.1.0)\n"
          ]
        }
      ]
    },
    {
      "cell_type": "code",
      "source": [
        "from imblearn.over_sampling import RandomOverSampler\n",
        "from imblearn.under_sampling import RandomUnderSampler"
      ],
      "metadata": {
        "id": "-65kzlOfFjRq"
      },
      "execution_count": 47,
      "outputs": []
    },
    {
      "cell_type": "code",
      "source": [
        "over=RandomOverSampler(random_state=0,sampling_strategy='minority')\n",
        "X_res_lbp,Y_res_lbp=over.fit_resample(train_images_lbp,trait_labels_lbp)\n",
        "over=RandomOverSampler(random_state=0,sampling_strategy='minority')\n",
        "X_result_lbp,Y_result_lbp=over.fit_resample(X_res_lbp,Y_res_lbp)"
      ],
      "metadata": {
        "id": "bbNYrQxnFm-z"
      },
      "execution_count": 48,
      "outputs": []
    },
    {
      "cell_type": "code",
      "source": [],
      "metadata": {
        "id": "Fb-Kwa-NF3lu"
      },
      "execution_count": 49,
      "outputs": []
    },
    {
      "cell_type": "markdown",
      "source": [
        "#COLOR HIST"
      ],
      "metadata": {
        "id": "22fIDXovp835"
      }
    },
    {
      "cell_type": "markdown",
      "source": [
        "color_hist train"
      ],
      "metadata": {
        "id": "BD779e_Xts8S"
      }
    },
    {
      "cell_type": "code",
      "source": [
        "def hist_features(img):\n",
        "  hist_blue = cv2.calcHist([img],[0],None,[256],[0,256]) #blue\n",
        "  hist_green = cv2.calcHist([img],[1],None,[256],[0,256])\n",
        "  hist_red = cv2.calcHist([img],[2],None,[256],[0,256])\n",
        "  hist=np.hstack([hist_green,hist_red,hist_blue])\n",
        "  return hist.flatten()"
      ],
      "metadata": {
        "id": "1T-CHKwFnsYg"
      },
      "execution_count": 10,
      "outputs": []
    },
    {
      "cell_type": "code",
      "source": [
        "#Resize images to\n",
        "SIZE = 224\n",
        "\n",
        "#Capture images and labels into arrays.\n",
        "#Start by creating empty lists.\n",
        "train_hist = []\n",
        "train_label_hist = [] \n",
        "for directory_path in glob.glob(\"/content/drive/MyDrive/Multiclass/multi_train/*\"):\n",
        "    labelhist = directory_path.split(\"\\\\\")[-1]\n",
        "    label = directory_path.split(\"/\")[-1]\n",
        "    #print(labelhist)\n",
        "    for img_path in glob.glob(os.path.join(directory_path, \"*.jpg\")):\n",
        "        #print(img_path)\n",
        "        img3 = cv2.imread(img_path,cv2.COLOR_BGR2RGB) #Reading color images\n",
        "        img3 = cv2.resize(img3, (SIZE, SIZE)) #Resize images\n",
        "        img3=hist_features(img3) #call the function\n",
        "        train_hist.append(img3)\n",
        "        train_label_hist.append(labelhist)\n",
        "\n",
        "train_hist = np.array(train_hist)\n",
        "train_label_hist= np.array(train_label_hist)"
      ],
      "metadata": {
        "id": "miUjRQlKnv1I"
      },
      "execution_count": 58,
      "outputs": []
    },
    {
      "cell_type": "markdown",
      "source": [
        "color hist test"
      ],
      "metadata": {
        "id": "81SoYEgZtykq"
      }
    },
    {
      "cell_type": "code",
      "source": [
        "#Resize images to\n",
        "SIZE = 224\n",
        "\n",
        "#Capture images and labels into arrays.\n",
        "#Start by creating empty lists.\n",
        "test_hist = []\n",
        "test_label_hist = [] \n",
        "for directory_path in glob.glob(\"/content/drive/MyDrive/Multiclass/multi_val/*\"):\n",
        "    labelhist_test = directory_path.split(\"\\\\\")[-1]\n",
        "    label = directory_path.split(\"/\")[-1]\n",
        "    #print(labelhist_test)\n",
        "    for img_path in glob.glob(os.path.join(directory_path, \"*.jpg\")):\n",
        "        #print(img_path)\n",
        "        img4 = cv2.imread(img_path,cv2.COLOR_BGR2RGB) #Reading color images\n",
        "        img4 = cv2.resize(img4, (SIZE, SIZE)) #Resize images\n",
        "        img4=hist_features(img4)\n",
        "        test_hist.append(img4)\n",
        "        test_label_hist.append(labelhist_test)\n",
        "\n",
        "test_hist = np.array(test_hist)\n",
        "test_label_hist= np.array(test_label_hist)"
      ],
      "metadata": {
        "id": "FLXpef5Otmop"
      },
      "execution_count": null,
      "outputs": []
    },
    {
      "cell_type": "markdown",
      "source": [
        "concat lbp and color \n"
      ],
      "metadata": {
        "id": "Ykx0PkAGxNKk"
      }
    },
    {
      "cell_type": "code",
      "source": [
        "train_images_lbp.shape"
      ],
      "metadata": {
        "colab": {
          "base_uri": "https://localhost:8080/"
        },
        "id": "UosrRK7kkV78",
        "outputId": "703f19f6-f443-4036-cc8e-ac70430693d0"
      },
      "execution_count": 13,
      "outputs": [
        {
          "output_type": "execute_result",
          "data": {
            "text/plain": [
              "(5082, 26)"
            ]
          },
          "metadata": {},
          "execution_count": 13
        }
      ]
    },
    {
      "cell_type": "code",
      "source": [
        "train_feature_lhist=np.concatenate((train_images_lbp,train_hist),axis=1)\n",
        "test_feature_lhist=np.concatenate((test_images_lbp,test_hist),axis=1)\n"
      ],
      "metadata": {
        "id": "YBZo8TnRxM4D"
      },
      "execution_count": 14,
      "outputs": []
    },
    {
      "cell_type": "code",
      "source": [
        "from sklearn import preprocessing\n",
        "le = preprocessing.LabelEncoder()\n",
        "le.fit(test_label_hist)\n",
        "test_labels_encoded = le.transform(test_label_hist)\n",
        "le.fit(train_label_hist)\n",
        "train_labels_encoded = le.transform(train_label_hist)"
      ],
      "metadata": {
        "id": "dhm2usNbx19r"
      },
      "execution_count": 15,
      "outputs": []
    },
    {
      "cell_type": "markdown",
      "source": [
        "#GLCM"
      ],
      "metadata": {
        "id": "Z326gsU2--bB"
      }
    },
    {
      "cell_type": "markdown",
      "source": [
        "glcm train data"
      ],
      "metadata": {
        "id": "eZnFJ9j5_0df"
      }
    },
    {
      "cell_type": "code",
      "source": [
        "def feature_extractor(dataset):\n",
        "  image_dataset  = pd.DataFrame()\n",
        "  distance = [11, 21]\n",
        "  angle = [0, np.pi/4, np.pi/2, 3*np.pi/4]\n",
        "  for image in range(dataset.shape[0]):\n",
        "    img = dataset[image]\n",
        "    df = pd.DataFrame()\n",
        "    count = 1\n",
        "    for dist in distance:\n",
        "      for ang in angle:\n",
        "        GLCM = greycomatrix(img, [dist], [ang])      \n",
        "        GLCM_Energy = greycoprops(GLCM, 'energy')[0]\n",
        "        df[f'Energy{count}'] = GLCM_Energy\n",
        "        GLCM_corr = greycoprops(GLCM, 'correlation')[0]\n",
        "        df[f'Corr{count}'] = GLCM_corr             \n",
        "        GLCM_hom = greycoprops(GLCM, 'homogeneity')[0]\n",
        "        df[f'Homogen{count}'] = GLCM_hom       \n",
        "        GLCM_contr = greycoprops(GLCM, 'contrast')[0]\n",
        "        df[f'Contrast{count}'] = GLCM_contr\n",
        "        count = count + 1\n",
        "    image_dataset = image_dataset.append(df)    \n",
        "  return image_dataset"
      ],
      "metadata": {
        "id": "Fhg7c7WI_EtD"
      },
      "execution_count": 16,
      "outputs": []
    },
    {
      "cell_type": "code",
      "source": [
        "#Resize images to\n",
        "SIZE = 224\n",
        "\n",
        "#Capture images and labels into arrays.\n",
        "#Start by creating empty lists.\n",
        "train_image_glcm = []\n",
        "train_label_glcm = [] \n",
        "for directory_path in glob.glob(\"/content/drive/MyDrive/Multiclass/multi_train/*\"):\n",
        "    label_glcm = directory_path.split(\"\\\\\")[-1]\n",
        "    label = directory_path.split(\"/\")[-1]\n",
        "    #print(label_glcm)\n",
        "    for img_path in glob.glob(os.path.join(directory_path, \"*.jpg\")):\n",
        "        #print(img_path)\n",
        "        img5= cv2.imread(img_path,0)\n",
        "        #img5 = cv2.imread(img_path,cv2.COLOR_BGR2RGB) #Reading color images\n",
        "        img5 = cv2.resize(img5, (SIZE, SIZE)) #Resize images\n",
        "        train_image_glcm.append(img5)\n",
        "        train_label_glcm.append(label_glcm)\n",
        "\n",
        "\n",
        "train_label_glcm= np.array(train_label_glcm) \n",
        "train_image_glcm = np.array(train_image_glcm)\n"
      ],
      "metadata": {
        "id": "9_bt0TXa_zuL"
      },
      "execution_count": 57,
      "outputs": []
    },
    {
      "cell_type": "code",
      "source": [
        "train_image_glcm.shape"
      ],
      "metadata": {
        "colab": {
          "base_uri": "https://localhost:8080/"
        },
        "id": "1yWY8TFoFieT",
        "outputId": "f99b264f-7f74-49f6-b77f-9989f639ccc5"
      },
      "execution_count": 18,
      "outputs": [
        {
          "output_type": "execute_result",
          "data": {
            "text/plain": [
              "(5082, 224, 224)"
            ]
          },
          "metadata": {},
          "execution_count": 18
        }
      ]
    },
    {
      "cell_type": "code",
      "source": [
        "#x_train=train_image_glcm"
      ],
      "metadata": {
        "id": "p8I4jpttBjTi"
      },
      "execution_count": null,
      "outputs": []
    },
    {
      "cell_type": "code",
      "source": [
        "train_feature_glcm = feature_extractor(train_image_glcm)"
      ],
      "metadata": {
        "id": "Y6-wA7Hz_VWK"
      },
      "execution_count": 19,
      "outputs": []
    },
    {
      "cell_type": "code",
      "source": [
        "train_feature_glcm.shape"
      ],
      "metadata": {
        "colab": {
          "base_uri": "https://localhost:8080/"
        },
        "id": "a74w7V65Jadq",
        "outputId": "28d41ab2-0596-4332-da35-8c83a1f3195f"
      },
      "execution_count": 20,
      "outputs": [
        {
          "output_type": "execute_result",
          "data": {
            "text/plain": [
              "(5082, 32)"
            ]
          },
          "metadata": {},
          "execution_count": 20
        }
      ]
    },
    {
      "cell_type": "markdown",
      "source": [
        "test data for glcm"
      ],
      "metadata": {
        "id": "RecmUGqrJkR1"
      }
    },
    {
      "cell_type": "code",
      "source": [
        "#Resize images to\n",
        "SIZE = 224\n",
        "\n",
        "#Capture images and labels into arrays.\n",
        "#Start by creating empty lists.\n",
        "test_image_glcm = []\n",
        "test_label_glcm = [] \n",
        "for directory_path in glob.glob(\"/content/drive/MyDrive/Multiclass/multi_val/*\"):\n",
        "    label_glcm_test = directory_path.split(\"\\\\\")[-1]\n",
        "    label = directory_path.split(\"/\")[-1]\n",
        "    #print(label_glcm)\n",
        "    for img_path in glob.glob(os.path.join(directory_path, \"*.jpg\")):\n",
        "        #print(img_path)\n",
        "        img6= cv2.imread(img_path,0)\n",
        "        #img5 = cv2.imread(img_path,cv2.COLOR_BGR2RGB) #Reading color images\n",
        "        img6 = cv2.resize(img6, (SIZE, SIZE)) #Resize images\n",
        "        test_image_glcm.append(img6)\n",
        "        test_label_glcm.append(label_glcm_test)\n",
        "\n",
        "\n",
        "test_label_glcm= np.array(test_label_glcm) \n",
        "test_image_glcm = np.array(test_image_glcm)"
      ],
      "metadata": {
        "id": "ra0_K19TJjT-"
      },
      "execution_count": null,
      "outputs": []
    },
    {
      "cell_type": "code",
      "source": [
        "test_feature_glcm = feature_extractor(test_image_glcm)"
      ],
      "metadata": {
        "id": "ojbW18qgJRKx"
      },
      "execution_count": 22,
      "outputs": []
    },
    {
      "cell_type": "markdown",
      "source": [
        "Concat glcm, rgb hist and lbp"
      ],
      "metadata": {
        "id": "u4wpRTS4KZth"
      }
    },
    {
      "cell_type": "code",
      "source": [
        "train_feature_ghl=np.concatenate((train_images_lbp,train_hist,train_feature_glcm),axis=1)\n",
        "test_feature_ghl=np.concatenate((test_images_lbp,test_hist,test_feature_glcm),axis=1)"
      ],
      "metadata": {
        "id": "mF0ac3EgKdlu"
      },
      "execution_count": 23,
      "outputs": []
    },
    {
      "cell_type": "code",
      "source": [],
      "metadata": {
        "id": "2ymep2i3G1MM"
      },
      "execution_count": null,
      "outputs": []
    },
    {
      "cell_type": "markdown",
      "source": [
        "#HSV Hist"
      ],
      "metadata": {
        "id": "pcM87Zf8Uxo9"
      }
    },
    {
      "cell_type": "code",
      "source": [
        "def hsv_hist_features(img):\n",
        "    h, s, v = img[:,:,0], img[:,:,1], img[:,:,2]\n",
        "    hist_h = cv2.calcHist([h],[0],None,[256],[0,256])\n",
        "    hist_s = cv2.calcHist([s],[0],None,[256],[0,256])\n",
        "    hist_v = cv2.calcHist([v],[0],None,[256],[0,256])\n",
        "    hist=np.hstack([hist_h,hist_s,hist_v])\n",
        "    return hist.flatten()"
      ],
      "metadata": {
        "id": "uPlyWnzlSFdG"
      },
      "execution_count": 24,
      "outputs": []
    },
    {
      "cell_type": "code",
      "source": [
        "a=hsv_hist_features(train_image_glcm)"
      ],
      "metadata": {
        "id": "htHKltqQV9Zc"
      },
      "execution_count": 25,
      "outputs": []
    },
    {
      "cell_type": "code",
      "source": [
        "#Resize images to\n",
        "SIZE = 224\n",
        "\n",
        "#Capture images and labels into arrays.\n",
        "#Start by creating empty lists.\n",
        "train_hsv = []\n",
        "train_label_hsv = [] \n",
        "for directory_path in glob.glob(\"/content/drive/MyDrive/Multiclass/multi_train/*\"):\n",
        "    labelhsv = directory_path.split(\"\\\\\")[-1]\n",
        "    label = directory_path.split(\"/\")[-1]\n",
        "    #print(labelhsv)\n",
        "    for img_path in glob.glob(os.path.join(directory_path, \"*.jpg\")):\n",
        "        #print(img_path)\n",
        "        img7 = cv2.imread(img_path,cv2.COLOR_BGR2HSV) #Reading color images\n",
        "        img7 = cv2.resize(img7, (SIZE, SIZE)) #Resize images\n",
        "        img7=hsv_hist_features(img7) #call the function\n",
        "        train_hsv.append(img7)\n",
        "        train_label_hsv.append(labelhsv)\n",
        "\n",
        "train_hsv = np.array(train_hsv)\n",
        "#train_label_hsv= np.array(train_label_hsv)"
      ],
      "metadata": {
        "id": "rWN0DNEGWa--"
      },
      "execution_count": 53,
      "outputs": []
    },
    {
      "cell_type": "code",
      "source": [
        "#Resize images to\n",
        "SIZE = 224\n",
        "\n",
        "#Capture images and labels into arrays.\n",
        "#Start by creating empty lists.\n",
        "test_hsv = []\n",
        "test_label_hsv = [] \n",
        "\n",
        "for directory_path in glob.glob(\"/content/drive/MyDrive/Multiclass/multi_val/*\"):\n",
        "    label = directory_path.split(\"\\\\\")[-1]\n",
        "    label = directory_path.split(\"/\")[-1]\n",
        "    #print(label)\n",
        "    for img_path in glob.glob(os.path.join(directory_path, \"*.jpg\")):\n",
        "        #print(img_path)\n",
        "        img8 = cv2.imread(img_path,cv2.COLOR_BGR2HSV) #Reading color images\n",
        "        img8 = cv2.resize(img8, (SIZE, SIZE)) #Resize images\n",
        "        img8=hsv_hist_features(img8) #call the function\n",
        "        test_hsv.append(img8)\n",
        "        test_label_hsv.append(label)\n",
        "\n",
        "test_hsv = np.array(test_hsv)\n"
      ],
      "metadata": {
        "id": "44XLlG3jX44P"
      },
      "execution_count": 54,
      "outputs": []
    },
    {
      "cell_type": "markdown",
      "source": [
        "#combine glcm. lbp, RGB, HSV"
      ],
      "metadata": {
        "id": "ofEUVXd3dOeN"
      }
    },
    {
      "cell_type": "code",
      "source": [
        "train_feature_all=np.concatenate((train_hist,train_feature_glcm,train_images_lbp),axis=1)\n",
        "test_feature_all=np.concatenate((test_hist,test_feature_glcm,test_images_lbp),axis=1)"
      ],
      "metadata": {
        "id": "lusnafOOdVxx"
      },
      "execution_count": 28,
      "outputs": []
    },
    {
      "cell_type": "code",
      "source": [
        "train_feature_lhist.shape\n"
      ],
      "metadata": {
        "colab": {
          "base_uri": "https://localhost:8080/"
        },
        "id": "ooh2V3JfSGQW",
        "outputId": "c005b800-09d5-4394-9cec-d00ca86fac20"
      },
      "execution_count": 77,
      "outputs": [
        {
          "output_type": "execute_result",
          "data": {
            "text/plain": [
              "(5082, 794)"
            ]
          },
          "metadata": {},
          "execution_count": 77
        }
      ]
    },
    {
      "cell_type": "code",
      "source": [
        "train_feature_all.shape"
      ],
      "metadata": {
        "colab": {
          "base_uri": "https://localhost:8080/"
        },
        "id": "tSt1pWa4ReoF",
        "outputId": "bbee2535-2617-45b2-d8a5-a1e8667c4b83"
      },
      "execution_count": 76,
      "outputs": [
        {
          "output_type": "execute_result",
          "data": {
            "text/plain": [
              "(5082, 826)"
            ]
          },
          "metadata": {},
          "execution_count": 76
        }
      ]
    },
    {
      "cell_type": "code",
      "source": [
        "over=RandomOverSampler(random_state=0,sampling_strategy='minority')\n",
        "X_result,Y_result=over.fit_resample(train_feature_all,train_labels_encoded)"
      ],
      "metadata": {
        "id": "8AcmL-XdHSM5"
      },
      "execution_count": 102,
      "outputs": []
    },
    {
      "cell_type": "code",
      "source": [
        "over=RandomOverSampler(random_state=0,sampling_strategy='minority')\n",
        "X_res,Y_res=over.fit_resample(X_result,Y_result)\n"
      ],
      "metadata": {
        "id": "xB6koaYNE-Q9"
      },
      "execution_count": 103,
      "outputs": []
    },
    {
      "cell_type": "code",
      "source": [],
      "metadata": {
        "id": "JWGGXGe_RJdH"
      },
      "execution_count": null,
      "outputs": []
    },
    {
      "cell_type": "code",
      "source": [
        "X_res.shape"
      ],
      "metadata": {
        "colab": {
          "base_uri": "https://localhost:8080/"
        },
        "id": "aczQiA3oRBD0",
        "outputId": "2b9084b1-12dd-462d-f1b9-31cbfb7a8f9c"
      },
      "execution_count": 75,
      "outputs": [
        {
          "output_type": "execute_result",
          "data": {
            "text/plain": [
              "(8139, 826)"
            ]
          },
          "metadata": {},
          "execution_count": 75
        }
      ]
    },
    {
      "cell_type": "code",
      "source": [
        "print(sum(Y_res==0))"
      ],
      "metadata": {
        "id": "MKon45uoLuOe"
      },
      "execution_count": null,
      "outputs": []
    },
    {
      "cell_type": "code",
      "source": [
        "from sklearn import preprocessing\n",
        "le = preprocessing.LabelEncoder()\n",
        "le.fit(test_labels_lbp)\n",
        "test_labels_encoded = le.transform(test_labels_lbp)\n",
        "le.fit(trait_labels_lbp)\n",
        "train_labels_encoded = le.transform(trait_labels_lbp)"
      ],
      "metadata": {
        "id": "1MYgIJkBTad4"
      },
      "execution_count": 82,
      "outputs": []
    },
    {
      "cell_type": "code",
      "source": [
        "# x_train, y_train, x_test, y_test = train_images, train_labels_encoded, test_images, test_labels_encoded"
      ],
      "metadata": {
        "id": "2GDCr-wVz01I"
      },
      "execution_count": 29,
      "outputs": []
    },
    {
      "cell_type": "markdown",
      "source": [
        "#SVM"
      ],
      "metadata": {
        "id": "SKMdPhLPz99K"
      }
    },
    {
      "cell_type": "code",
      "source": [
        "Y_res.shape"
      ],
      "metadata": {
        "colab": {
          "base_uri": "https://localhost:8080/"
        },
        "id": "TUkR4OIkTIbI",
        "outputId": "a9981df5-8e6c-47f3-9462-57c680061f8d"
      },
      "execution_count": 104,
      "outputs": [
        {
          "output_type": "execute_result",
          "data": {
            "text/plain": [
              "(8139,)"
            ]
          },
          "metadata": {},
          "execution_count": 104
        }
      ]
    },
    {
      "cell_type": "code",
      "source": [
        "pipe1 = Pipeline([\n",
        "                 (\"scale\", StandardScaler()),\n",
        "                 (\"classifier\", SVC(class_weight='balanced', probability=True, kernel= 'rbf', gamma=0.01, C=100)) #radial basis function kernel\n",
        "                 ])"
      ],
      "metadata": {
        "id": "oYr5tmZHz8YM"
      },
      "execution_count": 106,
      "outputs": []
    },
    {
      "cell_type": "code",
      "source": [
        "pipe1.fit(X_res,Y_res)"
      ],
      "metadata": {
        "colab": {
          "base_uri": "https://localhost:8080/"
        },
        "id": "V1g8nxRDz_vO",
        "outputId": "162dbfd5-41d7-4383-bd36-07661ce14c05"
      },
      "execution_count": 107,
      "outputs": [
        {
          "output_type": "execute_result",
          "data": {
            "text/plain": [
              "Pipeline(steps=[('scale', StandardScaler()),\n",
              "                ('classifier',\n",
              "                 SVC(C=100, class_weight='balanced', gamma=0.01,\n",
              "                     probability=True))])"
            ]
          },
          "metadata": {},
          "execution_count": 107
        }
      ]
    },
    {
      "cell_type": "code",
      "source": [
        "# Test set evaluation\n",
        "prediction_svm = pipe1.predict(test_feature_all)\n",
        "# Visualization\n",
        "cmat = metrics.confusion_matrix(prediction_svm,test_labels_encoded)\n",
        "s = sns.heatmap(cmat,annot=True,xticklabels=label, yticklabels=label)\n",
        "s.set(xlabel='Predicted', ylabel='Actual')\n",
        "acc_svm = cmat.trace() / cmat.sum()\n",
        "print('Accuracy: {0:5.2f}%'.format(acc_svm*100))"
      ],
      "metadata": {
        "colab": {
          "base_uri": "https://localhost:8080/",
          "height": 300
        },
        "id": "aCaTh4FC0Sv2",
        "outputId": "920d2ffc-6f64-42bd-80d3-42f840917696"
      },
      "execution_count": 109,
      "outputs": [
        {
          "output_type": "stream",
          "name": "stdout",
          "text": [
            "Accuracy: 76.61%\n"
          ]
        },
        {
          "output_type": "display_data",
          "data": {
            "text/plain": [
              "<Figure size 432x288 with 2 Axes>"
            ],
            "image/png": "[encoded data removed]"
          },
          "metadata": {
            "needs_background": "light"
          }
        }
      ]
    },
    {
      "cell_type": "code",
      "source": [
        "from sklearn.metrics import cohen_kappa_score\n",
        "kappa = cohen_kappa_score(prediction_svm, test_labels_encoded)\n",
        "print(kappa)"
      ],
      "metadata": {
        "colab": {
          "base_uri": "https://localhost:8080/"
        },
        "id": "QTByzeTAn7hf",
        "outputId": "951ae513-a25a-4be6-e0f7-d125a5f14504"
      },
      "execution_count": 110,
      "outputs": [
        {
          "output_type": "stream",
          "name": "stdout",
          "text": [
            "0.5590669553303813\n"
          ]
        }
      ]
    },
    {
      "cell_type": "markdown",
      "source": [
        "#Random forest"
      ],
      "metadata": {
        "id": "F4nNjBZL2oCk"
      }
    },
    {
      "cell_type": "code",
      "source": [
        "pipe2 = Pipeline([\n",
        "                 (\"scale\", StandardScaler()),\n",
        "                 (\"classifier\", RandomForestClassifier(n_estimators = 100, max_depth=9,random_state = 42))\n",
        "                 ])"
      ],
      "metadata": {
        "id": "0xi44BpN1wkO"
      },
      "execution_count": 99,
      "outputs": []
    },
    {
      "cell_type": "code",
      "source": [
        "pipe2.fit(X_res,Y_res)"
      ],
      "metadata": {
        "colab": {
          "base_uri": "https://localhost:8080/"
        },
        "id": "FliFWKXd1-rC",
        "outputId": "582104ec-a6ff-43a6-c5a0-1c4658005f53"
      },
      "execution_count": 111,
      "outputs": [
        {
          "output_type": "execute_result",
          "data": {
            "text/plain": [
              "Pipeline(steps=[('scale', StandardScaler()),\n",
              "                ('classifier',\n",
              "                 RandomForestClassifier(max_depth=9, random_state=42))])"
            ]
          },
          "metadata": {},
          "execution_count": 111
        }
      ]
    },
    {
      "cell_type": "code",
      "source": [
        "# Test set evaluation\n",
        "prediction_rf = pipe2.predict(test_feature_all)\n",
        "# Visualization\n",
        "cmat_r = metrics.confusion_matrix(prediction_rf,test_labels_encoded)\n",
        "s = sns.heatmap(cmat,annot=True,xticklabels=label, yticklabels=label)\n",
        "s.set(xlabel='Predicted', ylabel='Actual')\n",
        "acc_r = cmat_r.trace() / cmat_r.sum()\n",
        "print('Accuracy: {0:5.2f}%'.format(acc_r*100))"
      ],
      "metadata": {
        "colab": {
          "base_uri": "https://localhost:8080/",
          "height": 300
        },
        "id": "BdM2LUwf2YoV",
        "outputId": "cb9dd64b-e67b-425e-ab4f-29f92bb0541b"
      },
      "execution_count": 112,
      "outputs": [
        {
          "output_type": "stream",
          "name": "stdout",
          "text": [
            "Accuracy: 74.72%\n"
          ]
        },
        {
          "output_type": "display_data",
          "data": {
            "text/plain": [
              "<Figure size 432x288 with 2 Axes>"
            ],
            "image/png": "[encoded data removed]"
          },
          "metadata": {
            "needs_background": "light"
          }
        }
      ]
    },
    {
      "cell_type": "code",
      "source": [
        "kappa = cohen_kappa_score(prediction_rf, test_labels_encoded)\n",
        "print(kappa)"
      ],
      "metadata": {
        "colab": {
          "base_uri": "https://localhost:8080/"
        },
        "id": "bT50r_lCr6Kn",
        "outputId": "aa2f83d2-a8be-4407-ddbb-88301f384886"
      },
      "execution_count": 113,
      "outputs": [
        {
          "output_type": "stream",
          "name": "stdout",
          "text": [
            "0.558871267929951\n"
          ]
        }
      ]
    },
    {
      "cell_type": "markdown",
      "source": [
        "#KNN"
      ],
      "metadata": {
        "id": "xMY47hXs2-eP"
      }
    },
    {
      "cell_type": "code",
      "source": [
        "pipe3 = Pipeline([\n",
        "                 (\"scale\",StandardScaler()),\n",
        "                 (\"classifier\", KNeighborsClassifier(n_neighbors=10))\n",
        "                 ])"
      ],
      "metadata": {
        "id": "004Wf-pD3AzQ"
      },
      "execution_count": 114,
      "outputs": []
    },
    {
      "cell_type": "code",
      "source": [
        "pipe3.fit(X_res,Y_res)"
      ],
      "metadata": {
        "colab": {
          "base_uri": "https://localhost:8080/"
        },
        "id": "4lLiEctC3CgE",
        "outputId": "03656949-dae9-4283-96b2-d7f276a1694f"
      },
      "execution_count": 115,
      "outputs": [
        {
          "output_type": "execute_result",
          "data": {
            "text/plain": [
              "Pipeline(steps=[('scale', StandardScaler()),\n",
              "                ('classifier', KNeighborsClassifier(n_neighbors=10))])"
            ]
          },
          "metadata": {},
          "execution_count": 115
        }
      ]
    },
    {
      "cell_type": "code",
      "source": [
        "# Test set evaluation\n",
        "prediction_knn = pipe3.predict(test_feature_all)\n",
        "# Visualization\n",
        "cmat_knn = metrics.confusion_matrix(prediction_knn,test_labels_encoded)\n",
        "s = sns.heatmap(cmat,annot=True,xticklabels=label, yticklabels=label)\n",
        "s.set(xlabel='Predicted', ylabel='Actual')\n",
        "acc_knn = cmat_knn.trace() / cmat_knn.sum()\n",
        "print('Accuracy: {0:5.2f}%'.format(acc_knn*100))"
      ],
      "metadata": {
        "colab": {
          "base_uri": "https://localhost:8080/",
          "height": 300
        },
        "id": "XR2CnXsJ3NBJ",
        "outputId": "1805427c-bb3e-44ba-bebd-c6c1682f9c84"
      },
      "execution_count": 116,
      "outputs": [
        {
          "output_type": "stream",
          "name": "stdout",
          "text": [
            "Accuracy: 62.83%\n"
          ]
        },
        {
          "output_type": "display_data",
          "data": {
            "text/plain": [
              "<Figure size 432x288 with 2 Axes>"
            ],
            "image/png": "[encoded data removed]"
          },
          "metadata": {
            "needs_background": "light"
          }
        }
      ]
    },
    {
      "cell_type": "code",
      "source": [
        "kappa = cohen_kappa_score(prediction_knn, test_labels_encoded)\n",
        "print(kappa)"
      ],
      "metadata": {
        "colab": {
          "base_uri": "https://localhost:8080/"
        },
        "id": "nWN8vbMssFBC",
        "outputId": "2fa3e5d8-f6e0-4335-dc71-28a08f5deec0"
      },
      "execution_count": 117,
      "outputs": [
        {
          "output_type": "stream",
          "name": "stdout",
          "text": [
            "0.41861096670572073\n"
          ]
        }
      ]
    },
    {
      "cell_type": "markdown",
      "source": [
        "#XGB"
      ],
      "metadata": {
        "id": "5sMqz9_H3fhZ"
      }
    },
    {
      "cell_type": "code",
      "source": [
        "mod1 = xgb.XGBClassifier(booster='dart',learning_rate=0.2,objective='multi:softmax')\n",
        "train_arr = np.array(X_res)\n",
        "test_arr = np.array(Y_res)\n",
        "mod1.fit(train_arr, Y_res)"
      ],
      "metadata": {
        "colab": {
          "base_uri": "https://localhost:8080/"
        },
        "id": "MGa7Y7Ux3lJQ",
        "outputId": "7817539b-88f9-48c9-8e00-1ec933e276b2"
      },
      "execution_count": 119,
      "outputs": [
        {
          "output_type": "execute_result",
          "data": {
            "text/plain": [
              "XGBClassifier(booster='dart', learning_rate=0.2, objective='multi:softprob')"
            ]
          },
          "metadata": {},
          "execution_count": 119
        }
      ]
    },
    {
      "cell_type": "code",
      "source": [
        "prediction_xgb = mod1.predict(test_feature_all)\n",
        "print(\"Accuracy = \", accuracy_score(test_labels_encoded, prediction_xgb)*100)\n",
        "#print('Accuracy: {0:5.2f}%'.format(acc*100))"
      ],
      "metadata": {
        "colab": {
          "base_uri": "https://localhost:8080/"
        },
        "id": "jqA4B_-j34ko",
        "outputId": "cdd087a8-ba5d-4d9f-c60e-fdfdddb03a0f"
      },
      "execution_count": 120,
      "outputs": [
        {
          "output_type": "stream",
          "name": "stdout",
          "text": [
            "Accuracy =  74.96062992125985\n"
          ]
        }
      ]
    },
    {
      "cell_type": "code",
      "source": [
        "kappa = cohen_kappa_score(prediction_xgb, test_labels_encoded)\n",
        "print(kappa)"
      ],
      "metadata": {
        "colab": {
          "base_uri": "https://localhost:8080/"
        },
        "id": "I-Q8J5UksLst",
        "outputId": "02a49733-3714-4ebd-8e59-6888612c9b29"
      },
      "execution_count": 121,
      "outputs": [
        {
          "output_type": "stream",
          "name": "stdout",
          "text": [
            "0.5656055449668067\n"
          ]
        }
      ]
    },
    {
      "cell_type": "markdown",
      "source": [
        "#LightGBM"
      ],
      "metadata": {
        "id": "ks_15Plg4JGJ"
      }
    },
    {
      "cell_type": "code",
      "source": [
        "scaler = StandardScaler()\n",
        "train_scaled = scaler.fit_transform(train_feature_all)\n",
        "test_scaled = scaler.transform(test_feature_all)\n",
        "d_train = lgb.Dataset(train_scaled, label=train_labels_encoded)"
      ],
      "metadata": {
        "id": "u5Fy3bCb4MCd"
      },
      "execution_count": 45,
      "outputs": []
    },
    {
      "cell_type": "code",
      "source": [
        "lgbm_params = {'learning_rate':0.05, 'boosting_type':'gbdt', #Sometimes dart gives better accuracy. gbdt means gradient boosting.\n",
        "              'objective':'multiclass',\n",
        "              'num_classes': '3', \n",
        "              'metric':'multi_logloss',\n",
        "              'num_leaves':100, # optimizing this avoids overfitting. 50 to 100\n",
        "              'max_depth':10} #10 may be appropriate"
      ],
      "metadata": {
        "id": "TiFNqg2P4XqE"
      },
      "execution_count": 2,
      "outputs": []
    },
    {
      "cell_type": "code",
      "source": [
        "clf = lgb.train(lgbm_params, d_train, 70) #50 iterations. Increase iterations for small learning rates. eg if learning grate = 0.005, we may need 500 iterations.\n",
        "prediction_lgb=clf.predict(test_scaled)\n",
        "#convert the probabilities into binary values 0/1 for classification\n",
        "for i in range(0, test_scaled.shape[0]):\n",
        "    if prediction_lgb[i]>=.5: # setting threshold to 0.5\n",
        "       prediction_lgb[i]=1\n",
        "    else:  \n",
        "       prediction_lgb[i]=0"
      ],
      "metadata": {
        "id": "7fsZCGL762iN",
        "colab": {
          "base_uri": "https://localhost:8080/",
          "height": 252
        },
        "outputId": "585bfb07-8746-4c48-db69-db4097e46b50"
      },
      "execution_count": 3,
      "outputs": [
        {
          "output_type": "error",
          "ename": "NameError",
          "evalue": "ignored",
          "traceback": [
            "\u001b[0;31m---------------------------------------------------------------------------\u001b[0m",
            "\u001b[0;31mNameError\u001b[0m                                 Traceback (most recent call last)",
            "\u001b[0;32m<ipython-input-3-8c070aa9ddf9>\u001b[0m in \u001b[0;36m<module>\u001b[0;34m\u001b[0m\n\u001b[0;32m----> 1\u001b[0;31m \u001b[0mclf\u001b[0m \u001b[0;34m=\u001b[0m \u001b[0mlgb\u001b[0m\u001b[0;34m.\u001b[0m\u001b[0mtrain\u001b[0m\u001b[0;34m(\u001b[0m\u001b[0mlgbm_params\u001b[0m\u001b[0;34m,\u001b[0m \u001b[0md_train\u001b[0m\u001b[0;34m,\u001b[0m \u001b[0;36m70\u001b[0m\u001b[0;34m)\u001b[0m \u001b[0;31m#50 iterations. Increase iterations for small learning rates. eg if learning grate = 0.005, we may need 500 iterations.\u001b[0m\u001b[0;34m\u001b[0m\u001b[0;34m\u001b[0m\u001b[0m\n\u001b[0m\u001b[1;32m      2\u001b[0m \u001b[0mprediction_lgb\u001b[0m\u001b[0;34m=\u001b[0m\u001b[0mclf\u001b[0m\u001b[0;34m.\u001b[0m\u001b[0mpredict\u001b[0m\u001b[0;34m(\u001b[0m\u001b[0mtest_scaled\u001b[0m\u001b[0;34m)\u001b[0m\u001b[0;34m\u001b[0m\u001b[0;34m\u001b[0m\u001b[0m\n\u001b[1;32m      3\u001b[0m \u001b[0;31m#convert the probabilities into binary values 0/1 for classification\u001b[0m\u001b[0;34m\u001b[0m\u001b[0;34m\u001b[0m\u001b[0;34m\u001b[0m\u001b[0m\n\u001b[1;32m      4\u001b[0m \u001b[0;32mfor\u001b[0m \u001b[0mi\u001b[0m \u001b[0;32min\u001b[0m \u001b[0mrange\u001b[0m\u001b[0;34m(\u001b[0m\u001b[0;36m0\u001b[0m\u001b[0;34m,\u001b[0m \u001b[0mtest_scaled\u001b[0m\u001b[0;34m.\u001b[0m\u001b[0mshape\u001b[0m\u001b[0;34m[\u001b[0m\u001b[0;36m0\u001b[0m\u001b[0;34m]\u001b[0m\u001b[0;34m)\u001b[0m\u001b[0;34m:\u001b[0m\u001b[0;34m\u001b[0m\u001b[0;34m\u001b[0m\u001b[0m\n\u001b[1;32m      5\u001b[0m     \u001b[0;32mif\u001b[0m \u001b[0mprediction_lgb\u001b[0m\u001b[0;34m[\u001b[0m\u001b[0mi\u001b[0m\u001b[0;34m]\u001b[0m\u001b[0;34m>=\u001b[0m\u001b[0;36m.5\u001b[0m\u001b[0;34m:\u001b[0m \u001b[0;31m# setting threshold to 0.5\u001b[0m\u001b[0;34m\u001b[0m\u001b[0;34m\u001b[0m\u001b[0m\n",
            "\u001b[0;31mNameError\u001b[0m: name 'lgb' is not defined"
          ]
        }
      ]
    },
    {
      "cell_type": "code",
      "source": [
        "#Print accuracy\n",
        "print (\"Accuracy with LGBM = \", accuracy_score(test_labels_encoded, prediction_lgb)*100)\n"
      ],
      "metadata": {
        "colab": {
          "base_uri": "https://localhost:8080/"
        },
        "id": "7lznq4wA7KuX",
        "outputId": "f9876c3c-58e0-427b-8319-504da9790c65"
      },
      "execution_count": null,
      "outputs": [
        {
          "output_type": "stream",
          "name": "stdout",
          "text": [
            "Accuracy with LGBM =  79.38144329896907\n"
          ]
        }
      ]
    },
    {
      "cell_type": "code",
      "source": [
        "#Confusion matrix\n",
        "cm_lgbm = confusion_matrix(test_labels_encoded, prediction_lgb)\n",
        "sns.heatmap(cm_lgbm, annot=True)"
      ],
      "metadata": {
        "colab": {
          "base_uri": "https://localhost:8080/",
          "height": 283
        },
        "id": "NAckKR0k7h86",
        "outputId": "fd94f69a-72b5-4aaf-b4ef-7a95b8755511"
      },
      "execution_count": null,
      "outputs": [
        {
          "output_type": "execute_result",
          "data": {
            "text/plain": [
              "<matplotlib.axes._subplots.AxesSubplot at 0x7f5bad87e550>"
            ]
          },
          "metadata": {},
          "execution_count": 104
        },
        {
          "output_type": "display_data",
          "data": {
            "text/plain": [
              "<Figure size 432x288 with 2 Axes>"
            ],
            "image/png": "[encoded data removed]"
          },
          "metadata": {
            "needs_background": "light"
          }
        }
      ]
    },
    {
      "cell_type": "markdown",
      "source": [
        "#Adaboost"
      ],
      "metadata": {
        "id": "8rPe7eRV7mey"
      }
    },
    {
      "cell_type": "code",
      "source": [
        "clf_adb = AdaBoostClassifier(n_estimators=200, random_state=0)\n",
        "clf_adb.fit(train_feature_all,train_labels_encoded)"
      ],
      "metadata": {
        "id": "h-wDgpjM7o6B"
      },
      "execution_count": null,
      "outputs": []
    },
    {
      "cell_type": "code",
      "source": [
        "# Test set evaluation\n",
        "prediction_adb = clf_adb.predict(test_feature_all)\n",
        "# Visualization\n",
        "cmat = confusion_matrix(prediction_adb,test_labels_encoded)\n",
        "s = sns.heatmap(cmat,annot=True,xticklabels=label, yticklabels=label)\n",
        "s.set(xlabel='Predicted', ylabel='Actual')\n",
        "acc_adb = cmat.trace() / cmat.sum()\n",
        "print('Accuracy: {0:5.2f}%'.format(acc_adb*100))"
      ],
      "metadata": {
        "colab": {
          "base_uri": "https://localhost:8080/"
        },
        "id": "CSOJIVqp9UT6",
        "outputId": "09de08c8-fc4c-4bd0-93e5-1f95499ae33d"
      },
      "execution_count": null,
      "outputs": [
        {
          "output_type": "stream",
          "name": "stdout",
          "text": [
            "Accuracy: 71.65%\n"
          ]
        }
      ]
    },
    {
      "cell_type": "code",
      "source": [
        "prediction_prob = clf_adb.predict_proba(test_feature_all)\n",
        "print(\"Area under curve (AUC): \", roc_auc_score(test_labels_encoded, prediction_prob[:,1]))"
      ],
      "metadata": {
        "colab": {
          "base_uri": "https://localhost:8080/"
        },
        "id": "hO-zc3BQ78ht",
        "outputId": "39281da7-34f2-4ce0-9103-97e79a703ecf"
      },
      "execution_count": null,
      "outputs": [
        {
          "output_type": "stream",
          "name": "stdout",
          "text": [
            "Area under curve (AUC):  0.7766794217687075\n"
          ]
        }
      ]
    },
    {
      "cell_type": "markdown",
      "source": [
        "#random try"
      ],
      "metadata": {
        "id": "QMjtC1waL4XF"
      }
    },
    {
      "cell_type": "code",
      "source": [
        "models = {}\n",
        "\n",
        "# Logistic Regression\n",
        "from sklearn.linear_model import LogisticRegression\n",
        "models['Logistic Regression'] = LogisticRegression()\n",
        "\n",
        "# Support Vector Machines\n",
        "from sklearn.svm import LinearSVC\n",
        "models['Support Vector Machines'] = LinearSVC()\n",
        "\n",
        "# Decision Trees\n",
        "from sklearn.tree import DecisionTreeClassifier\n",
        "models['Decision Trees'] = DecisionTreeClassifier()\n",
        "\n",
        "# Random Forest\n",
        "from sklearn.ensemble import RandomForestClassifier\n",
        "models['Random Forest'] = RandomForestClassifier()\n",
        "\n",
        "# Naive Bayes\n",
        "from sklearn.naive_bayes import GaussianNB\n",
        "models['Naive Bayes'] = GaussianNB()\n",
        "\n",
        "# K-Nearest Neighbors\n",
        "from sklearn.neighbors import KNeighborsClassifier\n",
        "models['K-Nearest Neighbor'] = KNeighborsClassifier()"
      ],
      "metadata": {
        "id": "pRMnYBuaL6JY"
      },
      "execution_count": null,
      "outputs": []
    },
    {
      "cell_type": "code",
      "source": [
        "from sklearn.metrics import accuracy_score, precision_score, recall_score\n",
        "\n",
        "accuracy, precision, recall = {}, {}, {}\n",
        "\n",
        "for key in models.keys():\n",
        "    \n",
        "    # Fit the classifier\n",
        "    models[key].fit(train_feature_all, train_labels_encoded)\n",
        "    \n",
        "    # Make predictions\n",
        "    predictions = models[key].predict(test_feature_all)\n",
        "    \n",
        "    # Calculate metrics\n",
        "    accuracy[key] = accuracy_score(predictions, test_labels_encoded)\n",
        "    precision[key] = precision_score(predictions,test_labels_encoded)\n",
        "    recall[key] = recall_score(predictions, test_labels_encoded)"
      ],
      "metadata": {
        "colab": {
          "base_uri": "https://localhost:8080/"
        },
        "id": "DDyM5x7GL-A0",
        "outputId": "ed370901-ff34-4f14-e490-57b96645376c"
      },
      "execution_count": null,
      "outputs": [
        {
          "output_type": "stream",
          "name": "stderr",
          "text": [
            "/usr/local/lib/python3.7/dist-packages/sklearn/linear_model/_logistic.py:818: ConvergenceWarning: lbfgs failed to converge (status=1):\n",
            "STOP: TOTAL NO. of ITERATIONS REACHED LIMIT.\n",
            "\n",
            "Increase the number of iterations (max_iter) or scale the data as shown in:\n",
            "    https://scikit-learn.org/stable/modules/preprocessing.html\n",
            "Please also refer to the documentation for alternative solver options:\n",
            "    https://scikit-learn.org/stable/modules/linear_model.html#logistic-regression\n",
            "  extra_warning_msg=_LOGISTIC_SOLVER_CONVERGENCE_MSG,\n",
            "/usr/local/lib/python3.7/dist-packages/sklearn/svm/_base.py:1198: ConvergenceWarning: Liblinear failed to converge, increase the number of iterations.\n",
            "  sample_weight,\n"
          ]
        }
      ]
    },
    {
      "cell_type": "code",
      "source": [
        "import pandas as pd\n",
        "\n",
        "df_model = pd.DataFrame(index=models.keys(), columns=['Accuracy', 'Precision', 'Recall'])\n",
        "df_model['Accuracy'] = accuracy.values()\n",
        "df_model['Precision'] = precision.values()\n",
        "df_model['Recall'] = recall.values()\n",
        "\n",
        "df_model"
      ],
      "metadata": {
        "colab": {
          "base_uri": "https://localhost:8080/",
          "height": 237
        },
        "id": "5Z0rAoqWMciz",
        "outputId": "ae3823d0-af9c-4220-8e08-9d407ff17e9d"
      },
      "execution_count": null,
      "outputs": [
        {
          "output_type": "execute_result",
          "data": {
            "text/plain": [
              "                         Accuracy  Precision    Recall\n",
              "Logistic Regression      0.670103   0.750000  0.642857\n",
              "Support Vector Machines  0.649485   0.906250  0.595890\n",
              "Decision Trees           0.680412   0.739583  0.657407\n",
              "Random Forest            0.778351   0.812500  0.757282\n",
              "Naive Bayes              0.659794   0.781250  0.625000\n",
              "K-Nearest Neighbor       0.623711   0.739583  0.596639"
            ],
            "text/html": [
              "\n",
              "  <div id=\"df-5372685a-689b-4caf-9f2b-47fd64b26c32\">\n",
              "    <div class=\"colab-df-container\">\n",
              "      <div>\n",
              "<style scoped>\n",
              "    .dataframe tbody tr th:only-of-type {\n",
              "        vertical-align: middle;\n",
              "    }\n",
              "\n",
              "    .dataframe tbody tr th {\n",
              "        vertical-align: top;\n",
              "    }\n",
              "\n",
              "    .dataframe thead th {\n",
              "        text-align: right;\n",
              "    }\n",
              "</style>\n",
              "<table border=\"1\" class=\"dataframe\">\n",
              "  <thead>\n",
              "    <tr style=\"text-align: right;\">\n",
              "      <th></th>\n",
              "      <th>Accuracy</th>\n",
              "      <th>Precision</th>\n",
              "      <th>Recall</th>\n",
              "    </tr>\n",
              "  </thead>\n",
              "  <tbody>\n",
              "    <tr>\n",
              "      <th>Logistic Regression</th>\n",
              "      <td>0.670103</td>\n",
              "      <td>0.750000</td>\n",
              "      <td>0.642857</td>\n",
              "    </tr>\n",
              "    <tr>\n",
              "      <th>Support Vector Machines</th>\n",
              "      <td>0.649485</td>\n",
              "      <td>0.906250</td>\n",
              "      <td>0.595890</td>\n",
              "    </tr>\n",
              "    <tr>\n",
              "      <th>Decision Trees</th>\n",
              "      <td>0.680412</td>\n",
              "      <td>0.739583</td>\n",
              "      <td>0.657407</td>\n",
              "    </tr>\n",
              "    <tr>\n",
              "      <th>Random Forest</th>\n",
              "      <td>0.778351</td>\n",
              "      <td>0.812500</td>\n",
              "      <td>0.757282</td>\n",
              "    </tr>\n",
              "    <tr>\n",
              "      <th>Naive Bayes</th>\n",
              "      <td>0.659794</td>\n",
              "      <td>0.781250</td>\n",
              "      <td>0.625000</td>\n",
              "    </tr>\n",
              "    <tr>\n",
              "      <th>K-Nearest Neighbor</th>\n",
              "      <td>0.623711</td>\n",
              "      <td>0.739583</td>\n",
              "      <td>0.596639</td>\n",
              "    </tr>\n",
              "  </tbody>\n",
              "</table>\n",
              "</div>\n",
              "      <button class=\"colab-df-convert\" onclick=\"convertToInteractive('df-5372685a-689b-4caf-9f2b-47fd64b26c32')\"\n",
              "              title=\"Convert this dataframe to an interactive table.\"\n",
              "              style=\"display:none;\">\n",
              "        \n",
              "  <svg xmlns=\"http://www.w3.org/2000/svg\" height=\"24px\"viewBox=\"0 0 24 24\"\n",
              "       width=\"24px\">\n",
              "    <path d=\"M0 0h24v24H0V0z\" fill=\"none\"/>\n",
              "    <path d=\"M18.56 5.44l.94 2.06.94-2.06 2.06-.94-2.06-.94-.94-2.06-.94 2.06-2.06.94zm-11 1L8.5 8.5l.94-2.06 2.06-.94-2.06-.94L8.5 2.5l-.94 2.06-2.06.94zm10 10l.94 2.06.94-2.06 2.06-.94-2.06-.94-.94-2.06-.94 2.06-2.06.94z\"/><path d=\"M17.41 7.96l-1.37-1.37c-.4-.4-.92-.59-1.43-.59-.52 0-1.04.2-1.43.59L10.3 9.45l-7.72 7.72c-.78.78-.78 2.05 0 2.83L4 21.41c.39.39.9.59 1.41.59.51 0 1.02-.2 1.41-.59l7.78-7.78 2.81-2.81c.8-.78.8-2.07 0-2.86zM5.41 20L4 18.59l7.72-7.72 1.47 1.35L5.41 20z\"/>\n",
              "  </svg>\n",
              "      </button>\n",
              "      \n",
              "  <style>\n",
              "    .colab-df-container {\n",
              "      display:flex;\n",
              "      flex-wrap:wrap;\n",
              "      gap: 12px;\n",
              "    }\n",
              "\n",
              "    .colab-df-convert {\n",
              "      background-color: #E8F0FE;\n",
              "      border: none;\n",
              "      border-radius: 50%;\n",
              "      cursor: pointer;\n",
              "      display: none;\n",
              "      fill: #1967D2;\n",
              "      height: 32px;\n",
              "      padding: 0 0 0 0;\n",
              "      width: 32px;\n",
              "    }\n",
              "\n",
              "    .colab-df-convert:hover {\n",
              "      background-color: #E2EBFA;\n",
              "      box-shadow: 0px 1px 2px rgba(60, 64, 67, 0.3), 0px 1px 3px 1px rgba(60, 64, 67, 0.15);\n",
              "      fill: #174EA6;\n",
              "    }\n",
              "\n",
              "    [theme=dark] .colab-df-convert {\n",
              "      background-color: #3B4455;\n",
              "      fill: #D2E3FC;\n",
              "    }\n",
              "\n",
              "    [theme=dark] .colab-df-convert:hover {\n",
              "      background-color: #434B5C;\n",
              "      box-shadow: 0px 1px 3px 1px rgba(0, 0, 0, 0.15);\n",
              "      filter: drop-shadow(0px 1px 2px rgba(0, 0, 0, 0.3));\n",
              "      fill: #FFFFFF;\n",
              "    }\n",
              "  </style>\n",
              "\n",
              "      <script>\n",
              "        const buttonEl =\n",
              "          document.querySelector('#df-5372685a-689b-4caf-9f2b-47fd64b26c32 button.colab-df-convert');\n",
              "        buttonEl.style.display =\n",
              "          google.colab.kernel.accessAllowed ? 'block' : 'none';\n",
              "\n",
              "        async function convertToInteractive(key) {\n",
              "          const element = document.querySelector('#df-5372685a-689b-4caf-9f2b-47fd64b26c32');\n",
              "          const dataTable =\n",
              "            await google.colab.kernel.invokeFunction('convertToInteractive',\n",
              "                                                     [key], {});\n",
              "          if (!dataTable) return;\n",
              "\n",
              "          const docLinkHtml = 'Like what you see? Visit the ' +\n",
              "            '<a target=\"_blank\" href=https://colab.research.google.com/notebooks/data_table.ipynb>data table notebook</a>'\n",
              "            + ' to learn more about interactive tables.';\n",
              "          element.innerHTML = '';\n",
              "          dataTable['output_type'] = 'display_data';\n",
              "          await google.colab.output.renderOutput(dataTable, element);\n",
              "          const docLink = document.createElement('div');\n",
              "          docLink.innerHTML = docLinkHtml;\n",
              "          element.appendChild(docLink);\n",
              "        }\n",
              "      </script>\n",
              "    </div>\n",
              "  </div>\n",
              "  "
            ]
          },
          "metadata": {},
          "execution_count": 111
        }
      ]
    }
  ]
}