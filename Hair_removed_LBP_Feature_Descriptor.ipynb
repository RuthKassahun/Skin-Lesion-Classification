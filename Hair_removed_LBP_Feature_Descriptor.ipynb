{
  "nbformat": 4,
  "nbformat_minor": 0,
  "metadata": {
    "colab": {
      "provenance": [],
      "collapsed_sections": [],
      "mount_file_id": "1bHjYBrwudaW7CLSGTundpmCjL1st2iNi",
      "authorship_tag": "ABX9TyPnMsFmRm8SViumlVMZos8/",
      "include_colab_link": true
    },
    "kernelspec": {
      "name": "python3",
      "display_name": "Python 3"
    },
    "language_info": {
      "name": "python"
    }
  },
  "cells": [
    {
      "cell_type": "markdown",
      "metadata": {
        "id": "view-in-github",
        "colab_type": "text"
      },
      "source": [
        "<a href=\"https://colab.research.google.com/github/RuthKassahun/Skin-Lesion-Classification/blob/main/Hair_removed_LBP_Feature_Descriptor.ipynb\" target=\"_parent\"><img src=\"https://colab.research.google.com/assets/colab-badge.svg\" alt=\"Open In Colab\"/></a>"
      ]
    },
    {
      "cell_type": "markdown",
      "source": [
        "# LBP Feature Extractor"
      ],
      "metadata": {
        "id": "uZZBnPHNLLVZ"
      }
    },
    {
      "cell_type": "markdown",
      "source": [
        "## Import Libraries"
      ],
      "metadata": {
        "id": "VEyKRvtkLVv6"
      }
    },
    {
      "cell_type": "code",
      "execution_count": 1,
      "metadata": {
        "id": "C6XWF4DqCFRw"
      },
      "outputs": [],
      "source": [
        "import numpy as np \n",
        "import matplotlib.pyplot as plt\n",
        "import glob\n",
        "import cv2\n",
        "import os\n",
        "import seaborn as sns\n",
        "import pandas as pd\n",
        "from skimage.filters import sobel\n",
        "from skimage.feature import greycomatrix, greycoprops\n",
        "from skimage.measure import shannon_entropy\n",
        "from sklearn.pipeline import Pipeline\n",
        "from sklearn.svm import SVC, LinearSVC\n",
        "from skimage.feature import local_binary_pattern\n",
        "from sklearn.ensemble import RandomForestClassifier\n",
        "from sklearn.neighbors import KNeighborsClassifier\n",
        "from sklearn.ensemble import AdaBoostClassifier\n",
        "from sklearn.preprocessing import LabelEncoder, StandardScaler, MinMaxScaler\n",
        "from sklearn import metrics\n",
        "from pathlib import Path\n",
        "import xgboost as xgb\n",
        "import lightgbm as lgb\n",
        "from PIL import Image, ImageOps\n",
        "from sklearn.model_selection import GridSearchCV, StratifiedKFold\n",
        "from sklearn.metrics import accuracy_score, auc, roc_curve, roc_auc_score, recall_score, confusion_matrix\n"
      ]
    },
    {
      "cell_type": "markdown",
      "source": [
        "## Load Data"
      ],
      "metadata": {
        "id": "6fxJw8o3LfvZ"
      }
    },
    {
      "cell_type": "code",
      "source": [
        "print(os.listdir(\"/content/drive/MyDrive/CAD_PROJECT/hair_removed/train\"))\n",
        "SIZE = 224"
      ],
      "metadata": {
        "colab": {
          "base_uri": "https://localhost:8080/"
        },
        "id": "XxVgvMwHCrME",
        "outputId": "f21fc3a2-b31f-46f0-b052-057a1363a563"
      },
      "execution_count": 2,
      "outputs": [
        {
          "output_type": "stream",
          "name": "stdout",
          "text": [
            "['nevus', 'other']\n"
          ]
        }
      ]
    },
    {
      "cell_type": "code",
      "source": [
        "def compute_lbp(arr):\n",
        "  # LBP function params\n",
        "  radius = 3\n",
        "  n_points = 8 * radius\n",
        "  n_bins = n_points + 2\n",
        "  lbp = local_binary_pattern(arr,n_points,radius,'uniform')\n",
        "  lbp = lbp.ravel()\n",
        "  #feature_len = int(lbp.max() + 1)\n",
        "  feature = np.zeros(n_bins)\n",
        "  for i in lbp:\n",
        "    feature[int(i)] += 1 # Feature\n",
        "  feature /= np.linalg.norm(feature, ord=1) # Normalizing feature\n",
        "  return feature"
      ],
      "metadata": {
        "id": "kLu_eyq3yTTO"
      },
      "execution_count": 3,
      "outputs": []
    },
    {
      "cell_type": "code",
      "source": [
        "train_images = []\n",
        "train_labels = [] \n",
        "#for directory_path in glob.glob(\"cell_images/train/*\"):\n",
        "for directory_path in glob.glob(\"/content/drive/MyDrive/CAD_PROJECT/hair_removed/train/*\"):\n",
        "    label = directory_path.split(\"/\")[-1]\n",
        "    print(label)\n",
        "    for img_path in glob.glob(os.path.join(directory_path, \"*.jpg\")):\n",
        "        #print(img_path)\n",
        "        img = cv2.imread(img_path,0) #Reading color images\n",
        "        img = cv2.resize(img, (SIZE, SIZE)) #Resize images\n",
        "        arr = np.array(img) # convert the image to numpy array\n",
        "        feature = compute_lbp(arr)\n",
        "        train_images.append(feature)\n",
        "        train_labels.append(label)\n",
        "        \n"
      ],
      "metadata": {
        "colab": {
          "base_uri": "https://localhost:8080/"
        },
        "id": "LMC30n42p6zS",
        "outputId": "ae9627b6-3eba-4573-fc6c-e0132b914ce4"
      },
      "execution_count": 4,
      "outputs": [
        {
          "output_type": "stream",
          "name": "stdout",
          "text": [
            "nevus\n",
            "other\n"
          ]
        }
      ]
    },
    {
      "cell_type": "markdown",
      "source": [],
      "metadata": {
        "id": "GZZ6KKUNq9cF"
      }
    },
    {
      "cell_type": "code",
      "source": [
        "test_images = []\n",
        "test_labels = []\n",
        "#for directory_path in glob.glob(\"cell_images/test/*\"): \n",
        "for directory_path in glob.glob(\"/content/drive/MyDrive/CAD_PROJECT/hair_removed/test/*\"):\n",
        "    test_label = directory_path.split(\"/\")[-1]\n",
        "    for img_path in glob.glob(os.path.join(directory_path, \"*.jpg\")):\n",
        "        img = cv2.imread(img_path,0) #Reading color images\n",
        "        img = cv2.resize(img, (SIZE, SIZE)) #Resize images\n",
        "        arr = np.array(img) # convert the image to numpy array\n",
        "        feature = compute_lbp(arr)\n",
        "        test_images.append(feature)\n",
        "        test_labels.append(test_label)\n",
        "\n"
      ],
      "metadata": {
        "id": "OmGYCrkIqj9i"
      },
      "execution_count": 5,
      "outputs": []
    },
    {
      "cell_type": "markdown",
      "source": [
        "## Label Encoding"
      ],
      "metadata": {
        "id": "CerVmwjfLvEs"
      }
    },
    {
      "cell_type": "code",
      "source": [
        "from sklearn import preprocessing\n",
        "le = preprocessing.LabelEncoder()\n",
        "le.fit(test_labels)\n",
        "test_labels_encoded = le.transform(test_labels)\n",
        "le.fit(train_labels)\n",
        "train_labels_encoded = le.transform(train_labels)"
      ],
      "metadata": {
        "id": "Nx-a7VFwrE3R"
      },
      "execution_count": 6,
      "outputs": []
    },
    {
      "cell_type": "code",
      "source": [
        "x_train, y_train, x_test, y_test = train_images, train_labels_encoded, test_images, test_labels_encoded\n"
      ],
      "metadata": {
        "id": "pPcS7NIareJw"
      },
      "execution_count": 7,
      "outputs": []
    },
    {
      "cell_type": "code",
      "source": [
        "X_for_ML =x_train\n",
        "X_test_ML =x_test"
      ],
      "metadata": {
        "id": "xdDRRdCa9q2r"
      },
      "execution_count": 8,
      "outputs": []
    },
    {
      "cell_type": "markdown",
      "source": [
        "## SVM"
      ],
      "metadata": {
        "id": "mRt5SBmbMCBH"
      }
    },
    {
      "cell_type": "code",
      "source": [
        "pipe1 = Pipeline([\n",
        "                 (\"scale\", StandardScaler()),\n",
        "                 (\"classifier\", SVC(class_weight='balanced', probability=True, kernel= 'rbf', gamma=0.01, C=100)) #radial basis function kernel\n",
        "                 ])"
      ],
      "metadata": {
        "id": "8NeblTA2AdM3"
      },
      "execution_count": 9,
      "outputs": []
    },
    {
      "cell_type": "code",
      "source": [
        "pipe1.fit(X_for_ML,y_train)"
      ],
      "metadata": {
        "colab": {
          "base_uri": "https://localhost:8080/"
        },
        "id": "jt-exYkgAeb4",
        "outputId": "3592b753-bef5-45a3-b9a4-2e78cf92b17e"
      },
      "execution_count": 10,
      "outputs": [
        {
          "output_type": "execute_result",
          "data": {
            "text/plain": [
              "Pipeline(steps=[('scale', StandardScaler()),\n",
              "                ('classifier',\n",
              "                 SVC(C=100, class_weight='balanced', gamma=0.01,\n",
              "                     probability=True))])"
            ]
          },
          "metadata": {},
          "execution_count": 10
        }
      ]
    },
    {
      "cell_type": "code",
      "source": [
        "# Test set evaluation\n",
        "prediction = pipe1.predict(X_test_ML)\n",
        "# Visualization\n",
        "cmat = metrics.confusion_matrix(prediction,test_labels_encoded)\n",
        "s = sns.heatmap(cmat,annot=True,xticklabels=label, yticklabels=label)\n",
        "s.set(xlabel='Predicted', ylabel='Actual')\n",
        "acc = cmat.trace() / cmat.sum()\n",
        "print('Accuracy: {0:5.2f}%'.format(acc*100))"
      ],
      "metadata": {
        "id": "_Ycj94-_CCiT",
        "colab": {
          "base_uri": "https://localhost:8080/",
          "height": 296
        },
        "outputId": "906ac6e1-ac89-4db1-ac72-28cd6b5294c1"
      },
      "execution_count": 11,
      "outputs": [
        {
          "output_type": "stream",
          "name": "stdout",
          "text": [
            "Accuracy: 74.74%\n"
          ]
        },
        {
          "output_type": "display_data",
          "data": {
            "text/plain": [
              "<Figure size 432x288 with 2 Axes>"
            ],
            "image/png": "[encoded data removed]"
          },
          "metadata": {
            "needs_background": "light"
          }
        }
      ]
    },
    {
      "cell_type": "code",
      "source": [
        "prediction_prob = pipe1.predict_proba(X_test_ML)\n",
        "print(\"Area under curve (AUC): \", roc_auc_score(test_labels_encoded, prediction_prob[:,1]))"
      ],
      "metadata": {
        "id": "ZIOYBfjnC48S",
        "colab": {
          "base_uri": "https://localhost:8080/"
        },
        "outputId": "72e129c7-29e9-4526-d3f6-fa8e5fe7a7db"
      },
      "execution_count": 12,
      "outputs": [
        {
          "output_type": "stream",
          "name": "stdout",
          "text": [
            "Area under curve (AUC):  0.8352465986394557\n"
          ]
        }
      ]
    },
    {
      "cell_type": "code",
      "source": [
        "fpr, tpr, thresholds = roc_curve(test_labels_encoded, prediction_prob[:,1]) # outputs false positive rate, true positive rate, and corresponding thresholds.\n",
        "plt.figure(1)\n",
        "plt.plot([0,1],[0,1], 'y--')\n",
        "plt.plot(fpr, tpr, linestyle = '--')\n",
        "plt.xlabel('False positive rate')\n",
        "plt.ylabel('True positive rate')\n",
        "plt.title('ROC curve')\n",
        "plt.show()"
      ],
      "metadata": {
        "id": "b39IGP4RDI8s",
        "colab": {
          "base_uri": "https://localhost:8080/",
          "height": 295
        },
        "outputId": "84080427-b423-4bfc-e219-a0a415527760"
      },
      "execution_count": 13,
      "outputs": [
        {
          "output_type": "display_data",
          "data": {
            "text/plain": [
              "<Figure size 432x288 with 1 Axes>"
            ],
            "image/png": "[encoded data removed]"
          },
          "metadata": {
            "needs_background": "light"
          }
        }
      ]
    },
    {
      "cell_type": "markdown",
      "source": [
        "## Random Forest"
      ],
      "metadata": {
        "id": "0hRhX6FrMG3L"
      }
    },
    {
      "cell_type": "code",
      "source": [
        "pipe2 = Pipeline([\n",
        "                 (\"scale\", StandardScaler()),\n",
        "                 (\"classifier\", RandomForestClassifier(n_estimators = 100, random_state = 42))\n",
        "                 ])"
      ],
      "metadata": {
        "id": "KX2wmJx8DZrO"
      },
      "execution_count": 14,
      "outputs": []
    },
    {
      "cell_type": "code",
      "source": [
        "pipe2.fit(X_for_ML,train_labels_encoded)"
      ],
      "metadata": {
        "id": "s9Ho7JfnDi5W",
        "colab": {
          "base_uri": "https://localhost:8080/"
        },
        "outputId": "2dc8bfb6-5448-4483-adda-90d61dca75b7"
      },
      "execution_count": 15,
      "outputs": [
        {
          "output_type": "execute_result",
          "data": {
            "text/plain": [
              "Pipeline(steps=[('scale', StandardScaler()),\n",
              "                ('classifier', RandomForestClassifier(random_state=42))])"
            ]
          },
          "metadata": {},
          "execution_count": 15
        }
      ]
    },
    {
      "cell_type": "code",
      "source": [
        "# Test set evaluation\n",
        "prediction = pipe2.predict(X_test_ML)\n",
        "# Visualization\n",
        "cmat = metrics.confusion_matrix(prediction,test_labels_encoded)\n",
        "s = sns.heatmap(cmat,annot=True,xticklabels=label, yticklabels=label)\n",
        "s.set(xlabel='Predicted', ylabel='Actual')\n",
        "acc = cmat.trace() / cmat.sum()\n",
        "print('Accuracy: {0:5.2f}%'.format(acc*100))"
      ],
      "metadata": {
        "id": "cz3LJigzDnda",
        "colab": {
          "base_uri": "https://localhost:8080/",
          "height": 300
        },
        "outputId": "7d12b64f-f84d-46c6-f01c-4068e97387d3"
      },
      "execution_count": 16,
      "outputs": [
        {
          "output_type": "stream",
          "name": "stdout",
          "text": [
            "Accuracy: 73.71%\n"
          ]
        },
        {
          "output_type": "display_data",
          "data": {
            "text/plain": [
              "<Figure size 432x288 with 2 Axes>"
            ],
            "image/png": "[encoded data removed]"
          },
          "metadata": {
            "needs_background": "light"
          }
        }
      ]
    },
    {
      "cell_type": "code",
      "source": [
        "prediction_prob = pipe2.predict_proba(X_test_ML)\n",
        "print(\"Area under curve (AUC): \", roc_auc_score(test_labels_encoded, prediction_prob[:,1]))"
      ],
      "metadata": {
        "id": "UyA_sPyPEIT-",
        "colab": {
          "base_uri": "https://localhost:8080/"
        },
        "outputId": "aae4e03f-4cdc-4898-ee94-fc19e49b9c9a"
      },
      "execution_count": 17,
      "outputs": [
        {
          "output_type": "stream",
          "name": "stdout",
          "text": [
            "Area under curve (AUC):  0.8008078231292517\n"
          ]
        }
      ]
    },
    {
      "cell_type": "code",
      "source": [
        "fpr, tpr, thresholds = roc_curve(test_labels_encoded, prediction_prob[:,1]) # outputs false positive rate, true positive rate, and corresponding thresholds.\n",
        "plt.figure(1)\n",
        "plt.plot([0,1],[0,1], 'y--')\n",
        "plt.plot(fpr, tpr, linestyle = '--')\n",
        "plt.xlabel('False positive rate')\n",
        "plt.ylabel('True positive rate')\n",
        "plt.title('ROC curve')\n",
        "plt.show()"
      ],
      "metadata": {
        "id": "ymjNTqTnEOrA",
        "colab": {
          "base_uri": "https://localhost:8080/",
          "height": 295
        },
        "outputId": "7c80c78f-97f9-428b-fb14-e57d7b06992e"
      },
      "execution_count": 18,
      "outputs": [
        {
          "output_type": "display_data",
          "data": {
            "text/plain": [
              "<Figure size 432x288 with 1 Axes>"
            ],
            "image/png": "[encoded data removed]"
          },
          "metadata": {
            "needs_background": "light"
          }
        }
      ]
    },
    {
      "cell_type": "markdown",
      "source": [
        "## KNN"
      ],
      "metadata": {
        "id": "QxrLlQ3uMPr4"
      }
    },
    {
      "cell_type": "code",
      "source": [
        "pipe3 = Pipeline([\n",
        "                 (\"scale\",StandardScaler()),\n",
        "                 (\"classifier\", KNeighborsClassifier(n_neighbors=7))\n",
        "                 ])"
      ],
      "metadata": {
        "id": "XBC_zxYbEj4M"
      },
      "execution_count": 19,
      "outputs": []
    },
    {
      "cell_type": "code",
      "source": [
        "pipe3.fit(X_for_ML,train_labels_encoded)"
      ],
      "metadata": {
        "id": "fX78m5oMEeIF",
        "colab": {
          "base_uri": "https://localhost:8080/"
        },
        "outputId": "afdab91f-b204-4dc3-a1b3-12c02c584486"
      },
      "execution_count": 20,
      "outputs": [
        {
          "output_type": "execute_result",
          "data": {
            "text/plain": [
              "Pipeline(steps=[('scale', StandardScaler()),\n",
              "                ('classifier', KNeighborsClassifier(n_neighbors=7))])"
            ]
          },
          "metadata": {},
          "execution_count": 20
        }
      ]
    },
    {
      "cell_type": "code",
      "source": [
        "prediction_prob = pipe3.predict_proba(X_test_ML)\n",
        "print(\"Area under curve (AUC): \", roc_auc_score(test_labels_encoded, prediction_prob[:,1]))"
      ],
      "metadata": {
        "id": "oam2d5noF6kS",
        "colab": {
          "base_uri": "https://localhost:8080/"
        },
        "outputId": "178ea960-6a0b-4d2c-a767-166a9cd1485d"
      },
      "execution_count": 21,
      "outputs": [
        {
          "output_type": "stream",
          "name": "stdout",
          "text": [
            "Area under curve (AUC):  0.774872448979592\n"
          ]
        }
      ]
    },
    {
      "cell_type": "code",
      "source": [
        "# Test set evaluation\n",
        "prediction = pipe3.predict(X_test_ML)\n",
        "# Visualization\n",
        "cmat = metrics.confusion_matrix(prediction,test_labels_encoded)\n",
        "s = sns.heatmap(cmat,annot=True,xticklabels=label, yticklabels=label)\n",
        "s.set(xlabel='Predicted', ylabel='Actual')\n",
        "acc = cmat.trace() / cmat.sum()\n",
        "print('Accuracy: {0:5.2f}%'.format(acc*100))"
      ],
      "metadata": {
        "id": "LAhKGaG4Eyoh",
        "colab": {
          "base_uri": "https://localhost:8080/",
          "height": 296
        },
        "outputId": "030a263a-7b98-4814-bd05-f4700aef16ac"
      },
      "execution_count": 22,
      "outputs": [
        {
          "output_type": "stream",
          "name": "stdout",
          "text": [
            "Accuracy: 71.65%\n"
          ]
        },
        {
          "output_type": "display_data",
          "data": {
            "text/plain": [
              "<Figure size 432x288 with 2 Axes>"
            ],
            "image/png": "[encoded data removed]"
          },
          "metadata": {
            "needs_background": "light"
          }
        }
      ]
    },
    {
      "cell_type": "code",
      "source": [
        "fpr, tpr, thresholds = roc_curve(test_labels_encoded, prediction_prob[:,1]) # outputs false positive rate, true positive rate, and corresponding thresholds.\n",
        "plt.figure(1)\n",
        "plt.plot([0,1],[0,1], 'y--')\n",
        "plt.plot(fpr, tpr, linestyle = '--')\n",
        "plt.xlabel('False positive rate')\n",
        "plt.ylabel('True positive rate')\n",
        "plt.title('ROC curve')\n",
        "plt.show()"
      ],
      "metadata": {
        "id": "KeleiuOLE1Yb",
        "colab": {
          "base_uri": "https://localhost:8080/",
          "height": 295
        },
        "outputId": "afd55046-2e2f-4a2a-de46-f8527b17c829"
      },
      "execution_count": 23,
      "outputs": [
        {
          "output_type": "display_data",
          "data": {
            "text/plain": [
              "<Figure size 432x288 with 1 Axes>"
            ],
            "image/png": "[encoded data removed]"
          },
          "metadata": {
            "needs_background": "light"
          }
        }
      ]
    },
    {
      "cell_type": "markdown",
      "source": [
        "## AdaBoost"
      ],
      "metadata": {
        "id": "lWYVd2MoMW7f"
      }
    },
    {
      "cell_type": "code",
      "source": [
        "clf = AdaBoostClassifier(n_estimators=200, random_state=0)\n",
        "clf.fit(X_for_ML,train_labels_encoded)"
      ],
      "metadata": {
        "id": "z8HWAHCWFBT6",
        "colab": {
          "base_uri": "https://localhost:8080/"
        },
        "outputId": "16e55f23-0911-4400-f651-dd59eef7a591"
      },
      "execution_count": 24,
      "outputs": [
        {
          "output_type": "execute_result",
          "data": {
            "text/plain": [
              "AdaBoostClassifier(n_estimators=200, random_state=0)"
            ]
          },
          "metadata": {},
          "execution_count": 24
        }
      ]
    },
    {
      "cell_type": "code",
      "source": [
        "prediction_prob = clf.predict_proba(X_test_ML)\n",
        "print(\"Area under curve (AUC): \", roc_auc_score(test_labels_encoded, prediction_prob[:,1]))"
      ],
      "metadata": {
        "id": "bahidginGSd7",
        "colab": {
          "base_uri": "https://localhost:8080/"
        },
        "outputId": "1489cf8b-4c03-440a-a4a6-038749a28adf"
      },
      "execution_count": 25,
      "outputs": [
        {
          "output_type": "stream",
          "name": "stdout",
          "text": [
            "Area under curve (AUC):  0.7793367346938775\n"
          ]
        }
      ]
    },
    {
      "cell_type": "code",
      "source": [
        "# Test set evaluation\n",
        "prediction = clf.predict(X_test_ML)\n",
        "# Visualization\n",
        "cmat = confusion_matrix(prediction,test_labels_encoded)\n",
        "s = sns.heatmap(cmat,annot=True,xticklabels=label, yticklabels=label)\n",
        "s.set(xlabel='Predicted', ylabel='Actual')\n",
        "acc = cmat.trace() / cmat.sum()\n",
        "print('Accuracy: {0:5.2f}%'.format(acc*100))"
      ],
      "metadata": {
        "id": "dHSeEpDxFOxA",
        "colab": {
          "base_uri": "https://localhost:8080/",
          "height": 296
        },
        "outputId": "2c9e38fa-4b76-47c5-afa7-ebd6ed95a593"
      },
      "execution_count": 26,
      "outputs": [
        {
          "output_type": "stream",
          "name": "stdout",
          "text": [
            "Accuracy: 73.71%\n"
          ]
        },
        {
          "output_type": "display_data",
          "data": {
            "text/plain": [
              "<Figure size 432x288 with 2 Axes>"
            ],
            "image/png": "[encoded data removed]"
          },
          "metadata": {
            "needs_background": "light"
          }
        }
      ]
    },
    {
      "cell_type": "code",
      "source": [
        "fpr, tpr, thresholds = roc_curve(test_labels_encoded, prediction_prob[:,1]) # outputs false positive rate, true positive rate, and corresponding thresholds.\n",
        "plt.figure(1)\n",
        "plt.plot([0,1],[0,1], 'y--')\n",
        "plt.plot(fpr, tpr, linestyle = '--')\n",
        "plt.xlabel('False positive rate')\n",
        "plt.ylabel('True positive rate')\n",
        "plt.title('ROC curve')\n",
        "plt.show()"
      ],
      "metadata": {
        "id": "JZh0f2SJFyC3",
        "colab": {
          "base_uri": "https://localhost:8080/",
          "height": 295
        },
        "outputId": "6b5fa7a2-f001-4993-b27a-bd8de2e9b8e0"
      },
      "execution_count": 27,
      "outputs": [
        {
          "output_type": "display_data",
          "data": {
            "text/plain": [
              "<Figure size 432x288 with 1 Axes>"
            ],
            "image/png": "[encoded data removed]"
          },
          "metadata": {
            "needs_background": "light"
          }
        }
      ]
    },
    {
      "cell_type": "markdown",
      "source": [
        "## XGB"
      ],
      "metadata": {
        "id": "QfIx7G5NMdo7"
      }
    },
    {
      "cell_type": "code",
      "source": [
        "mod1 = xgb.XGBClassifier(booster='dart',learning_rate=0.1)\n",
        "train_arr = np.array(X_for_ML)\n",
        "test_arr = np.array(X_test_ML)\n",
        "mod1.fit(train_arr, train_labels_encoded)"
      ],
      "metadata": {
        "id": "X6l_-aSAGbrJ",
        "colab": {
          "base_uri": "https://localhost:8080/"
        },
        "outputId": "a7cf8504-af4b-47e4-dcce-44477484fad7"
      },
      "execution_count": 28,
      "outputs": [
        {
          "output_type": "execute_result",
          "data": {
            "text/plain": [
              "XGBClassifier(booster='dart')"
            ]
          },
          "metadata": {},
          "execution_count": 28
        }
      ]
    },
    {
      "cell_type": "code",
      "source": [
        "prediction = mod1.predict(test_arr)\n",
        "print(\"Accuracy = \", accuracy_score(test_labels_encoded, prediction))"
      ],
      "metadata": {
        "id": "haEaOdTlH2YX",
        "colab": {
          "base_uri": "https://localhost:8080/"
        },
        "outputId": "6ea1ba2d-92ab-4c38-9041-c64a8677a1b6"
      },
      "execution_count": 29,
      "outputs": [
        {
          "output_type": "stream",
          "name": "stdout",
          "text": [
            "Accuracy =  0.7525773195876289\n"
          ]
        }
      ]
    },
    {
      "cell_type": "code",
      "source": [
        "cm = confusion_matrix(test_labels_encoded, prediction)\n",
        "sns.heatmap(cm, annot=True)"
      ],
      "metadata": {
        "id": "tN55xdyAISLT",
        "colab": {
          "base_uri": "https://localhost:8080/",
          "height": 283
        },
        "outputId": "335073c9-192a-42ee-fffd-9b8a9b67df32"
      },
      "execution_count": 30,
      "outputs": [
        {
          "output_type": "execute_result",
          "data": {
            "text/plain": [
              "<matplotlib.axes._subplots.AxesSubplot at 0x7f409cdcbfd0>"
            ]
          },
          "metadata": {},
          "execution_count": 30
        },
        {
          "output_type": "display_data",
          "data": {
            "text/plain": [
              "<Figure size 432x288 with 2 Axes>"
            ],
            "image/png": "[encoded data removed]"
          },
          "metadata": {
            "needs_background": "light"
          }
        }
      ]
    },
    {
      "cell_type": "code",
      "source": [
        "prediction_prob = mod1.predict_proba(test_arr)\n",
        "print(\"Area under curve (AUC): \", roc_auc_score(test_labels_encoded, prediction_prob[:,1]))"
      ],
      "metadata": {
        "id": "g1IoFVCzIbcU",
        "colab": {
          "base_uri": "https://localhost:8080/"
        },
        "outputId": "5e5af01e-a60e-427c-ca63-aa88ac14a05e"
      },
      "execution_count": 31,
      "outputs": [
        {
          "output_type": "stream",
          "name": "stdout",
          "text": [
            "Area under curve (AUC):  0.8148384353741496\n"
          ]
        }
      ]
    },
    {
      "cell_type": "code",
      "source": [
        "fpr, tpr, thresholds = roc_curve(test_labels_encoded, prediction_prob[:,1]) # outputs false positive rate, true positive rate, and corresponding thresholds.\n",
        "plt.figure(1)\n",
        "plt.plot([0,1],[0,1], 'y--')\n",
        "plt.plot(fpr, tpr, linestyle = '--')\n",
        "plt.xlabel('False positive rate')\n",
        "plt.ylabel('True positive rate')\n",
        "plt.title('ROC curve')\n",
        "plt.show()"
      ],
      "metadata": {
        "id": "NmoNZ-9MIjb7",
        "colab": {
          "base_uri": "https://localhost:8080/",
          "height": 295
        },
        "outputId": "e471d4fe-9f60-42df-ba64-40e368180fd9"
      },
      "execution_count": 32,
      "outputs": [
        {
          "output_type": "display_data",
          "data": {
            "text/plain": [
              "<Figure size 432x288 with 1 Axes>"
            ],
            "image/png": "[encoded data removed]"
          },
          "metadata": {
            "needs_background": "light"
          }
        }
      ]
    },
    {
      "cell_type": "markdown",
      "source": [
        "## LightGBM"
      ],
      "metadata": {
        "id": "8xp_LptwMi-l"
      }
    },
    {
      "cell_type": "code",
      "source": [
        "scaler = StandardScaler()\n",
        "train_scaled = scaler.fit_transform(X_for_ML)\n",
        "test_scaled = scaler.transform(X_test_ML)\n",
        "d_train = lgb.Dataset(train_scaled, label=train_labels_encoded)"
      ],
      "metadata": {
        "id": "hnjZ2OnWIsIk"
      },
      "execution_count": 33,
      "outputs": []
    },
    {
      "cell_type": "code",
      "source": [
        "lgbm_params = {'learning_rate':0.05, 'boosting_type':'gbdt', #Sometimes dart gives better accuracy. gbdt means gradient boosting.\n",
        "              'objective':'binary',\n",
        "              'metric':['auc', 'binary_logloss'],\n",
        "              'num_leaves':100, # optimizing this avoids overfitting. 50 to 100\n",
        "              'max_depth':10} #10 may be appropriate"
      ],
      "metadata": {
        "id": "PQspjVoaI_Vm"
      },
      "execution_count": 34,
      "outputs": []
    },
    {
      "cell_type": "code",
      "source": [
        "clf = lgb.train(lgbm_params, d_train, 50) #50 iterations. Increase iterations for small learning rates. eg if learning grate = 0.005, we may need 500 iterations.\n",
        "prediction=clf.predict(test_scaled)\n",
        "#convert the probabilities into binary values 0/1 for classification\n",
        "for i in range(0, test_scaled.shape[0]):\n",
        "    if prediction[i]>=.5: # setting threshold to 0.5\n",
        "       prediction[i]=1\n",
        "    else:  \n",
        "       prediction[i]=0"
      ],
      "metadata": {
        "id": "GrvqxgowJDZ-"
      },
      "execution_count": 35,
      "outputs": []
    },
    {
      "cell_type": "code",
      "source": [
        "#Print accuracy\n",
        "print (\"Accuracy with LGBM = \", accuracy_score(test_labels_encoded, prediction))\n",
        "#Confusion matrix\n",
        "cm_lgbm = confusion_matrix(test_labels_encoded, prediction)\n",
        "sns.heatmap(cm_lgbm, annot=True)"
      ],
      "metadata": {
        "id": "eEpCBvMnJKvK",
        "colab": {
          "base_uri": "https://localhost:8080/",
          "height": 300
        },
        "outputId": "0d73b5fe-fdb1-4148-83b2-231ca8b30cb2"
      },
      "execution_count": 36,
      "outputs": [
        {
          "output_type": "stream",
          "name": "stdout",
          "text": [
            "Accuracy with LGBM =  0.7268041237113402\n"
          ]
        },
        {
          "output_type": "execute_result",
          "data": {
            "text/plain": [
              "<matplotlib.axes._subplots.AxesSubplot at 0x7f409cc7a910>"
            ]
          },
          "metadata": {},
          "execution_count": 36
        },
        {
          "output_type": "display_data",
          "data": {
            "text/plain": [
              "<Figure size 432x288 with 2 Axes>"
            ],
            "image/png": "[encoded data removed]"
          },
          "metadata": {
            "needs_background": "light"
          }
        }
      ]
    },
    {
      "cell_type": "code",
      "source": [
        "prediction_prob=clf.predict(test_scaled)\n",
        "print(\"Area under curve (AUC): \", roc_auc_score(test_labels_encoded, prediction_prob))"
      ],
      "metadata": {
        "id": "xcOhHaJWJ1d8",
        "colab": {
          "base_uri": "https://localhost:8080/"
        },
        "outputId": "217e714f-09a6-495c-c45e-5acddfa8fff0"
      },
      "execution_count": 37,
      "outputs": [
        {
          "output_type": "stream",
          "name": "stdout",
          "text": [
            "Area under curve (AUC):  0.824404761904762\n"
          ]
        }
      ]
    },
    {
      "cell_type": "code",
      "source": [
        "fpr, tpr, thresholds = roc_curve(test_labels_encoded, prediction_prob) # outputs false positive rate, true positive rate, and corresponding thresholds.\n",
        "plt.figure(1)\n",
        "plt.plot([0,1],[0,1], 'y--')\n",
        "plt.plot(fpr, tpr, linestyle = '--')\n",
        "plt.xlabel('False positive rate')\n",
        "plt.ylabel('True positive rate')\n",
        "plt.title('ROC curve')\n",
        "plt.show()"
      ],
      "metadata": {
        "id": "x2VvGptHKCJV",
        "colab": {
          "base_uri": "https://localhost:8080/",
          "height": 295
        },
        "outputId": "e9d6c12b-7c78-4f21-9945-35bcb3b621ca"
      },
      "execution_count": 38,
      "outputs": [
        {
          "output_type": "display_data",
          "data": {
            "text/plain": [
              "<Figure size 432x288 with 1 Axes>"
            ],
            "image/png": "[encoded data removed]"
          },
          "metadata": {
            "needs_background": "light"
          }
        }
      ]
    }
  ]
}